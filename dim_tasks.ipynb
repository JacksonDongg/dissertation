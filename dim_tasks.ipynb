{
 "cells": [
  {
   "cell_type": "code",
   "execution_count": 1,
   "metadata": {
    "collapsed": true,
    "ExecuteTime": {
     "start_time": "2023-06-08T16:58:52.245329Z",
     "end_time": "2023-06-08T16:58:52.971328Z"
    }
   },
   "outputs": [],
   "source": [
    "import pickle\n",
    "import pandas as pd\n",
    "import matplotlib.pyplot as plt"
   ]
  },
  {
   "cell_type": "code",
   "execution_count": 2,
   "outputs": [],
   "source": [
    "#load the data\n",
    "with open('data/vicuna_metrics.pkl', 'rb') as f:\n",
    "    data = pickle.load(f)"
   ],
   "metadata": {
    "collapsed": false,
    "ExecuteTime": {
     "start_time": "2023-06-08T16:58:54.563331Z",
     "end_time": "2023-06-08T16:58:54.585329Z"
    }
   }
  },
  {
   "cell_type": "code",
   "execution_count": 3,
   "outputs": [
    {
     "name": "stdout",
     "output_type": "stream",
     "text": [
      "dict_keys(['answer_vicuna-7B_summarisation_arxiv_0.65.pkl', 'answer_vicuna-7B_reconstruction_news_0.5.pkl', 'answer_vicuna-13B_summarisation_arxiv_0.8.pkl', 'answer_vicuna-7B_qa_news_0.35.pkl', 'answer_vicuna-13B_reconstruction_news_0.35.pkl', 'answer_vicuna-7B_reconstruction_arxiv_0.5.pkl', 'answer_vicuna-13B_reconstruction_arxiv_0.2.pkl', 'answer_vicuna-7B_reconstruction_arxiv_0.65.pkl', 'answer_vicuna-7B_qa_news_0.2.pkl', 'answer_vicuna-7B_qa_arxiv_0.2.pkl', 'answer_vicuna-13B_summarisation_news_0.5.pkl', 'answer_vicuna-13B_qa_arxiv_0.35.pkl', 'answer_vicuna-13B_summarisation_arxiv_0.35.pkl', 'answer_vicuna-7B_summarisation_news_0.35.pkl', 'answer_vicuna-13B_reconstruction_news_0.5.pkl', 'answer_vicuna-7B_qa_news_0.5.pkl', 'answer_vicuna-7B_reconstruction_news_0.2.pkl', 'answer_vicuna-13B_reconstruction_arxiv_0.5.pkl', 'answer_vicuna-13B_qa_news_0.8.pkl', 'answer_vicuna-7B_summarisation_news_0.2.pkl', 'answer_vicuna-13B_qa_arxiv_0.2.pkl', 'answer_vicuna-7B_qa_arxiv_0.35.pkl', 'answer_vicuna-13B_qa_arxiv_0.8.pkl', 'answer_vicuna-7B_summarisation_arxiv_0.2.pkl', 'answer_vicuna-7B_summarisation_news_0.5.pkl', 'answer_vicuna-7B_summarisation_arxiv_0.35.pkl', 'answer_vicuna-7B_summarisation_news_0.8.pkl', 'answer_vicuna-13B_summarisation_news_0.35.pkl', 'answer_vicuna-7B_reconstruction_arxiv_0.2.pkl', 'answer_vicuna-7B_summarisation_arxiv_0.8.pkl', 'answer_vicuna-13B_summarisation_arxiv_0.65.pkl', 'answer_vicuna-13B_qa_news_0.2.pkl', 'answer_vicuna-7B_reconstruction_arxiv_0.8.pkl', 'answer_vicuna-7B_qa_news_0.65.pkl', 'answer_vicuna-7B_qa_news_0.8.pkl', 'answer_vicuna-13B_reconstruction_news_0.65.pkl', 'answer_vicuna-13B_summarisation_news_0.2.pkl', 'answer_vicuna-13B_qa_news_0.35.pkl', 'answer_vicuna-7B_reconstruction_news_0.8.pkl', 'answer_vicuna-7B_reconstruction_arxiv_0.35.pkl', 'answer_vicuna-13B_qa_arxiv_0.5.pkl', 'answer_vicuna-7B_reconstruction_news_0.35.pkl', 'answer_vicuna-13B_reconstruction_arxiv_0.8.pkl', 'answer_vicuna-7B_summarisation_arxiv_0.5.pkl', 'answer_vicuna-13B_summarisation_news_0.65.pkl', 'answer_vicuna-7B_qa_arxiv_0.8.pkl', 'answer_vicuna-7B_reconstruction_news_0.65.pkl', 'answer_vicuna-7B_qa_arxiv_0.5.pkl', 'answer_vicuna-7B_qa_arxiv_0.65.pkl', 'answer_vicuna-13B_qa_news_0.65.pkl', 'answer_vicuna-13B_reconstruction_news_0.8.pkl', 'answer_vicuna-13B_summarisation_arxiv_0.5.pkl', 'answer_vicuna-13B_reconstruction_news_0.2.pkl', 'answer_vicuna-13B_summarisation_arxiv_0.2.pkl', 'answer_vicuna-13B_reconstruction_arxiv_0.35.pkl', 'answer_vicuna-13B_reconstruction_arxiv_0.65.pkl', 'answer_vicuna-7B_summarisation_news_0.65.pkl', 'answer_vicuna-13B_qa_news_0.5.pkl', 'answer_vicuna-13B_summarisation_news_0.8.pkl', 'answer_vicuna-13B_qa_arxiv_0.65.pkl'])\n"
     ]
    }
   ],
   "source": [
    "print(data.keys())"
   ],
   "metadata": {
    "collapsed": false,
    "ExecuteTime": {
     "start_time": "2023-06-08T16:58:55.476330Z",
     "end_time": "2023-06-08T16:58:55.525327Z"
    }
   }
  },
  {
   "cell_type": "markdown",
   "source": [
    "# 1.Test with tasks as dimensions"
   ],
   "metadata": {
    "collapsed": false
   }
  },
  {
   "cell_type": "markdown",
   "source": [
    "### (1) Summarisation"
   ],
   "metadata": {
    "collapsed": false
   }
  },
  {
   "cell_type": "code",
   "execution_count": 4,
   "outputs": [],
   "source": [
    "summarisation = {}\n",
    "\n",
    "for key, value in data.items():\n",
    "    if 'summarisation' in key:\n",
    "        summarisation[key] = value"
   ],
   "metadata": {
    "collapsed": false,
    "ExecuteTime": {
     "start_time": "2023-06-08T16:59:53.429340Z",
     "end_time": "2023-06-08T16:59:53.452339Z"
    }
   }
  },
  {
   "cell_type": "code",
   "execution_count": 5,
   "outputs": [
    {
     "data": {
      "text/plain": "dict_keys(['answer_vicuna-7B_summarisation_arxiv_0.65.pkl', 'answer_vicuna-13B_summarisation_arxiv_0.8.pkl', 'answer_vicuna-13B_summarisation_news_0.5.pkl', 'answer_vicuna-13B_summarisation_arxiv_0.35.pkl', 'answer_vicuna-7B_summarisation_news_0.35.pkl', 'answer_vicuna-7B_summarisation_news_0.2.pkl', 'answer_vicuna-7B_summarisation_arxiv_0.2.pkl', 'answer_vicuna-7B_summarisation_news_0.5.pkl', 'answer_vicuna-7B_summarisation_arxiv_0.35.pkl', 'answer_vicuna-7B_summarisation_news_0.8.pkl', 'answer_vicuna-13B_summarisation_news_0.35.pkl', 'answer_vicuna-7B_summarisation_arxiv_0.8.pkl', 'answer_vicuna-13B_summarisation_arxiv_0.65.pkl', 'answer_vicuna-13B_summarisation_news_0.2.pkl', 'answer_vicuna-7B_summarisation_arxiv_0.5.pkl', 'answer_vicuna-13B_summarisation_news_0.65.pkl', 'answer_vicuna-13B_summarisation_arxiv_0.5.pkl', 'answer_vicuna-13B_summarisation_arxiv_0.2.pkl', 'answer_vicuna-7B_summarisation_news_0.65.pkl', 'answer_vicuna-13B_summarisation_news_0.8.pkl'])"
     },
     "execution_count": 5,
     "metadata": {},
     "output_type": "execute_result"
    }
   ],
   "source": [
    "summarisation.keys()"
   ],
   "metadata": {
    "collapsed": false,
    "ExecuteTime": {
     "start_time": "2023-06-08T16:59:54.270339Z",
     "end_time": "2023-06-08T16:59:54.306336Z"
    }
   }
  },
  {
   "cell_type": "code",
   "execution_count": 7,
   "outputs": [
    {
     "name": "stdout",
     "output_type": "stream",
     "text": [
      "{'a': {'self-info-phrase': {'bleu': 0.07828678464706619, 'precisions': [0.47182233146067415, 0.14452709883103082, 0.05209077912794854, 0.02271907681211684], 'brevity_penalty': 0.8259782828525951, 'length_ratio': 0.8394988946204863, 'translation_length': 11392, 'reference_length': 13570, 'meteor': 0.28509641810832553, 'rouge1': 0.41364581544939305, 'rouge2': 0.12182012426545843, 'rougeL': 0.23474415961277306, 'rougeLsum': 0.23514841479230608, 'bertscore_precision': 0.8810387343168259, 'bertscore_recall': 0.8655300480127335, 'bertscore_f1': 0.8731453263759613}, 'Random-phrase': {'bleu': 0.07686701975295536, 'precisions': [0.4915655519384433, 0.15632161004284148, 0.060984200462916374, 0.028870590627223747], 'brevity_penalty': 0.7127244826010118, 'length_ratio': 0.7470154753131909, 'translation_length': 10137, 'reference_length': 13570, 'meteor': 0.2682419327394581, 'rouge1': 0.4070532178455347, 'rouge2': 0.12811982641454586, 'rougeL': 0.23181070858678632, 'rougeLsum': 0.231758636378912, 'bertscore_precision': 0.8781224995851517, 'bertscore_recall': 0.8623418897390366, 'bertscore_f1': 0.8700986921787262}, 'self-info-token': {'bleu': 0.0654395200210905, 'precisions': [0.4421360033375052, 0.11981489272191838, 0.038353839626644036, 0.015318784766795036], 'brevity_penalty': 0.8761231251147812, 'length_ratio': 0.8831982313927782, 'translation_length': 11985, 'reference_length': 13570, 'meteor': 0.26178753440360025, 'rouge1': 0.3896385976306629, 'rouge2': 0.09994198509466656, 'rougeL': 0.21488671383146127, 'rougeLsum': 0.21472543818857873, 'bertscore_precision': 0.8708224785327912, 'bertscore_recall': 0.8559799593687057, 'bertscore_f1': 0.8632876563072205}, 'Random-token': {'bleu': 0.045325252803473035, 'precisions': [0.43262072914678373, 0.10454808248217383, 0.028896672504378284, 0.010512870898015328], 'brevity_penalty': 0.7444612447047548, 'length_ratio': 0.772144436256448, 'translation_length': 10478, 'reference_length': 13570, 'meteor': 0.22312644275132787, 'rouge1': 0.35841117132802536, 'rouge2': 0.07877867713200665, 'rougeL': 0.19922205130177273, 'rougeLsum': 0.19879241999150649, 'bertscore_precision': 0.8672153145074845, 'bertscore_recall': 0.8490971028804779, 'bertscore_f1': 0.8579857468605041}}}\n"
     ]
    }
   ],
   "source": [
    "summarisation_data = {}\n",
    "\n",
    "for key, value in summarisation.items():\n",
    "    key = key[0]\n",
    "    if key not in summarisation_data:\n",
    "        summarisation_data[key] = {}\n",
    "\n",
    "    for dimension in ['self-info-phrase', 'Random-phrase', 'self-info-token', 'Random-token']:\n",
    "        dimension_values = value[dimension]\n",
    "        if dimension not in summarisation_data[key]:\n",
    "            summarisation_data[key][dimension] = {}\n",
    "\n",
    "        for metric, metric_value in dimension_values.items():\n",
    "            if metric == 'precisions':\n",
    "                precision_values = metric_value\n",
    "                if isinstance(precision_values[0], list):\n",
    "                    average_precision = [sum(p) / len(p) for p in zip(*precision_values)]\n",
    "                else:\n",
    "                    average_precision = precision_values\n",
    "                summarisation_data[key][dimension][metric] = average_precision\n",
    "            elif metric in ['brevity_penalty', 'length_ratio']:\n",
    "                summarisation_data[key][dimension][metric] = metric_value\n",
    "            else:\n",
    "                summarisation_data[key][dimension][metric] = metric_value\n",
    "\n",
    "print(summarisation_data)"
   ],
   "metadata": {
    "collapsed": false,
    "ExecuteTime": {
     "start_time": "2023-06-08T17:00:21.724336Z",
     "end_time": "2023-06-08T17:00:21.756329Z"
    }
   }
  },
  {
   "cell_type": "code",
   "execution_count": 15,
   "outputs": [
    {
     "data": {
      "text/plain": "                                                      self-info-phrase  \\\nbleu                                                          0.078287   \nprecisions           [0.47182233146067415, 0.14452709883103082, 0.0...   \nbrevity_penalty                                               0.825978   \nlength_ratio                                                  0.839499   \ntranslation_length                                               11392   \nreference_length                                                 13570   \nmeteor                                                        0.285096   \nrouge1                                                        0.413646   \nrouge2                                                         0.12182   \nrougeL                                                        0.234744   \nrougeLsum                                                     0.235148   \nbertscore_precision                                           0.881039   \nbertscore_recall                                               0.86553   \nbertscore_f1                                                  0.873145   \n\n                                                         Random-phrase  \\\nbleu                                                          0.076867   \nprecisions           [0.4915655519384433, 0.15632161004284148, 0.06...   \nbrevity_penalty                                               0.712724   \nlength_ratio                                                  0.747015   \ntranslation_length                                               10137   \nreference_length                                                 13570   \nmeteor                                                        0.268242   \nrouge1                                                        0.407053   \nrouge2                                                         0.12812   \nrougeL                                                        0.231811   \nrougeLsum                                                     0.231759   \nbertscore_precision                                           0.878122   \nbertscore_recall                                              0.862342   \nbertscore_f1                                                  0.870099   \n\n                                                       self-info-token  \\\nbleu                                                           0.06544   \nprecisions           [0.4421360033375052, 0.11981489272191838, 0.03...   \nbrevity_penalty                                               0.876123   \nlength_ratio                                                  0.883198   \ntranslation_length                                               11985   \nreference_length                                                 13570   \nmeteor                                                        0.261788   \nrouge1                                                        0.389639   \nrouge2                                                        0.099942   \nrougeL                                                        0.214887   \nrougeLsum                                                     0.214725   \nbertscore_precision                                           0.870822   \nbertscore_recall                                               0.85598   \nbertscore_f1                                                  0.863288   \n\n                                                          Random-token  \nbleu                                                          0.045325  \nprecisions           [0.43262072914678373, 0.10454808248217383, 0.0...  \nbrevity_penalty                                               0.744461  \nlength_ratio                                                  0.772144  \ntranslation_length                                               10478  \nreference_length                                                 13570  \nmeteor                                                        0.223126  \nrouge1                                                        0.358411  \nrouge2                                                        0.078779  \nrougeL                                                        0.199222  \nrougeLsum                                                     0.198792  \nbertscore_precision                                           0.867215  \nbertscore_recall                                              0.849097  \nbertscore_f1                                                  0.857986  ",
      "text/html": "<div>\n<style scoped>\n    .dataframe tbody tr th:only-of-type {\n        vertical-align: middle;\n    }\n\n    .dataframe tbody tr th {\n        vertical-align: top;\n    }\n\n    .dataframe thead th {\n        text-align: right;\n    }\n</style>\n<table border=\"1\" class=\"dataframe\">\n  <thead>\n    <tr style=\"text-align: right;\">\n      <th></th>\n      <th>self-info-phrase</th>\n      <th>Random-phrase</th>\n      <th>self-info-token</th>\n      <th>Random-token</th>\n    </tr>\n  </thead>\n  <tbody>\n    <tr>\n      <th>bleu</th>\n      <td>0.078287</td>\n      <td>0.076867</td>\n      <td>0.06544</td>\n      <td>0.045325</td>\n    </tr>\n    <tr>\n      <th>precisions</th>\n      <td>[0.47182233146067415, 0.14452709883103082, 0.0...</td>\n      <td>[0.4915655519384433, 0.15632161004284148, 0.06...</td>\n      <td>[0.4421360033375052, 0.11981489272191838, 0.03...</td>\n      <td>[0.43262072914678373, 0.10454808248217383, 0.0...</td>\n    </tr>\n    <tr>\n      <th>brevity_penalty</th>\n      <td>0.825978</td>\n      <td>0.712724</td>\n      <td>0.876123</td>\n      <td>0.744461</td>\n    </tr>\n    <tr>\n      <th>length_ratio</th>\n      <td>0.839499</td>\n      <td>0.747015</td>\n      <td>0.883198</td>\n      <td>0.772144</td>\n    </tr>\n    <tr>\n      <th>translation_length</th>\n      <td>11392</td>\n      <td>10137</td>\n      <td>11985</td>\n      <td>10478</td>\n    </tr>\n    <tr>\n      <th>reference_length</th>\n      <td>13570</td>\n      <td>13570</td>\n      <td>13570</td>\n      <td>13570</td>\n    </tr>\n    <tr>\n      <th>meteor</th>\n      <td>0.285096</td>\n      <td>0.268242</td>\n      <td>0.261788</td>\n      <td>0.223126</td>\n    </tr>\n    <tr>\n      <th>rouge1</th>\n      <td>0.413646</td>\n      <td>0.407053</td>\n      <td>0.389639</td>\n      <td>0.358411</td>\n    </tr>\n    <tr>\n      <th>rouge2</th>\n      <td>0.12182</td>\n      <td>0.12812</td>\n      <td>0.099942</td>\n      <td>0.078779</td>\n    </tr>\n    <tr>\n      <th>rougeL</th>\n      <td>0.234744</td>\n      <td>0.231811</td>\n      <td>0.214887</td>\n      <td>0.199222</td>\n    </tr>\n    <tr>\n      <th>rougeLsum</th>\n      <td>0.235148</td>\n      <td>0.231759</td>\n      <td>0.214725</td>\n      <td>0.198792</td>\n    </tr>\n    <tr>\n      <th>bertscore_precision</th>\n      <td>0.881039</td>\n      <td>0.878122</td>\n      <td>0.870822</td>\n      <td>0.867215</td>\n    </tr>\n    <tr>\n      <th>bertscore_recall</th>\n      <td>0.86553</td>\n      <td>0.862342</td>\n      <td>0.85598</td>\n      <td>0.849097</td>\n    </tr>\n    <tr>\n      <th>bertscore_f1</th>\n      <td>0.873145</td>\n      <td>0.870099</td>\n      <td>0.863288</td>\n      <td>0.857986</td>\n    </tr>\n  </tbody>\n</table>\n</div>"
     },
     "execution_count": 15,
     "metadata": {},
     "output_type": "execute_result"
    }
   ],
   "source": [
    "df_summarisation = pd.DataFrame(summarisation_data['a'])\n",
    "df_summarisation"
   ],
   "metadata": {
    "collapsed": false,
    "ExecuteTime": {
     "start_time": "2023-06-08T17:01:44.573341Z",
     "end_time": "2023-06-08T17:01:44.601340Z"
    }
   }
  },
  {
   "cell_type": "markdown",
   "source": [
    "### (2) reconstruction"
   ],
   "metadata": {
    "collapsed": false
   }
  },
  {
   "cell_type": "code",
   "execution_count": 16,
   "outputs": [],
   "source": [
    "reconstruction = {}\n",
    "\n",
    "for key, value in data.items():\n",
    "    if 'reconstruction' in key:\n",
    "        reconstruction[key] = value"
   ],
   "metadata": {
    "collapsed": false,
    "ExecuteTime": {
     "start_time": "2023-06-08T17:01:46.950329Z",
     "end_time": "2023-06-08T17:01:46.974339Z"
    }
   }
  },
  {
   "cell_type": "code",
   "execution_count": 10,
   "outputs": [
    {
     "data": {
      "text/plain": "dict_keys(['answer_vicuna-7B_reconstruction_news_0.5.pkl', 'answer_vicuna-13B_reconstruction_news_0.35.pkl', 'answer_vicuna-7B_reconstruction_arxiv_0.5.pkl', 'answer_vicuna-13B_reconstruction_arxiv_0.2.pkl', 'answer_vicuna-7B_reconstruction_arxiv_0.65.pkl', 'answer_vicuna-13B_reconstruction_news_0.5.pkl', 'answer_vicuna-7B_reconstruction_news_0.2.pkl', 'answer_vicuna-13B_reconstruction_arxiv_0.5.pkl', 'answer_vicuna-7B_reconstruction_arxiv_0.2.pkl', 'answer_vicuna-7B_reconstruction_arxiv_0.8.pkl', 'answer_vicuna-13B_reconstruction_news_0.65.pkl', 'answer_vicuna-7B_reconstruction_news_0.8.pkl', 'answer_vicuna-7B_reconstruction_arxiv_0.35.pkl', 'answer_vicuna-7B_reconstruction_news_0.35.pkl', 'answer_vicuna-13B_reconstruction_arxiv_0.8.pkl', 'answer_vicuna-7B_reconstruction_news_0.65.pkl', 'answer_vicuna-13B_reconstruction_news_0.8.pkl', 'answer_vicuna-13B_reconstruction_news_0.2.pkl', 'answer_vicuna-13B_reconstruction_arxiv_0.35.pkl', 'answer_vicuna-13B_reconstruction_arxiv_0.65.pkl'])"
     },
     "execution_count": 10,
     "metadata": {},
     "output_type": "execute_result"
    }
   ],
   "source": [
    "reconstruction.keys()"
   ],
   "metadata": {
    "collapsed": false,
    "ExecuteTime": {
     "start_time": "2023-06-08T17:01:02.025332Z",
     "end_time": "2023-06-08T17:01:02.054330Z"
    }
   }
  },
  {
   "cell_type": "code",
   "execution_count": 17,
   "outputs": [
    {
     "name": "stdout",
     "output_type": "stream",
     "text": [
      "{'a': {'self-info-phrase': {'bleu': 0.2187111599150765, 'precisions': [0.6672620566471038, 0.3487128050819124, 0.19398191026070508, 0.11246470669536202], 'brevity_penalty': 0.8193802484456546, 'length_ratio': 0.8338843786827288, 'translation_length': 50947, 'reference_length': 61096, 'meteor': 0.3645376389796159, 'rouge1': 0.5475119135247111, 'rouge2': 0.2883742083892117, 'rougeL': 0.3521919883037854, 'rougeLsum': 0.42562431662397526, 'bertscore_precision': 0.8177783966064454, 'bertscore_recall': 0.8310399186611176, 'bertscore_f1': 0.8242494553327561}, 'Random-phrase': {'bleu': 0.1987896550277276, 'precisions': [0.717371155131162, 0.35834791437150326, 0.19470482540644687, 0.11084112555051744], 'brevity_penalty': 0.7283869759585044, 'length_ratio': 0.7593459473615294, 'translation_length': 46393, 'reference_length': 61096, 'meteor': 0.33851119715699085, 'rouge1': 0.5457894344384415, 'rouge2': 0.27413593672117237, 'rougeL': 0.36281782233183457, 'rougeLsum': 0.41443131213821305, 'bertscore_precision': 0.7195948696136475, 'bertscore_recall': 0.8258515173196792, 'bertscore_f1': 0.7687358880043029}, 'self-info-token': {'bleu': 0.03763617611858048, 'precisions': [0.7518238887003733, 0.28522746634861135, 0.11101129363449692, 0.04902045024918371], 'brevity_penalty': 0.2036303515274493, 'length_ratio': 0.38588450962419796, 'translation_length': 23576, 'reference_length': 61096, 'meteor': 0.20894261256277882, 'rouge1': 0.40329537673374527, 'rouge2': 0.14673048120093654, 'rougeL': 0.34807861928054096, 'rougeLsum': 0.3483530530084732, 'bertscore_precision': 0.8293144404888153, 'bertscore_recall': 0.8156214076280593, 'bertscore_f1': 0.8222874611616134}, 'Random-token': {'bleu': 0.02701424872573375, 'precisions': [0.7682065476758614, 0.3042581758895176, 0.10884648742411102, 0.044543429844097995], 'brevity_penalty': 0.14723576272548755, 'length_ratio': 0.34296844310593166, 'translation_length': 20954, 'reference_length': 61096, 'meteor': 0.1662636771741624, 'rouge1': 0.35923219067813883, 'rouge2': 0.13206582457408117, 'rougeL': 0.27879316281590516, 'rougeLsum': 0.2824506226764236, 'bertscore_precision': 0.8398069775104523, 'bertscore_recall': 0.8207225400209427, 'bertscore_f1': 0.829999406337738}}}\n"
     ]
    }
   ],
   "source": [
    "reconstruction_data = {}\n",
    "\n",
    "for key, value in reconstruction.items():\n",
    "    key = key[0]\n",
    "    if key not in reconstruction_data:\n",
    "        reconstruction_data[key] = {}\n",
    "\n",
    "    for dimension in ['self-info-phrase', 'Random-phrase', 'self-info-token', 'Random-token']:\n",
    "        dimension_values = value[dimension]\n",
    "        if dimension not in reconstruction_data[key]:\n",
    "            reconstruction_data[key][dimension] = {}\n",
    "\n",
    "        for metric, metric_value in dimension_values.items():\n",
    "            if metric == 'precisions':\n",
    "                precision_values = metric_value\n",
    "                if isinstance(precision_values[0], list):\n",
    "                    average_precision = [sum(p) / len(p) for p in zip(*precision_values)]\n",
    "                else:\n",
    "                    average_precision = precision_values\n",
    "                reconstruction_data[key][dimension][metric] = average_precision\n",
    "            elif metric in ['brevity_penalty', 'length_ratio']:\n",
    "                reconstruction_data[key][dimension][metric] = metric_value\n",
    "            else:\n",
    "                reconstruction_data[key][dimension][metric] = metric_value\n",
    "\n",
    "print(reconstruction_data)"
   ],
   "metadata": {
    "collapsed": false,
    "ExecuteTime": {
     "start_time": "2023-06-08T17:01:48.800337Z",
     "end_time": "2023-06-08T17:01:48.817368Z"
    }
   }
  },
  {
   "cell_type": "code",
   "execution_count": 18,
   "outputs": [
    {
     "data": {
      "text/plain": "                                                      self-info-phrase  \\\nbleu                                                          0.218711   \nprecisions           [0.6672620566471038, 0.3487128050819124, 0.193...   \nbrevity_penalty                                                0.81938   \nlength_ratio                                                  0.833884   \ntranslation_length                                               50947   \nreference_length                                                 61096   \nmeteor                                                        0.364538   \nrouge1                                                        0.547512   \nrouge2                                                        0.288374   \nrougeL                                                        0.352192   \nrougeLsum                                                     0.425624   \nbertscore_precision                                           0.817778   \nbertscore_recall                                               0.83104   \nbertscore_f1                                                  0.824249   \n\n                                                         Random-phrase  \\\nbleu                                                           0.19879   \nprecisions           [0.717371155131162, 0.35834791437150326, 0.194...   \nbrevity_penalty                                               0.728387   \nlength_ratio                                                  0.759346   \ntranslation_length                                               46393   \nreference_length                                                 61096   \nmeteor                                                        0.338511   \nrouge1                                                        0.545789   \nrouge2                                                        0.274136   \nrougeL                                                        0.362818   \nrougeLsum                                                     0.414431   \nbertscore_precision                                           0.719595   \nbertscore_recall                                              0.825852   \nbertscore_f1                                                  0.768736   \n\n                                                       self-info-token  \\\nbleu                                                          0.037636   \nprecisions           [0.7518238887003733, 0.28522746634861135, 0.11...   \nbrevity_penalty                                                0.20363   \nlength_ratio                                                  0.385885   \ntranslation_length                                               23576   \nreference_length                                                 61096   \nmeteor                                                        0.208943   \nrouge1                                                        0.403295   \nrouge2                                                         0.14673   \nrougeL                                                        0.348079   \nrougeLsum                                                     0.348353   \nbertscore_precision                                           0.829314   \nbertscore_recall                                              0.815621   \nbertscore_f1                                                  0.822287   \n\n                                                          Random-token  \nbleu                                                          0.027014  \nprecisions           [0.7682065476758614, 0.3042581758895176, 0.108...  \nbrevity_penalty                                               0.147236  \nlength_ratio                                                  0.342968  \ntranslation_length                                               20954  \nreference_length                                                 61096  \nmeteor                                                        0.166264  \nrouge1                                                        0.359232  \nrouge2                                                        0.132066  \nrougeL                                                        0.278793  \nrougeLsum                                                     0.282451  \nbertscore_precision                                           0.839807  \nbertscore_recall                                              0.820723  \nbertscore_f1                                                  0.829999  ",
      "text/html": "<div>\n<style scoped>\n    .dataframe tbody tr th:only-of-type {\n        vertical-align: middle;\n    }\n\n    .dataframe tbody tr th {\n        vertical-align: top;\n    }\n\n    .dataframe thead th {\n        text-align: right;\n    }\n</style>\n<table border=\"1\" class=\"dataframe\">\n  <thead>\n    <tr style=\"text-align: right;\">\n      <th></th>\n      <th>self-info-phrase</th>\n      <th>Random-phrase</th>\n      <th>self-info-token</th>\n      <th>Random-token</th>\n    </tr>\n  </thead>\n  <tbody>\n    <tr>\n      <th>bleu</th>\n      <td>0.218711</td>\n      <td>0.19879</td>\n      <td>0.037636</td>\n      <td>0.027014</td>\n    </tr>\n    <tr>\n      <th>precisions</th>\n      <td>[0.6672620566471038, 0.3487128050819124, 0.193...</td>\n      <td>[0.717371155131162, 0.35834791437150326, 0.194...</td>\n      <td>[0.7518238887003733, 0.28522746634861135, 0.11...</td>\n      <td>[0.7682065476758614, 0.3042581758895176, 0.108...</td>\n    </tr>\n    <tr>\n      <th>brevity_penalty</th>\n      <td>0.81938</td>\n      <td>0.728387</td>\n      <td>0.20363</td>\n      <td>0.147236</td>\n    </tr>\n    <tr>\n      <th>length_ratio</th>\n      <td>0.833884</td>\n      <td>0.759346</td>\n      <td>0.385885</td>\n      <td>0.342968</td>\n    </tr>\n    <tr>\n      <th>translation_length</th>\n      <td>50947</td>\n      <td>46393</td>\n      <td>23576</td>\n      <td>20954</td>\n    </tr>\n    <tr>\n      <th>reference_length</th>\n      <td>61096</td>\n      <td>61096</td>\n      <td>61096</td>\n      <td>61096</td>\n    </tr>\n    <tr>\n      <th>meteor</th>\n      <td>0.364538</td>\n      <td>0.338511</td>\n      <td>0.208943</td>\n      <td>0.166264</td>\n    </tr>\n    <tr>\n      <th>rouge1</th>\n      <td>0.547512</td>\n      <td>0.545789</td>\n      <td>0.403295</td>\n      <td>0.359232</td>\n    </tr>\n    <tr>\n      <th>rouge2</th>\n      <td>0.288374</td>\n      <td>0.274136</td>\n      <td>0.14673</td>\n      <td>0.132066</td>\n    </tr>\n    <tr>\n      <th>rougeL</th>\n      <td>0.352192</td>\n      <td>0.362818</td>\n      <td>0.348079</td>\n      <td>0.278793</td>\n    </tr>\n    <tr>\n      <th>rougeLsum</th>\n      <td>0.425624</td>\n      <td>0.414431</td>\n      <td>0.348353</td>\n      <td>0.282451</td>\n    </tr>\n    <tr>\n      <th>bertscore_precision</th>\n      <td>0.817778</td>\n      <td>0.719595</td>\n      <td>0.829314</td>\n      <td>0.839807</td>\n    </tr>\n    <tr>\n      <th>bertscore_recall</th>\n      <td>0.83104</td>\n      <td>0.825852</td>\n      <td>0.815621</td>\n      <td>0.820723</td>\n    </tr>\n    <tr>\n      <th>bertscore_f1</th>\n      <td>0.824249</td>\n      <td>0.768736</td>\n      <td>0.822287</td>\n      <td>0.829999</td>\n    </tr>\n  </tbody>\n</table>\n</div>"
     },
     "execution_count": 18,
     "metadata": {},
     "output_type": "execute_result"
    }
   ],
   "source": [
    "df_reconstruction = pd.DataFrame(reconstruction_data['a'])\n",
    "df_reconstruction"
   ],
   "metadata": {
    "collapsed": false,
    "ExecuteTime": {
     "start_time": "2023-06-08T17:01:51.067328Z",
     "end_time": "2023-06-08T17:01:51.093339Z"
    }
   }
  },
  {
   "cell_type": "markdown",
   "source": [
    "### (3). QA"
   ],
   "metadata": {
    "collapsed": false
   }
  },
  {
   "cell_type": "code",
   "execution_count": 19,
   "outputs": [],
   "source": [
    "qa = {}\n",
    "\n",
    "for key, value in data.items():\n",
    "    if 'qa' in key:\n",
    "        qa[key] = value"
   ],
   "metadata": {
    "collapsed": false,
    "ExecuteTime": {
     "start_time": "2023-06-08T17:02:16.375332Z",
     "end_time": "2023-06-08T17:02:16.398339Z"
    }
   }
  },
  {
   "cell_type": "code",
   "execution_count": 20,
   "outputs": [
    {
     "data": {
      "text/plain": "dict_keys(['answer_vicuna-7B_qa_news_0.35.pkl', 'answer_vicuna-7B_qa_news_0.2.pkl', 'answer_vicuna-7B_qa_arxiv_0.2.pkl', 'answer_vicuna-13B_qa_arxiv_0.35.pkl', 'answer_vicuna-7B_qa_news_0.5.pkl', 'answer_vicuna-13B_qa_news_0.8.pkl', 'answer_vicuna-13B_qa_arxiv_0.2.pkl', 'answer_vicuna-7B_qa_arxiv_0.35.pkl', 'answer_vicuna-13B_qa_arxiv_0.8.pkl', 'answer_vicuna-13B_qa_news_0.2.pkl', 'answer_vicuna-7B_qa_news_0.65.pkl', 'answer_vicuna-7B_qa_news_0.8.pkl', 'answer_vicuna-13B_qa_news_0.35.pkl', 'answer_vicuna-13B_qa_arxiv_0.5.pkl', 'answer_vicuna-7B_qa_arxiv_0.8.pkl', 'answer_vicuna-7B_qa_arxiv_0.5.pkl', 'answer_vicuna-7B_qa_arxiv_0.65.pkl', 'answer_vicuna-13B_qa_news_0.65.pkl', 'answer_vicuna-13B_qa_news_0.5.pkl', 'answer_vicuna-13B_qa_arxiv_0.65.pkl'])"
     },
     "execution_count": 20,
     "metadata": {},
     "output_type": "execute_result"
    }
   ],
   "source": [
    "qa.keys()"
   ],
   "metadata": {
    "collapsed": false,
    "ExecuteTime": {
     "start_time": "2023-06-08T17:02:22.862330Z",
     "end_time": "2023-06-08T17:02:22.888339Z"
    }
   }
  },
  {
   "cell_type": "code",
   "execution_count": 21,
   "outputs": [
    {
     "name": "stdout",
     "output_type": "stream",
     "text": [
      "{'a': {'self-info-phrase': {'bleu': 0.4124799166654756, 'precisions': [0.6882552313586796, 0.4662402011536755, 0.3626781472684085, 0.29965727909402473], 'brevity_penalty': 0.9545011219741472, 'length_ratio': 0.9555054914108702, 'translation_length': 27144, 'reference_length': 28408, 'meteor': 0.5339487746958341, 'rouge1': 0.6664251698523094, 'rouge2': 0.44606518042111, 'rougeL': 0.5183346130748925, 'rougeLsum': 0.6390369048321534, 'bertscore_precision': 0.9191678887605668, 'bertscore_recall': 0.908146892786026, 'bertscore_f1': 0.9135727423429489}, 'Random-phrase': {'bleu': 0.4081633854086722, 'precisions': [0.6901260504201681, 0.4720967013104383, 0.36706229210765046, 0.30186674760965243], 'brevity_penalty': 0.9363871272564492, 'length_ratio': 0.9383272317656998, 'translation_length': 26656, 'reference_length': 28408, 'meteor': 0.524273771081444, 'rouge1': 0.6603290101990151, 'rouge2': 0.44531860637435056, 'rougeL': 0.5138170739307372, 'rougeLsum': 0.6329269610580661, 'bertscore_precision': 0.9196618038415909, 'bertscore_recall': 0.9071852362155914, 'bertscore_f1': 0.9132710367441177}, 'self-info-token': {'bleu': 0.38188122649929396, 'precisions': [0.6743720491029273, 0.4416303317535545, 0.3407421503330162, 0.2806494746895893], 'brevity_penalty': 0.9295894185653435, 'length_ratio': 0.9319557871022247, 'translation_length': 26475, 'reference_length': 28408, 'meteor': 0.5041766815306928, 'rouge1': 0.637649469668786, 'rouge2': 0.40895387999234556, 'rougeL': 0.4925690266645818, 'rougeLsum': 0.6106844510147651, 'bertscore_precision': 0.9142024958133698, 'bertscore_recall': 0.9016674816608429, 'bertscore_f1': 0.9077971321344376}, 'Random-token': {'bleu': 0.3752495354461442, 'precisions': [0.6375657614104934, 0.4097103310502283, 0.31046828010883576, 0.25427565392354123], 'brevity_penalty': 0.9902370782810286, 'length_ratio': 0.9902844269219938, 'translation_length': 28132, 'reference_length': 28408, 'meteor': 0.4924347375664634, 'rouge1': 0.6322255951333069, 'rouge2': 0.4030443185925877, 'rougeL': 0.48025910844424724, 'rougeLsum': 0.6049325692131983, 'bertscore_precision': 0.911079483628273, 'bertscore_recall': 0.9013108515739441, 'bertscore_f1': 0.9060899168252945}}}\n"
     ]
    }
   ],
   "source": [
    "qa_data = {}\n",
    "\n",
    "for key, value in qa.items():\n",
    "    key = key[0]\n",
    "    if key not in qa_data:\n",
    "        qa_data[key] = {}\n",
    "\n",
    "    for dimension in ['self-info-phrase', 'Random-phrase', 'self-info-token', 'Random-token']:\n",
    "        dimension_values = value[dimension]\n",
    "        if dimension not in qa_data[key]:\n",
    "            qa_data[key][dimension] = {}\n",
    "\n",
    "        for metric, metric_value in dimension_values.items():\n",
    "            if metric == 'precisions':\n",
    "                precision_values = metric_value\n",
    "                if isinstance(precision_values[0], list):\n",
    "                    average_precision = [sum(p) / len(p) for p in zip(*precision_values)]\n",
    "                else:\n",
    "                    average_precision = precision_values\n",
    "                qa_data[key][dimension][metric] = average_precision\n",
    "            elif metric in ['brevity_penalty', 'length_ratio']:\n",
    "                qa_data[key][dimension][metric] = metric_value\n",
    "            else:\n",
    "                qa_data[key][dimension][metric] = metric_value\n",
    "\n",
    "print(qa_data)"
   ],
   "metadata": {
    "collapsed": false,
    "ExecuteTime": {
     "start_time": "2023-06-08T17:02:29.111339Z",
     "end_time": "2023-06-08T17:02:29.165337Z"
    }
   }
  },
  {
   "cell_type": "code",
   "execution_count": 22,
   "outputs": [
    {
     "data": {
      "text/plain": "                                                      self-info-phrase  \\\nbleu                                                           0.41248   \nprecisions           [0.6882552313586796, 0.4662402011536755, 0.362...   \nbrevity_penalty                                               0.954501   \nlength_ratio                                                  0.955505   \ntranslation_length                                               27144   \nreference_length                                                 28408   \nmeteor                                                        0.533949   \nrouge1                                                        0.666425   \nrouge2                                                        0.446065   \nrougeL                                                        0.518335   \nrougeLsum                                                     0.639037   \nbertscore_precision                                           0.919168   \nbertscore_recall                                              0.908147   \nbertscore_f1                                                  0.913573   \n\n                                                         Random-phrase  \\\nbleu                                                          0.408163   \nprecisions           [0.6901260504201681, 0.4720967013104383, 0.367...   \nbrevity_penalty                                               0.936387   \nlength_ratio                                                  0.938327   \ntranslation_length                                               26656   \nreference_length                                                 28408   \nmeteor                                                        0.524274   \nrouge1                                                        0.660329   \nrouge2                                                        0.445319   \nrougeL                                                        0.513817   \nrougeLsum                                                     0.632927   \nbertscore_precision                                           0.919662   \nbertscore_recall                                              0.907185   \nbertscore_f1                                                  0.913271   \n\n                                                       self-info-token  \\\nbleu                                                          0.381881   \nprecisions           [0.6743720491029273, 0.4416303317535545, 0.340...   \nbrevity_penalty                                               0.929589   \nlength_ratio                                                  0.931956   \ntranslation_length                                               26475   \nreference_length                                                 28408   \nmeteor                                                        0.504177   \nrouge1                                                        0.637649   \nrouge2                                                        0.408954   \nrougeL                                                        0.492569   \nrougeLsum                                                     0.610684   \nbertscore_precision                                           0.914202   \nbertscore_recall                                              0.901667   \nbertscore_f1                                                  0.907797   \n\n                                                          Random-token  \nbleu                                                           0.37525  \nprecisions           [0.6375657614104934, 0.4097103310502283, 0.310...  \nbrevity_penalty                                               0.990237  \nlength_ratio                                                  0.990284  \ntranslation_length                                               28132  \nreference_length                                                 28408  \nmeteor                                                        0.492435  \nrouge1                                                        0.632226  \nrouge2                                                        0.403044  \nrougeL                                                        0.480259  \nrougeLsum                                                     0.604933  \nbertscore_precision                                           0.911079  \nbertscore_recall                                              0.901311  \nbertscore_f1                                                   0.90609  ",
      "text/html": "<div>\n<style scoped>\n    .dataframe tbody tr th:only-of-type {\n        vertical-align: middle;\n    }\n\n    .dataframe tbody tr th {\n        vertical-align: top;\n    }\n\n    .dataframe thead th {\n        text-align: right;\n    }\n</style>\n<table border=\"1\" class=\"dataframe\">\n  <thead>\n    <tr style=\"text-align: right;\">\n      <th></th>\n      <th>self-info-phrase</th>\n      <th>Random-phrase</th>\n      <th>self-info-token</th>\n      <th>Random-token</th>\n    </tr>\n  </thead>\n  <tbody>\n    <tr>\n      <th>bleu</th>\n      <td>0.41248</td>\n      <td>0.408163</td>\n      <td>0.381881</td>\n      <td>0.37525</td>\n    </tr>\n    <tr>\n      <th>precisions</th>\n      <td>[0.6882552313586796, 0.4662402011536755, 0.362...</td>\n      <td>[0.6901260504201681, 0.4720967013104383, 0.367...</td>\n      <td>[0.6743720491029273, 0.4416303317535545, 0.340...</td>\n      <td>[0.6375657614104934, 0.4097103310502283, 0.310...</td>\n    </tr>\n    <tr>\n      <th>brevity_penalty</th>\n      <td>0.954501</td>\n      <td>0.936387</td>\n      <td>0.929589</td>\n      <td>0.990237</td>\n    </tr>\n    <tr>\n      <th>length_ratio</th>\n      <td>0.955505</td>\n      <td>0.938327</td>\n      <td>0.931956</td>\n      <td>0.990284</td>\n    </tr>\n    <tr>\n      <th>translation_length</th>\n      <td>27144</td>\n      <td>26656</td>\n      <td>26475</td>\n      <td>28132</td>\n    </tr>\n    <tr>\n      <th>reference_length</th>\n      <td>28408</td>\n      <td>28408</td>\n      <td>28408</td>\n      <td>28408</td>\n    </tr>\n    <tr>\n      <th>meteor</th>\n      <td>0.533949</td>\n      <td>0.524274</td>\n      <td>0.504177</td>\n      <td>0.492435</td>\n    </tr>\n    <tr>\n      <th>rouge1</th>\n      <td>0.666425</td>\n      <td>0.660329</td>\n      <td>0.637649</td>\n      <td>0.632226</td>\n    </tr>\n    <tr>\n      <th>rouge2</th>\n      <td>0.446065</td>\n      <td>0.445319</td>\n      <td>0.408954</td>\n      <td>0.403044</td>\n    </tr>\n    <tr>\n      <th>rougeL</th>\n      <td>0.518335</td>\n      <td>0.513817</td>\n      <td>0.492569</td>\n      <td>0.480259</td>\n    </tr>\n    <tr>\n      <th>rougeLsum</th>\n      <td>0.639037</td>\n      <td>0.632927</td>\n      <td>0.610684</td>\n      <td>0.604933</td>\n    </tr>\n    <tr>\n      <th>bertscore_precision</th>\n      <td>0.919168</td>\n      <td>0.919662</td>\n      <td>0.914202</td>\n      <td>0.911079</td>\n    </tr>\n    <tr>\n      <th>bertscore_recall</th>\n      <td>0.908147</td>\n      <td>0.907185</td>\n      <td>0.901667</td>\n      <td>0.901311</td>\n    </tr>\n    <tr>\n      <th>bertscore_f1</th>\n      <td>0.913573</td>\n      <td>0.913271</td>\n      <td>0.907797</td>\n      <td>0.90609</td>\n    </tr>\n  </tbody>\n</table>\n</div>"
     },
     "execution_count": 22,
     "metadata": {},
     "output_type": "execute_result"
    }
   ],
   "source": [
    "df_qa = pd.DataFrame(qa_data['a'])\n",
    "df_qa"
   ],
   "metadata": {
    "collapsed": false,
    "ExecuteTime": {
     "start_time": "2023-06-08T17:02:35.877330Z",
     "end_time": "2023-06-08T17:02:35.922365Z"
    }
   }
  },
  {
   "cell_type": "markdown",
   "source": [
    "# 2. Compare the results"
   ],
   "metadata": {
    "collapsed": false
   }
  },
  {
   "cell_type": "code",
   "execution_count": 23,
   "outputs": [
    {
     "data": {
      "text/plain": "                                                         summarisation  \\\n                                                      self-info-phrase   \nbleu                                                          0.078287   \nprecisions           [0.47182233146067415, 0.14452709883103082, 0.0...   \nbrevity_penalty                                               0.825978   \nlength_ratio                                                  0.839499   \ntranslation_length                                               11392   \nreference_length                                                 13570   \nmeteor                                                        0.285096   \nrouge1                                                        0.413646   \nrouge2                                                         0.12182   \nrougeL                                                        0.234744   \nrougeLsum                                                     0.235148   \nbertscore_precision                                           0.881039   \nbertscore_recall                                               0.86553   \nbertscore_f1                                                  0.873145   \n\n                                                                        \\\n                                                         Random-phrase   \nbleu                                                          0.076867   \nprecisions           [0.4915655519384433, 0.15632161004284148, 0.06...   \nbrevity_penalty                                               0.712724   \nlength_ratio                                                  0.747015   \ntranslation_length                                               10137   \nreference_length                                                 13570   \nmeteor                                                        0.268242   \nrouge1                                                        0.407053   \nrouge2                                                         0.12812   \nrougeL                                                        0.231811   \nrougeLsum                                                     0.231759   \nbertscore_precision                                           0.878122   \nbertscore_recall                                              0.862342   \nbertscore_f1                                                  0.870099   \n\n                                                                        \\\n                                                       self-info-token   \nbleu                                                           0.06544   \nprecisions           [0.4421360033375052, 0.11981489272191838, 0.03...   \nbrevity_penalty                                               0.876123   \nlength_ratio                                                  0.883198   \ntranslation_length                                               11985   \nreference_length                                                 13570   \nmeteor                                                        0.261788   \nrouge1                                                        0.389639   \nrouge2                                                        0.099942   \nrougeL                                                        0.214887   \nrougeLsum                                                     0.214725   \nbertscore_precision                                           0.870822   \nbertscore_recall                                               0.85598   \nbertscore_f1                                                  0.863288   \n\n                                                                        \\\n                                                          Random-token   \nbleu                                                          0.045325   \nprecisions           [0.43262072914678373, 0.10454808248217383, 0.0...   \nbrevity_penalty                                               0.744461   \nlength_ratio                                                  0.772144   \ntranslation_length                                               10478   \nreference_length                                                 13570   \nmeteor                                                        0.223126   \nrouge1                                                        0.358411   \nrouge2                                                        0.078779   \nrougeL                                                        0.199222   \nrougeLsum                                                     0.198792   \nbertscore_precision                                           0.867215   \nbertscore_recall                                              0.849097   \nbertscore_f1                                                  0.857986   \n\n                                                        reconstruction  \\\n                                                      self-info-phrase   \nbleu                                                          0.218711   \nprecisions           [0.6672620566471038, 0.3487128050819124, 0.193...   \nbrevity_penalty                                                0.81938   \nlength_ratio                                                  0.833884   \ntranslation_length                                               50947   \nreference_length                                                 61096   \nmeteor                                                        0.364538   \nrouge1                                                        0.547512   \nrouge2                                                        0.288374   \nrougeL                                                        0.352192   \nrougeLsum                                                     0.425624   \nbertscore_precision                                           0.817778   \nbertscore_recall                                               0.83104   \nbertscore_f1                                                  0.824249   \n\n                                                                        \\\n                                                         Random-phrase   \nbleu                                                           0.19879   \nprecisions           [0.717371155131162, 0.35834791437150326, 0.194...   \nbrevity_penalty                                               0.728387   \nlength_ratio                                                  0.759346   \ntranslation_length                                               46393   \nreference_length                                                 61096   \nmeteor                                                        0.338511   \nrouge1                                                        0.545789   \nrouge2                                                        0.274136   \nrougeL                                                        0.362818   \nrougeLsum                                                     0.414431   \nbertscore_precision                                           0.719595   \nbertscore_recall                                              0.825852   \nbertscore_f1                                                  0.768736   \n\n                                                                        \\\n                                                       self-info-token   \nbleu                                                          0.037636   \nprecisions           [0.7518238887003733, 0.28522746634861135, 0.11...   \nbrevity_penalty                                                0.20363   \nlength_ratio                                                  0.385885   \ntranslation_length                                               23576   \nreference_length                                                 61096   \nmeteor                                                        0.208943   \nrouge1                                                        0.403295   \nrouge2                                                         0.14673   \nrougeL                                                        0.348079   \nrougeLsum                                                     0.348353   \nbertscore_precision                                           0.829314   \nbertscore_recall                                              0.815621   \nbertscore_f1                                                  0.822287   \n\n                                                                        \\\n                                                          Random-token   \nbleu                                                          0.027014   \nprecisions           [0.7682065476758614, 0.3042581758895176, 0.108...   \nbrevity_penalty                                               0.147236   \nlength_ratio                                                  0.342968   \ntranslation_length                                               20954   \nreference_length                                                 61096   \nmeteor                                                        0.166264   \nrouge1                                                        0.359232   \nrouge2                                                        0.132066   \nrougeL                                                        0.278793   \nrougeLsum                                                     0.282451   \nbertscore_precision                                           0.839807   \nbertscore_recall                                              0.820723   \nbertscore_f1                                                  0.829999   \n\n                                                                    qa  \\\n                                                      self-info-phrase   \nbleu                                                           0.41248   \nprecisions           [0.6882552313586796, 0.4662402011536755, 0.362...   \nbrevity_penalty                                               0.954501   \nlength_ratio                                                  0.955505   \ntranslation_length                                               27144   \nreference_length                                                 28408   \nmeteor                                                        0.533949   \nrouge1                                                        0.666425   \nrouge2                                                        0.446065   \nrougeL                                                        0.518335   \nrougeLsum                                                     0.639037   \nbertscore_precision                                           0.919168   \nbertscore_recall                                              0.908147   \nbertscore_f1                                                  0.913573   \n\n                                                                        \\\n                                                         Random-phrase   \nbleu                                                          0.408163   \nprecisions           [0.6901260504201681, 0.4720967013104383, 0.367...   \nbrevity_penalty                                               0.936387   \nlength_ratio                                                  0.938327   \ntranslation_length                                               26656   \nreference_length                                                 28408   \nmeteor                                                        0.524274   \nrouge1                                                        0.660329   \nrouge2                                                        0.445319   \nrougeL                                                        0.513817   \nrougeLsum                                                     0.632927   \nbertscore_precision                                           0.919662   \nbertscore_recall                                              0.907185   \nbertscore_f1                                                  0.913271   \n\n                                                                        \\\n                                                       self-info-token   \nbleu                                                          0.381881   \nprecisions           [0.6743720491029273, 0.4416303317535545, 0.340...   \nbrevity_penalty                                               0.929589   \nlength_ratio                                                  0.931956   \ntranslation_length                                               26475   \nreference_length                                                 28408   \nmeteor                                                        0.504177   \nrouge1                                                        0.637649   \nrouge2                                                        0.408954   \nrougeL                                                        0.492569   \nrougeLsum                                                     0.610684   \nbertscore_precision                                           0.914202   \nbertscore_recall                                              0.901667   \nbertscore_f1                                                  0.907797   \n\n                                                                        \n                                                          Random-token  \nbleu                                                           0.37525  \nprecisions           [0.6375657614104934, 0.4097103310502283, 0.310...  \nbrevity_penalty                                               0.990237  \nlength_ratio                                                  0.990284  \ntranslation_length                                               28132  \nreference_length                                                 28408  \nmeteor                                                        0.492435  \nrouge1                                                        0.632226  \nrouge2                                                        0.403044  \nrougeL                                                        0.480259  \nrougeLsum                                                     0.604933  \nbertscore_precision                                           0.911079  \nbertscore_recall                                              0.901311  \nbertscore_f1                                                   0.90609  ",
      "text/html": "<div>\n<style scoped>\n    .dataframe tbody tr th:only-of-type {\n        vertical-align: middle;\n    }\n\n    .dataframe tbody tr th {\n        vertical-align: top;\n    }\n\n    .dataframe thead tr th {\n        text-align: left;\n    }\n</style>\n<table border=\"1\" class=\"dataframe\">\n  <thead>\n    <tr>\n      <th></th>\n      <th colspan=\"4\" halign=\"left\">summarisation</th>\n      <th colspan=\"4\" halign=\"left\">reconstruction</th>\n      <th colspan=\"4\" halign=\"left\">qa</th>\n    </tr>\n    <tr>\n      <th></th>\n      <th>self-info-phrase</th>\n      <th>Random-phrase</th>\n      <th>self-info-token</th>\n      <th>Random-token</th>\n      <th>self-info-phrase</th>\n      <th>Random-phrase</th>\n      <th>self-info-token</th>\n      <th>Random-token</th>\n      <th>self-info-phrase</th>\n      <th>Random-phrase</th>\n      <th>self-info-token</th>\n      <th>Random-token</th>\n    </tr>\n  </thead>\n  <tbody>\n    <tr>\n      <th>bleu</th>\n      <td>0.078287</td>\n      <td>0.076867</td>\n      <td>0.06544</td>\n      <td>0.045325</td>\n      <td>0.218711</td>\n      <td>0.19879</td>\n      <td>0.037636</td>\n      <td>0.027014</td>\n      <td>0.41248</td>\n      <td>0.408163</td>\n      <td>0.381881</td>\n      <td>0.37525</td>\n    </tr>\n    <tr>\n      <th>precisions</th>\n      <td>[0.47182233146067415, 0.14452709883103082, 0.0...</td>\n      <td>[0.4915655519384433, 0.15632161004284148, 0.06...</td>\n      <td>[0.4421360033375052, 0.11981489272191838, 0.03...</td>\n      <td>[0.43262072914678373, 0.10454808248217383, 0.0...</td>\n      <td>[0.6672620566471038, 0.3487128050819124, 0.193...</td>\n      <td>[0.717371155131162, 0.35834791437150326, 0.194...</td>\n      <td>[0.7518238887003733, 0.28522746634861135, 0.11...</td>\n      <td>[0.7682065476758614, 0.3042581758895176, 0.108...</td>\n      <td>[0.6882552313586796, 0.4662402011536755, 0.362...</td>\n      <td>[0.6901260504201681, 0.4720967013104383, 0.367...</td>\n      <td>[0.6743720491029273, 0.4416303317535545, 0.340...</td>\n      <td>[0.6375657614104934, 0.4097103310502283, 0.310...</td>\n    </tr>\n    <tr>\n      <th>brevity_penalty</th>\n      <td>0.825978</td>\n      <td>0.712724</td>\n      <td>0.876123</td>\n      <td>0.744461</td>\n      <td>0.81938</td>\n      <td>0.728387</td>\n      <td>0.20363</td>\n      <td>0.147236</td>\n      <td>0.954501</td>\n      <td>0.936387</td>\n      <td>0.929589</td>\n      <td>0.990237</td>\n    </tr>\n    <tr>\n      <th>length_ratio</th>\n      <td>0.839499</td>\n      <td>0.747015</td>\n      <td>0.883198</td>\n      <td>0.772144</td>\n      <td>0.833884</td>\n      <td>0.759346</td>\n      <td>0.385885</td>\n      <td>0.342968</td>\n      <td>0.955505</td>\n      <td>0.938327</td>\n      <td>0.931956</td>\n      <td>0.990284</td>\n    </tr>\n    <tr>\n      <th>translation_length</th>\n      <td>11392</td>\n      <td>10137</td>\n      <td>11985</td>\n      <td>10478</td>\n      <td>50947</td>\n      <td>46393</td>\n      <td>23576</td>\n      <td>20954</td>\n      <td>27144</td>\n      <td>26656</td>\n      <td>26475</td>\n      <td>28132</td>\n    </tr>\n    <tr>\n      <th>reference_length</th>\n      <td>13570</td>\n      <td>13570</td>\n      <td>13570</td>\n      <td>13570</td>\n      <td>61096</td>\n      <td>61096</td>\n      <td>61096</td>\n      <td>61096</td>\n      <td>28408</td>\n      <td>28408</td>\n      <td>28408</td>\n      <td>28408</td>\n    </tr>\n    <tr>\n      <th>meteor</th>\n      <td>0.285096</td>\n      <td>0.268242</td>\n      <td>0.261788</td>\n      <td>0.223126</td>\n      <td>0.364538</td>\n      <td>0.338511</td>\n      <td>0.208943</td>\n      <td>0.166264</td>\n      <td>0.533949</td>\n      <td>0.524274</td>\n      <td>0.504177</td>\n      <td>0.492435</td>\n    </tr>\n    <tr>\n      <th>rouge1</th>\n      <td>0.413646</td>\n      <td>0.407053</td>\n      <td>0.389639</td>\n      <td>0.358411</td>\n      <td>0.547512</td>\n      <td>0.545789</td>\n      <td>0.403295</td>\n      <td>0.359232</td>\n      <td>0.666425</td>\n      <td>0.660329</td>\n      <td>0.637649</td>\n      <td>0.632226</td>\n    </tr>\n    <tr>\n      <th>rouge2</th>\n      <td>0.12182</td>\n      <td>0.12812</td>\n      <td>0.099942</td>\n      <td>0.078779</td>\n      <td>0.288374</td>\n      <td>0.274136</td>\n      <td>0.14673</td>\n      <td>0.132066</td>\n      <td>0.446065</td>\n      <td>0.445319</td>\n      <td>0.408954</td>\n      <td>0.403044</td>\n    </tr>\n    <tr>\n      <th>rougeL</th>\n      <td>0.234744</td>\n      <td>0.231811</td>\n      <td>0.214887</td>\n      <td>0.199222</td>\n      <td>0.352192</td>\n      <td>0.362818</td>\n      <td>0.348079</td>\n      <td>0.278793</td>\n      <td>0.518335</td>\n      <td>0.513817</td>\n      <td>0.492569</td>\n      <td>0.480259</td>\n    </tr>\n    <tr>\n      <th>rougeLsum</th>\n      <td>0.235148</td>\n      <td>0.231759</td>\n      <td>0.214725</td>\n      <td>0.198792</td>\n      <td>0.425624</td>\n      <td>0.414431</td>\n      <td>0.348353</td>\n      <td>0.282451</td>\n      <td>0.639037</td>\n      <td>0.632927</td>\n      <td>0.610684</td>\n      <td>0.604933</td>\n    </tr>\n    <tr>\n      <th>bertscore_precision</th>\n      <td>0.881039</td>\n      <td>0.878122</td>\n      <td>0.870822</td>\n      <td>0.867215</td>\n      <td>0.817778</td>\n      <td>0.719595</td>\n      <td>0.829314</td>\n      <td>0.839807</td>\n      <td>0.919168</td>\n      <td>0.919662</td>\n      <td>0.914202</td>\n      <td>0.911079</td>\n    </tr>\n    <tr>\n      <th>bertscore_recall</th>\n      <td>0.86553</td>\n      <td>0.862342</td>\n      <td>0.85598</td>\n      <td>0.849097</td>\n      <td>0.83104</td>\n      <td>0.825852</td>\n      <td>0.815621</td>\n      <td>0.820723</td>\n      <td>0.908147</td>\n      <td>0.907185</td>\n      <td>0.901667</td>\n      <td>0.901311</td>\n    </tr>\n    <tr>\n      <th>bertscore_f1</th>\n      <td>0.873145</td>\n      <td>0.870099</td>\n      <td>0.863288</td>\n      <td>0.857986</td>\n      <td>0.824249</td>\n      <td>0.768736</td>\n      <td>0.822287</td>\n      <td>0.829999</td>\n      <td>0.913573</td>\n      <td>0.913271</td>\n      <td>0.907797</td>\n      <td>0.90609</td>\n    </tr>\n  </tbody>\n</table>\n</div>"
     },
     "execution_count": 23,
     "metadata": {},
     "output_type": "execute_result"
    }
   ],
   "source": [
    "df_task_compare = pd.concat([df_summarisation, df_reconstruction,df_qa],axis=1,keys=('summarisation','reconstruction','qa'))\n",
    "df_task_compare"
   ],
   "metadata": {
    "collapsed": false,
    "ExecuteTime": {
     "start_time": "2023-06-08T17:03:10.765338Z",
     "end_time": "2023-06-08T17:03:10.816365Z"
    }
   }
  }
 ],
 "metadata": {
  "kernelspec": {
   "display_name": "Python 3",
   "language": "python",
   "name": "python3"
  },
  "language_info": {
   "codemirror_mode": {
    "name": "ipython",
    "version": 2
   },
   "file_extension": ".py",
   "mimetype": "text/x-python",
   "name": "python",
   "nbconvert_exporter": "python",
   "pygments_lexer": "ipython2",
   "version": "2.7.6"
  }
 },
 "nbformat": 4,
 "nbformat_minor": 0
}
