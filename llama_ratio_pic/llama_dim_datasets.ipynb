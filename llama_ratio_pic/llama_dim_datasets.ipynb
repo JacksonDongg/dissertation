{
 "cells": [
  {
   "cell_type": "code",
   "execution_count": 2,
   "metadata": {
    "collapsed": true,
    "ExecuteTime": {
     "start_time": "2023-06-13T17:10:50.653470Z",
     "end_time": "2023-06-13T17:10:51.385490Z"
    }
   },
   "outputs": [],
   "source": [
    "import pickle\n",
    "import pandas as pd\n",
    "import matplotlib.pyplot as plt\n",
    "import numpy as np"
   ]
  },
  {
   "cell_type": "code",
   "execution_count": 3,
   "outputs": [],
   "source": [
    "with open('data/llama_validity.pkl', 'rb') as f:\n",
    "    data = pickle.load(f)"
   ],
   "metadata": {
    "collapsed": false,
    "ExecuteTime": {
     "start_time": "2023-06-13T17:10:52.745461Z",
     "end_time": "2023-06-13T17:10:52.784496Z"
    }
   }
  },
  {
   "cell_type": "code",
   "execution_count": 4,
   "outputs": [
    {
     "name": "stdout",
     "output_type": "stream",
     "text": [
      "dict_keys(['/mnt/fast/nobackup/users/yl02706/llm_memorize/answer_llama-13b_summarisation_news_0.2.pkl', '/mnt/fast/nobackup/users/yl02706/llm_memorize/answer_llama-30b_summarisation_arxiv_0.2.pkl', '/mnt/fast/nobackup/users/yl02706/llm_memorize/answer_llama-13b_summarisation_news_0.65.pkl', '/mnt/fast/nobackup/users/yl02706/llm_memorize/answer_llama-30b_summarisation_arxiv_0.8.pkl', '/mnt/fast/nobackup/users/yl02706/llm_memorize/answer_llama-30b_summarisation_arxiv_0.65.pkl', '/mnt/fast/nobackup/users/yl02706/llm_memorize/answer_llama-13b_summarisation_arxiv_0.8.pkl', '/mnt/fast/nobackup/users/yl02706/llm_memorize/answer_llama-7b_summarisation_news_0.65.pkl', '/mnt/fast/nobackup/users/yl02706/llm_memorize/answer_llama-30b_summarisation_news_0.5.pkl', '/mnt/fast/nobackup/users/yl02706/llm_memorize/answer_llama-13b_summarisation_news_0.8.pkl', '/mnt/fast/nobackup/users/yl02706/llm_memorize/answer_llama-30b_summarisation_arxiv_0.35.pkl', '/mnt/fast/nobackup/users/yl02706/llm_memorize/answer_llama-7b_summarisation_arxiv_0.2.pkl', '/mnt/fast/nobackup/users/yl02706/llm_memorize/answer_llama-7b_summarisation_news_0.8.pkl', '/mnt/fast/nobackup/users/yl02706/llm_memorize/answer_llama-7b_summarisation_arxiv_0.35.pkl', '/mnt/fast/nobackup/users/yl02706/llm_memorize/answer_llama-13b_summarisation_news_0.5.pkl', '/mnt/fast/nobackup/users/yl02706/llm_memorize/answer_llama-30b_summarisation_news_0.2.pkl', '/mnt/fast/nobackup/users/yl02706/llm_memorize/answer_llama-30b_summarisation_arxiv_0.5.pkl', '/mnt/fast/nobackup/users/yl02706/llm_memorize/answer_llama-13b_summarisation_arxiv_0.5.pkl', '/mnt/fast/nobackup/users/yl02706/llm_memorize/answer_llama-7b_summarisation_arxiv_0.8.pkl', '/mnt/fast/nobackup/users/yl02706/llm_memorize/answer_llama-7b_summarisation_news_0.5.pkl', '/mnt/fast/nobackup/users/yl02706/llm_memorize/answer_llama-7b_summarisation_news_0.35.pkl', '/mnt/fast/nobackup/users/yl02706/llm_memorize/answer_llama-30b_summarisation_news_0.65.pkl', '/mnt/fast/nobackup/users/yl02706/llm_memorize/answer_llama-13b_summarisation_arxiv_0.35.pkl', '/mnt/fast/nobackup/users/yl02706/llm_memorize/answer_llama-13b_summarisation_news_0.35.pkl', '/mnt/fast/nobackup/users/yl02706/llm_memorize/answer_llama-7b_summarisation_arxiv_0.65.pkl', '/mnt/fast/nobackup/users/yl02706/llm_memorize/answer_llama-7b_summarisation_arxiv_0.5.pkl', '/mnt/fast/nobackup/users/yl02706/llm_memorize/answer_llama-13b_summarisation_arxiv_0.65.pkl', '/mnt/fast/nobackup/users/yl02706/llm_memorize/answer_llama-13b_summarisation_arxiv_0.2.pkl', '/mnt/fast/nobackup/users/yl02706/llm_memorize/answer_llama-7b_summarisation_news_0.2.pkl', '/mnt/fast/nobackup/users/yl02706/llm_memorize/answer_llama-30b_summarisation_news_0.35.pkl', '/mnt/fast/nobackup/users/yl02706/llm_memorize/answer_llama-30b_summarisation_news_0.8.pkl'])\n"
     ]
    }
   ],
   "source": [
    "print(data.keys())"
   ],
   "metadata": {
    "collapsed": false,
    "ExecuteTime": {
     "start_time": "2023-06-13T17:10:53.526461Z",
     "end_time": "2023-06-13T17:10:53.567499Z"
    }
   }
  },
  {
   "cell_type": "markdown",
   "source": [
    "## 1. The ratio of 'Yes' in dataset news"
   ],
   "metadata": {
    "collapsed": false
   }
  },
  {
   "cell_type": "code",
   "execution_count": 5,
   "outputs": [],
   "source": [
    "# Initialize two counters\n",
    "count_self_info_yes = 0\n",
    "count_self_info_total = 0\n",
    "count_random_yes = 0\n",
    "count_random_total = 0"
   ],
   "metadata": {
    "collapsed": false,
    "ExecuteTime": {
     "start_time": "2023-06-13T17:10:55.324459Z",
     "end_time": "2023-06-13T17:10:55.343459Z"
    }
   }
  },
  {
   "cell_type": "code",
   "execution_count": 6,
   "outputs": [],
   "source": [
    "# Iterate over the keys in the dictionary\n",
    "for key in data.keys():\n",
    "    # Only consider keys that contain 'news'\n",
    "    if 'news' in key:\n",
    "        # Update the counters\n",
    "        count_self_info_yes += data[key]['self-info-phrase'].count('Yes')\n",
    "        count_self_info_yes += data[key]['self-info-phrase'].count('Yes.')\n",
    "        count_self_info_total += len(data[key]['self-info-phrase'])\n",
    "\n",
    "        count_random_yes += data[key]['Random-phrase'].count('Yes')\n",
    "        count_random_yes += data[key]['Random-phrase'].count('Yes.')\n",
    "        count_random_total += len(data[key]['Random-phrase'])"
   ],
   "metadata": {
    "collapsed": false,
    "ExecuteTime": {
     "start_time": "2023-06-13T17:10:56.574461Z",
     "end_time": "2023-06-13T17:10:56.594459Z"
    }
   }
  },
  {
   "cell_type": "code",
   "execution_count": 7,
   "outputs": [
    {
     "name": "stdout",
     "output_type": "stream",
     "text": [
      "Self-info-phrase Yes Ratio: 0.32\n",
      "Random-phrase Yes Ratio: 0.18\n"
     ]
    }
   ],
   "source": [
    "# Calculate and print the ratios with two decimal places\n",
    "print('Self-info-phrase Yes Ratio: {:.2f}'.format(count_self_info_yes / count_self_info_total))\n",
    "print('Random-phrase Yes Ratio: {:.2f}'.format(count_random_yes / count_random_total))"
   ],
   "metadata": {
    "collapsed": false,
    "ExecuteTime": {
     "start_time": "2023-06-13T17:10:57.429460Z",
     "end_time": "2023-06-13T17:10:57.449459Z"
    }
   }
  },
  {
   "cell_type": "markdown",
   "source": [
    "## 2. The ratio of 'Yes' in dataset arxiv"
   ],
   "metadata": {
    "collapsed": false
   }
  },
  {
   "cell_type": "code",
   "execution_count": 13,
   "outputs": [
    {
     "name": "stdout",
     "output_type": "stream",
     "text": [
      "Self-info-phrase Yes Ratio: 0.31\n",
      "Random-phrase Yes Ratio: 0.25\n"
     ]
    }
   ],
   "source": [
    "# Initialize two counters\n",
    "count_self_info_yes = 0\n",
    "count_self_info_total = 0\n",
    "count_random_yes = 0\n",
    "count_random_total = 0\n",
    "\n",
    "# Iterate over the keys in the dictionary\n",
    "for key in data.keys():\n",
    "    # Only consider keys that contain 'arxiv'\n",
    "    if 'arxiv' in key:\n",
    "        # Update the counters\n",
    "        count_self_info_yes += data[key]['self-info-phrase'].count('Yes')\n",
    "        count_self_info_yes += data[key]['self-info-phrase'].count('Yes.')\n",
    "        count_self_info_total += len(data[key]['self-info-phrase'])\n",
    "\n",
    "        count_random_yes += data[key]['Random-phrase'].count('Yes')\n",
    "        count_random_yes += data[key]['Random-phrase'].count('Yes.')\n",
    "        count_random_total += len(data[key]['Random-phrase'])\n",
    "\n",
    "# Calculate and print the ratios with two decimal places\n",
    "print('Self-info-phrase Yes Ratio: {:.2f}'.format(count_self_info_yes / count_self_info_total))\n",
    "print('Random-phrase Yes Ratio: {:.2f}'.format(count_random_yes / count_random_total))"
   ],
   "metadata": {
    "collapsed": false,
    "ExecuteTime": {
     "start_time": "2023-06-13T17:18:03.218460Z",
     "end_time": "2023-06-13T17:18:03.238469Z"
    }
   }
  },
  {
   "cell_type": "markdown",
   "source": [
    "## 3. Show the ratio of 'Yes' in defferent reduction"
   ],
   "metadata": {
    "collapsed": false
   }
  },
  {
   "cell_type": "code",
   "execution_count": 15,
   "outputs": [],
   "source": [
    "# Initialize dictionaries to store reduction rates and counts\n",
    "arxiv_ratios = {0.2: [], 0.35: [], 0.5: [], 0.65: [], 0.8: []}\n",
    "news_ratios = {0.2: [], 0.35: [], 0.5: [], 0.65: [], 0.8: []}\n",
    "reduction_values = [0.2, 0.35, 0.5, 0.65, 0.8]"
   ],
   "metadata": {
    "collapsed": false,
    "ExecuteTime": {
     "start_time": "2023-06-13T17:33:30.501468Z",
     "end_time": "2023-06-13T17:33:30.528497Z"
    }
   }
  },
  {
   "cell_type": "code",
   "execution_count": 16,
   "outputs": [
    {
     "data": {
      "text/plain": "({0.2: [0.14, 0.5, 0.5],\n  0.35: [0.14, 0.43, 0.44],\n  0.5: [0.08, 0.48, 0.36],\n  0.65: [0.13, 0.38, 0.31],\n  0.8: [0.15, 0.33, 0.27]},\n {0.2: [0.37, 0.56, 0.41],\n  0.35: [0.31, 0.47, 0.44],\n  0.5: [0.32, 0.41, 0.19],\n  0.65: [0.37, 0.13, 0.24],\n  0.8: [0.3, 0.1, 0.18]})"
     },
     "execution_count": 16,
     "metadata": {},
     "output_type": "execute_result"
    }
   ],
   "source": [
    "# Iterate over the keys in the dictionary\n",
    "for key in data.keys():\n",
    "    # Extract reduction rate\n",
    "    reduction = float(key.split('_')[-1].split('.pkl')[0])\n",
    "\n",
    "    # Calculate ratio of 'Yes' for 'self-info-phrase'\n",
    "    count_yes = data[key]['self-info-phrase'].count('Yes')\n",
    "    count_yes += data[key]['self-info-phrase'].count('Yes.')\n",
    "    total = len(data[key]['self-info-phrase'])\n",
    "    ratio = count_yes / total\n",
    "\n",
    "    # Store ratio in the appropriate dictionary\n",
    "    if 'arxiv' in key:\n",
    "        arxiv_ratios[reduction].append(ratio)\n",
    "    elif 'news' in key:\n",
    "        news_ratios[reduction].append(ratio)\n",
    "arxiv_ratios,news_ratios"
   ],
   "metadata": {
    "collapsed": false,
    "ExecuteTime": {
     "start_time": "2023-06-13T17:33:31.305463Z",
     "end_time": "2023-06-13T17:33:31.325458Z"
    }
   }
  },
  {
   "cell_type": "code",
   "execution_count": 17,
   "outputs": [
    {
     "data": {
      "text/plain": "([0.38000000000000006,\n  0.33666666666666667,\n  0.30666666666666664,\n  0.2733333333333334,\n  0.25],\n [0.4466666666666667,\n  0.4066666666666667,\n  0.30666666666666664,\n  0.24666666666666667,\n  0.19333333333333336])"
     },
     "execution_count": 17,
     "metadata": {},
     "output_type": "execute_result"
    }
   ],
   "source": [
    "# Calculate average ratios\n",
    "arxiv_avg_ratios = [np.mean(arxiv_ratios[reduction]) for reduction in sorted(arxiv_ratios)]\n",
    "news_avg_ratios = [np.mean(news_ratios[reduction]) for reduction in sorted(news_ratios)]\n",
    "arxiv_avg_ratios,news_avg_ratios\n"
   ],
   "metadata": {
    "collapsed": false,
    "ExecuteTime": {
     "start_time": "2023-06-13T17:33:32.760460Z",
     "end_time": "2023-06-13T17:33:32.776490Z"
    }
   }
  },
  {
   "cell_type": "code",
   "execution_count": 18,
   "outputs": [
    {
     "data": {
      "text/plain": "<Figure size 640x480 with 1 Axes>",
      "image/png": "[encoded data removed]"
     },
     "metadata": {},
     "output_type": "display_data"
    }
   ],
   "source": [
    "# Plot results\n",
    "plt.plot(sorted(arxiv_ratios), arxiv_avg_ratios,'o-', label='dataset_arxiv')\n",
    "plt.plot(sorted(news_ratios), news_avg_ratios,'o-', label='dataset_news')\n",
    "\n",
    "\n",
    "# Add labels and title\n",
    "plt.xlabel('Reduction Rate')\n",
    "plt.ylabel('Yes Ratio')\n",
    "plt.title('Arxiv vs News')\n",
    "plt.xticks(reduction_values)\n",
    "plt.legend()\n",
    "\n",
    "plt.show()"
   ],
   "metadata": {
    "collapsed": false,
    "ExecuteTime": {
     "start_time": "2023-06-13T17:33:34.586461Z",
     "end_time": "2023-06-13T17:33:34.741467Z"
    }
   }
  }
 ],
 "metadata": {
  "kernelspec": {
   "display_name": "Python 3",
   "language": "python",
   "name": "python3"
  },
  "language_info": {
   "codemirror_mode": {
    "name": "ipython",
    "version": 2
   },
   "file_extension": ".py",
   "mimetype": "text/x-python",
   "name": "python",
   "nbconvert_exporter": "python",
   "pygments_lexer": "ipython2",
   "version": "2.7.6"
  }
 },
 "nbformat": 4,
 "nbformat_minor": 0
}
