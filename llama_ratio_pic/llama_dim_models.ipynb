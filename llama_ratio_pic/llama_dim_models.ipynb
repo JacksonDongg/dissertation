{
 "cells": [
  {
   "cell_type": "code",
   "execution_count": 1,
   "metadata": {
    "collapsed": true,
    "ExecuteTime": {
     "start_time": "2023-06-13T17:22:18.690468Z",
     "end_time": "2023-06-13T17:22:19.361507Z"
    }
   },
   "outputs": [],
   "source": [
    "import pickle\n",
    "import pandas as pd\n",
    "import matplotlib.pyplot as plt\n",
    "import numpy as np"
   ]
  },
  {
   "cell_type": "code",
   "execution_count": 2,
   "outputs": [],
   "source": [
    "with open('data/llama_validity.pkl', 'rb') as f:\n",
    "    data = pickle.load(f)"
   ],
   "metadata": {
    "collapsed": false,
    "ExecuteTime": {
     "start_time": "2023-06-13T17:22:23.174461Z",
     "end_time": "2023-06-13T17:22:23.204458Z"
    }
   }
  },
  {
   "cell_type": "code",
   "execution_count": 3,
   "outputs": [
    {
     "name": "stdout",
     "output_type": "stream",
     "text": [
      "dict_keys(['/mnt/fast/nobackup/users/yl02706/llm_memorize/answer_llama-13b_summarisation_news_0.2.pkl', '/mnt/fast/nobackup/users/yl02706/llm_memorize/answer_llama-30b_summarisation_arxiv_0.2.pkl', '/mnt/fast/nobackup/users/yl02706/llm_memorize/answer_llama-13b_summarisation_news_0.65.pkl', '/mnt/fast/nobackup/users/yl02706/llm_memorize/answer_llama-30b_summarisation_arxiv_0.8.pkl', '/mnt/fast/nobackup/users/yl02706/llm_memorize/answer_llama-30b_summarisation_arxiv_0.65.pkl', '/mnt/fast/nobackup/users/yl02706/llm_memorize/answer_llama-13b_summarisation_arxiv_0.8.pkl', '/mnt/fast/nobackup/users/yl02706/llm_memorize/answer_llama-7b_summarisation_news_0.65.pkl', '/mnt/fast/nobackup/users/yl02706/llm_memorize/answer_llama-30b_summarisation_news_0.5.pkl', '/mnt/fast/nobackup/users/yl02706/llm_memorize/answer_llama-13b_summarisation_news_0.8.pkl', '/mnt/fast/nobackup/users/yl02706/llm_memorize/answer_llama-30b_summarisation_arxiv_0.35.pkl', '/mnt/fast/nobackup/users/yl02706/llm_memorize/answer_llama-7b_summarisation_arxiv_0.2.pkl', '/mnt/fast/nobackup/users/yl02706/llm_memorize/answer_llama-7b_summarisation_news_0.8.pkl', '/mnt/fast/nobackup/users/yl02706/llm_memorize/answer_llama-7b_summarisation_arxiv_0.35.pkl', '/mnt/fast/nobackup/users/yl02706/llm_memorize/answer_llama-13b_summarisation_news_0.5.pkl', '/mnt/fast/nobackup/users/yl02706/llm_memorize/answer_llama-30b_summarisation_news_0.2.pkl', '/mnt/fast/nobackup/users/yl02706/llm_memorize/answer_llama-30b_summarisation_arxiv_0.5.pkl', '/mnt/fast/nobackup/users/yl02706/llm_memorize/answer_llama-13b_summarisation_arxiv_0.5.pkl', '/mnt/fast/nobackup/users/yl02706/llm_memorize/answer_llama-7b_summarisation_arxiv_0.8.pkl', '/mnt/fast/nobackup/users/yl02706/llm_memorize/answer_llama-7b_summarisation_news_0.5.pkl', '/mnt/fast/nobackup/users/yl02706/llm_memorize/answer_llama-7b_summarisation_news_0.35.pkl', '/mnt/fast/nobackup/users/yl02706/llm_memorize/answer_llama-30b_summarisation_news_0.65.pkl', '/mnt/fast/nobackup/users/yl02706/llm_memorize/answer_llama-13b_summarisation_arxiv_0.35.pkl', '/mnt/fast/nobackup/users/yl02706/llm_memorize/answer_llama-13b_summarisation_news_0.35.pkl', '/mnt/fast/nobackup/users/yl02706/llm_memorize/answer_llama-7b_summarisation_arxiv_0.65.pkl', '/mnt/fast/nobackup/users/yl02706/llm_memorize/answer_llama-7b_summarisation_arxiv_0.5.pkl', '/mnt/fast/nobackup/users/yl02706/llm_memorize/answer_llama-13b_summarisation_arxiv_0.65.pkl', '/mnt/fast/nobackup/users/yl02706/llm_memorize/answer_llama-13b_summarisation_arxiv_0.2.pkl', '/mnt/fast/nobackup/users/yl02706/llm_memorize/answer_llama-7b_summarisation_news_0.2.pkl', '/mnt/fast/nobackup/users/yl02706/llm_memorize/answer_llama-30b_summarisation_news_0.35.pkl', '/mnt/fast/nobackup/users/yl02706/llm_memorize/answer_llama-30b_summarisation_news_0.8.pkl'])\n"
     ]
    }
   ],
   "source": [
    "print(data.keys())"
   ],
   "metadata": {
    "collapsed": false,
    "ExecuteTime": {
     "start_time": "2023-06-13T17:22:24.823459Z",
     "end_time": "2023-06-13T17:22:24.872469Z"
    }
   }
  },
  {
   "cell_type": "markdown",
   "source": [
    "## 1. The ratio of 'Yes' in llama-7b"
   ],
   "metadata": {
    "collapsed": false
   }
  },
  {
   "cell_type": "code",
   "execution_count": 4,
   "outputs": [],
   "source": [
    "# Initialize two counters\n",
    "count_self_info_yes = 0\n",
    "count_self_info_total = 0\n",
    "count_random_yes = 0\n",
    "count_random_total = 0"
   ],
   "metadata": {
    "collapsed": false,
    "ExecuteTime": {
     "start_time": "2023-06-13T17:23:06.752461Z",
     "end_time": "2023-06-13T17:23:06.771459Z"
    }
   }
  },
  {
   "cell_type": "code",
   "execution_count": 5,
   "outputs": [],
   "source": [
    "# Iterate over the keys in the dictionary\n",
    "for key in data.keys():\n",
    "    # Only consider keys that contain 'news'\n",
    "    if 'llama-7b' in key:\n",
    "        # Update the counters\n",
    "        count_self_info_yes += data[key]['self-info-phrase'].count('Yes')\n",
    "        count_self_info_yes += data[key]['self-info-phrase'].count('Yes.')\n",
    "        count_self_info_total += len(data[key]['self-info-phrase'])\n",
    "\n",
    "        count_random_yes += data[key]['Random-phrase'].count('Yes')\n",
    "        count_random_yes += data[key]['Random-phrase'].count('Yes.')\n",
    "        count_random_total += len(data[key]['Random-phrase'])"
   ],
   "metadata": {
    "collapsed": false,
    "ExecuteTime": {
     "start_time": "2023-06-13T17:23:07.678461Z",
     "end_time": "2023-06-13T17:23:07.701459Z"
    }
   }
  },
  {
   "cell_type": "code",
   "execution_count": 6,
   "outputs": [
    {
     "name": "stdout",
     "output_type": "stream",
     "text": [
      "Self-info-phrase Yes Ratio: 0.31\n",
      "Random-phrase Yes Ratio: 0.25\n"
     ]
    }
   ],
   "source": [
    "# Calculate and print the ratios with two decimal places\n",
    "print('Self-info-phrase Yes Ratio: {:.2f}'.format(count_self_info_yes / count_self_info_total))\n",
    "print('Random-phrase Yes Ratio: {:.2f}'.format(count_random_yes / count_random_total))"
   ],
   "metadata": {
    "collapsed": false,
    "ExecuteTime": {
     "start_time": "2023-06-13T17:23:09.062460Z",
     "end_time": "2023-06-13T17:23:09.127469Z"
    }
   }
  },
  {
   "cell_type": "markdown",
   "source": [
    "## 2. The ratio of 'Yes' in llama-13b"
   ],
   "metadata": {
    "collapsed": false
   }
  },
  {
   "cell_type": "code",
   "execution_count": 8,
   "outputs": [
    {
     "name": "stdout",
     "output_type": "stream",
     "text": [
      "Self-info-phrase Yes Ratio: 0.40\n",
      "Random-phrase Yes Ratio: 0.20\n"
     ]
    }
   ],
   "source": [
    "# Initialize two counters\n",
    "count_self_info_yes = 0\n",
    "count_self_info_total = 0\n",
    "count_random_yes = 0\n",
    "count_random_total = 0\n",
    "\n",
    "# Iterate over the keys in the dictionary\n",
    "for key in data.keys():\n",
    "    # Only consider keys that contain 'arxiv'\n",
    "    if 'llama-13b' in key:\n",
    "        # Update the counters\n",
    "        count_self_info_yes += data[key]['self-info-phrase'].count('Yes')\n",
    "        count_self_info_yes += data[key]['self-info-phrase'].count('Yes.')\n",
    "        count_self_info_total += len(data[key]['self-info-phrase'])\n",
    "\n",
    "        count_random_yes += data[key]['Random-phrase'].count('Yes')\n",
    "        count_random_yes += data[key]['Random-phrase'].count('Yes.')\n",
    "        count_random_total += len(data[key]['Random-phrase'])\n",
    "\n",
    "# Calculate and print the ratios with two decimal places\n",
    "print('Self-info-phrase Yes Ratio: {:.2f}'.format(count_self_info_yes / count_self_info_total))\n",
    "print('Random-phrase Yes Ratio: {:.2f}'.format(count_random_yes / count_random_total))"
   ],
   "metadata": {
    "collapsed": false,
    "ExecuteTime": {
     "start_time": "2023-06-13T17:24:13.745460Z",
     "end_time": "2023-06-13T17:24:13.779467Z"
    }
   }
  },
  {
   "cell_type": "markdown",
   "source": [
    "## 2. The ratio of 'Yes' in llama-30b"
   ],
   "metadata": {
    "collapsed": false
   }
  },
  {
   "cell_type": "code",
   "execution_count": 9,
   "outputs": [
    {
     "name": "stdout",
     "output_type": "stream",
     "text": [
      "Self-info-phrase Yes Ratio: 0.24\n",
      "Random-phrase Yes Ratio: 0.20\n"
     ]
    }
   ],
   "source": [
    "# Initialize two counters\n",
    "count_self_info_yes = 0\n",
    "count_self_info_total = 0\n",
    "count_random_yes = 0\n",
    "count_random_total = 0\n",
    "\n",
    "# Iterate over the keys in the dictionary\n",
    "for key in data.keys():\n",
    "    # Only consider keys that contain 'arxiv'\n",
    "    if 'llama-30b' in key:\n",
    "        # Update the counters\n",
    "        count_self_info_yes += data[key]['self-info-phrase'].count('Yes')\n",
    "        count_self_info_yes += data[key]['self-info-phrase'].count('Yes.')\n",
    "        count_self_info_total += len(data[key]['self-info-phrase'])\n",
    "\n",
    "        count_random_yes += data[key]['Random-phrase'].count('Yes')\n",
    "        count_random_yes += data[key]['Random-phrase'].count('Yes.')\n",
    "        count_random_total += len(data[key]['Random-phrase'])\n",
    "\n",
    "# Calculate and print the ratios with two decimal places\n",
    "print('Self-info-phrase Yes Ratio: {:.2f}'.format(count_self_info_yes / count_self_info_total))\n",
    "print('Random-phrase Yes Ratio: {:.2f}'.format(count_random_yes / count_random_total))"
   ],
   "metadata": {
    "collapsed": false,
    "ExecuteTime": {
     "start_time": "2023-06-13T17:24:31.116462Z",
     "end_time": "2023-06-13T17:24:31.139459Z"
    }
   }
  },
  {
   "cell_type": "markdown",
   "source": [
    "## 3. Show the ratio of 'Yes' in defferent reduction"
   ],
   "metadata": {
    "collapsed": false
   }
  },
  {
   "cell_type": "code",
   "execution_count": 15,
   "outputs": [],
   "source": [
    "# Initialize dictionaries to store reduction rates and counts\n",
    "llama_7b_ratios = {0.2: [], 0.35: [], 0.5: [], 0.65: [], 0.8: []}\n",
    "llama_13b_ratios = {0.2: [], 0.35: [], 0.5: [], 0.65: [], 0.8: []}\n",
    "llama_30b_ratios = {0.2: [], 0.35: [], 0.5: [], 0.65: [], 0.8: []}\n",
    "reduction_values = [0.2, 0.35, 0.5, 0.65, 0.8]"
   ],
   "metadata": {
    "collapsed": false,
    "ExecuteTime": {
     "start_time": "2023-06-13T17:39:06.263460Z",
     "end_time": "2023-06-13T17:39:06.278460Z"
    }
   }
  },
  {
   "cell_type": "code",
   "execution_count": 16,
   "outputs": [
    {
     "data": {
      "text/plain": "({0.2: [0.5, 0.41],\n  0.35: [0.43, 0.31],\n  0.5: [0.19, 0.36],\n  0.65: [0.13, 0.38],\n  0.8: [0.1, 0.27]},\n {0.2: [0.37, 0.5],\n  0.35: [0.44, 0.47],\n  0.5: [0.41, 0.48],\n  0.65: [0.37, 0.31],\n  0.8: [0.33, 0.3]},\n {0.2: [0.14, 0.56],\n  0.35: [0.14, 0.44],\n  0.5: [0.32, 0.08],\n  0.65: [0.13, 0.24],\n  0.8: [0.15, 0.18]})"
     },
     "execution_count": 16,
     "metadata": {},
     "output_type": "execute_result"
    }
   ],
   "source": [
    "# Iterate over the keys in the dictionary\n",
    "for key in data.keys():\n",
    "    # Extract reduction rate\n",
    "    reduction = float(key.split('_')[-1].split('.pkl')[0])\n",
    "\n",
    "    # Calculate ratio of 'Yes' for 'self-info-phrase'\n",
    "    count_yes = data[key]['self-info-phrase'].count('Yes')\n",
    "    count_yes += data[key]['self-info-phrase'].count('Yes.')\n",
    "    total = len(data[key]['self-info-phrase'])\n",
    "    ratio = count_yes / total\n",
    "\n",
    "    # Store ratio in the appropriate dictionary\n",
    "    if 'llama-7b' in key:\n",
    "        llama_7b_ratios[reduction].append(ratio)\n",
    "    elif 'llama-13b' in key:\n",
    "        llama_13b_ratios[reduction].append(ratio)\n",
    "    elif 'llama-30b' in key:\n",
    "        llama_30b_ratios[reduction].append(ratio)\n",
    "llama_7b_ratios,llama_13b_ratios,llama_30b_ratios"
   ],
   "metadata": {
    "collapsed": false,
    "ExecuteTime": {
     "start_time": "2023-06-13T17:39:51.030460Z",
     "end_time": "2023-06-13T17:39:51.049467Z"
    }
   }
  },
  {
   "cell_type": "code",
   "execution_count": 17,
   "outputs": [
    {
     "data": {
      "text/plain": "([0.45499999999999996, 0.37, 0.275, 0.255, 0.185],\n [0.435, 0.45499999999999996, 0.44499999999999995, 0.33999999999999997, 0.315],\n [0.35000000000000003, 0.29000000000000004, 0.2, 0.185, 0.16499999999999998])"
     },
     "execution_count": 17,
     "metadata": {},
     "output_type": "execute_result"
    }
   ],
   "source": [
    "# Calculate average ratios\n",
    "llama_7b_avg_ratios = [np.mean(llama_7b_ratios[reduction]) for reduction in sorted(llama_7b_ratios)]\n",
    "llama_13b_avg_ratios = [np.mean(llama_13b_ratios[reduction]) for reduction in sorted(llama_13b_ratios)]\n",
    "llama_30b_avg_ratios = [np.mean(llama_30b_ratios[reduction]) for reduction in sorted(llama_30b_ratios)]\n",
    "\n",
    "llama_7b_avg_ratios,llama_13b_avg_ratios,llama_30b_avg_ratios"
   ],
   "metadata": {
    "collapsed": false,
    "ExecuteTime": {
     "start_time": "2023-06-13T17:39:52.321471Z",
     "end_time": "2023-06-13T17:39:52.370458Z"
    }
   }
  },
  {
   "cell_type": "code",
   "execution_count": 19,
   "outputs": [
    {
     "data": {
      "text/plain": "<Figure size 640x480 with 1 Axes>",
      "image/png": "[encoded data removed]"
     },
     "metadata": {},
     "output_type": "display_data"
    }
   ],
   "source": [
    "# Plot results\n",
    "plt.plot(sorted(llama_7b_ratios), llama_7b_avg_ratios,'o-', label='llama-7b')\n",
    "plt.plot(sorted(llama_13b_ratios), llama_13b_avg_ratios,'o-', label='llama-13b')\n",
    "plt.plot(sorted(llama_30b_ratios), llama_30b_avg_ratios,'o-', label='llama-30b')\n",
    "\n",
    "\n",
    "# Add labels and title\n",
    "plt.xlabel('Reduction Rate')\n",
    "plt.ylabel('Yes Ratio')\n",
    "plt.title('Arxiv vs News')\n",
    "plt.xticks(reduction_values)\n",
    "plt.legend()\n",
    "\n",
    "plt.show()"
   ],
   "metadata": {
    "collapsed": false,
    "ExecuteTime": {
     "start_time": "2023-06-13T17:40:14.173470Z",
     "end_time": "2023-06-13T17:40:14.341491Z"
    }
   }
  }
 ],
 "metadata": {
  "kernelspec": {
   "display_name": "Python 3",
   "language": "python",
   "name": "python3"
  },
  "language_info": {
   "codemirror_mode": {
    "name": "ipython",
    "version": 2
   },
   "file_extension": ".py",
   "mimetype": "text/x-python",
   "name": "python",
   "nbconvert_exporter": "python",
   "pygments_lexer": "ipython2",
   "version": "2.7.6"
  }
 },
 "nbformat": 4,
 "nbformat_minor": 0
}
