{
 "cells": [
  {
   "cell_type": "code",
   "execution_count": 1,
   "metadata": {
    "collapsed": true,
    "ExecuteTime": {
     "start_time": "2023-06-08T16:54:48.298571Z",
     "end_time": "2023-06-08T16:54:50.085569Z"
    }
   },
   "outputs": [],
   "source": [
    "import pickle\n",
    "import pandas as pd\n",
    "import matplotlib.pyplot as plt"
   ]
  },
  {
   "cell_type": "code",
   "execution_count": 2,
   "outputs": [],
   "source": [
    "#load the data\n",
    "with open('data/vicuna_metrics.pkl', 'rb') as f:\n",
    "    data = pickle.load(f)"
   ],
   "metadata": {
    "collapsed": false,
    "ExecuteTime": {
     "start_time": "2023-06-08T16:54:53.145560Z",
     "end_time": "2023-06-08T16:54:53.180558Z"
    }
   }
  },
  {
   "cell_type": "code",
   "execution_count": 3,
   "outputs": [
    {
     "name": "stdout",
     "output_type": "stream",
     "text": [
      "dict_keys(['answer_vicuna-7B_summarisation_arxiv_0.65.pkl', 'answer_vicuna-7B_reconstruction_news_0.5.pkl', 'answer_vicuna-13B_summarisation_arxiv_0.8.pkl', 'answer_vicuna-7B_qa_news_0.35.pkl', 'answer_vicuna-13B_reconstruction_news_0.35.pkl', 'answer_vicuna-7B_reconstruction_arxiv_0.5.pkl', 'answer_vicuna-13B_reconstruction_arxiv_0.2.pkl', 'answer_vicuna-7B_reconstruction_arxiv_0.65.pkl', 'answer_vicuna-7B_qa_news_0.2.pkl', 'answer_vicuna-7B_qa_arxiv_0.2.pkl', 'answer_vicuna-13B_summarisation_news_0.5.pkl', 'answer_vicuna-13B_qa_arxiv_0.35.pkl', 'answer_vicuna-13B_summarisation_arxiv_0.35.pkl', 'answer_vicuna-7B_summarisation_news_0.35.pkl', 'answer_vicuna-13B_reconstruction_news_0.5.pkl', 'answer_vicuna-7B_qa_news_0.5.pkl', 'answer_vicuna-7B_reconstruction_news_0.2.pkl', 'answer_vicuna-13B_reconstruction_arxiv_0.5.pkl', 'answer_vicuna-13B_qa_news_0.8.pkl', 'answer_vicuna-7B_summarisation_news_0.2.pkl', 'answer_vicuna-13B_qa_arxiv_0.2.pkl', 'answer_vicuna-7B_qa_arxiv_0.35.pkl', 'answer_vicuna-13B_qa_arxiv_0.8.pkl', 'answer_vicuna-7B_summarisation_arxiv_0.2.pkl', 'answer_vicuna-7B_summarisation_news_0.5.pkl', 'answer_vicuna-7B_summarisation_arxiv_0.35.pkl', 'answer_vicuna-7B_summarisation_news_0.8.pkl', 'answer_vicuna-13B_summarisation_news_0.35.pkl', 'answer_vicuna-7B_reconstruction_arxiv_0.2.pkl', 'answer_vicuna-7B_summarisation_arxiv_0.8.pkl', 'answer_vicuna-13B_summarisation_arxiv_0.65.pkl', 'answer_vicuna-13B_qa_news_0.2.pkl', 'answer_vicuna-7B_reconstruction_arxiv_0.8.pkl', 'answer_vicuna-7B_qa_news_0.65.pkl', 'answer_vicuna-7B_qa_news_0.8.pkl', 'answer_vicuna-13B_reconstruction_news_0.65.pkl', 'answer_vicuna-13B_summarisation_news_0.2.pkl', 'answer_vicuna-13B_qa_news_0.35.pkl', 'answer_vicuna-7B_reconstruction_news_0.8.pkl', 'answer_vicuna-7B_reconstruction_arxiv_0.35.pkl', 'answer_vicuna-13B_qa_arxiv_0.5.pkl', 'answer_vicuna-7B_reconstruction_news_0.35.pkl', 'answer_vicuna-13B_reconstruction_arxiv_0.8.pkl', 'answer_vicuna-7B_summarisation_arxiv_0.5.pkl', 'answer_vicuna-13B_summarisation_news_0.65.pkl', 'answer_vicuna-7B_qa_arxiv_0.8.pkl', 'answer_vicuna-7B_reconstruction_news_0.65.pkl', 'answer_vicuna-7B_qa_arxiv_0.5.pkl', 'answer_vicuna-7B_qa_arxiv_0.65.pkl', 'answer_vicuna-13B_qa_news_0.65.pkl', 'answer_vicuna-13B_reconstruction_news_0.8.pkl', 'answer_vicuna-13B_summarisation_arxiv_0.5.pkl', 'answer_vicuna-13B_reconstruction_news_0.2.pkl', 'answer_vicuna-13B_summarisation_arxiv_0.2.pkl', 'answer_vicuna-13B_reconstruction_arxiv_0.35.pkl', 'answer_vicuna-13B_reconstruction_arxiv_0.65.pkl', 'answer_vicuna-7B_summarisation_news_0.65.pkl', 'answer_vicuna-13B_qa_news_0.5.pkl', 'answer_vicuna-13B_summarisation_news_0.8.pkl', 'answer_vicuna-13B_qa_arxiv_0.65.pkl'])\n"
     ]
    }
   ],
   "source": [
    "print(data.keys())"
   ],
   "metadata": {
    "collapsed": false,
    "ExecuteTime": {
     "start_time": "2023-06-08T16:54:54.332569Z",
     "end_time": "2023-06-08T16:54:54.349557Z"
    }
   }
  },
  {
   "cell_type": "markdown",
   "source": [
    "# 1.Process data with dataset as dimension\n"
   ],
   "metadata": {
    "collapsed": false
   }
  },
  {
   "cell_type": "code",
   "execution_count": 5,
   "outputs": [],
   "source": [
    "# load the news data vicuna_7B\n",
    "vicuna_7B = {}\n",
    "\n",
    "for key, value in data.items():\n",
    "    if key.startswith('answer_vicuna-7B'):\n",
    "        vicuna_7B[key] = value"
   ],
   "metadata": {
    "collapsed": false,
    "ExecuteTime": {
     "start_time": "2023-06-08T16:56:37.138329Z",
     "end_time": "2023-06-08T16:56:37.155339Z"
    }
   }
  },
  {
   "cell_type": "code",
   "execution_count": 6,
   "outputs": [],
   "source": [
    "# load the news data vicuna_13B\n",
    "vicuna_13B = {}\n",
    "\n",
    "for key, value in data.items():\n",
    "    if key.startswith('answer_vicuna-13B'):\n",
    "        vicuna_13B[key] = value"
   ],
   "metadata": {
    "collapsed": false,
    "ExecuteTime": {
     "start_time": "2023-06-08T16:56:37.931330Z",
     "end_time": "2023-06-08T16:56:37.958334Z"
    }
   }
  },
  {
   "cell_type": "code",
   "execution_count": 7,
   "outputs": [
    {
     "data": {
      "text/plain": "dict_keys(['answer_vicuna-7B_summarisation_arxiv_0.65.pkl', 'answer_vicuna-7B_reconstruction_news_0.5.pkl', 'answer_vicuna-7B_qa_news_0.35.pkl', 'answer_vicuna-7B_reconstruction_arxiv_0.5.pkl', 'answer_vicuna-7B_reconstruction_arxiv_0.65.pkl', 'answer_vicuna-7B_qa_news_0.2.pkl', 'answer_vicuna-7B_qa_arxiv_0.2.pkl', 'answer_vicuna-7B_summarisation_news_0.35.pkl', 'answer_vicuna-7B_qa_news_0.5.pkl', 'answer_vicuna-7B_reconstruction_news_0.2.pkl', 'answer_vicuna-7B_summarisation_news_0.2.pkl', 'answer_vicuna-7B_qa_arxiv_0.35.pkl', 'answer_vicuna-7B_summarisation_arxiv_0.2.pkl', 'answer_vicuna-7B_summarisation_news_0.5.pkl', 'answer_vicuna-7B_summarisation_arxiv_0.35.pkl', 'answer_vicuna-7B_summarisation_news_0.8.pkl', 'answer_vicuna-7B_reconstruction_arxiv_0.2.pkl', 'answer_vicuna-7B_summarisation_arxiv_0.8.pkl', 'answer_vicuna-7B_reconstruction_arxiv_0.8.pkl', 'answer_vicuna-7B_qa_news_0.65.pkl', 'answer_vicuna-7B_qa_news_0.8.pkl', 'answer_vicuna-7B_reconstruction_news_0.8.pkl', 'answer_vicuna-7B_reconstruction_arxiv_0.35.pkl', 'answer_vicuna-7B_reconstruction_news_0.35.pkl', 'answer_vicuna-7B_summarisation_arxiv_0.5.pkl', 'answer_vicuna-7B_qa_arxiv_0.8.pkl', 'answer_vicuna-7B_reconstruction_news_0.65.pkl', 'answer_vicuna-7B_qa_arxiv_0.5.pkl', 'answer_vicuna-7B_qa_arxiv_0.65.pkl', 'answer_vicuna-7B_summarisation_news_0.65.pkl'])"
     },
     "execution_count": 7,
     "metadata": {},
     "output_type": "execute_result"
    }
   ],
   "source": [
    "vicuna_7B.keys()"
   ],
   "metadata": {
    "collapsed": false,
    "ExecuteTime": {
     "start_time": "2023-06-08T16:56:39.019330Z",
     "end_time": "2023-06-08T16:56:39.054339Z"
    }
   }
  },
  {
   "cell_type": "code",
   "execution_count": 8,
   "outputs": [
    {
     "data": {
      "text/plain": "dict_keys(['answer_vicuna-13B_summarisation_arxiv_0.8.pkl', 'answer_vicuna-13B_reconstruction_news_0.35.pkl', 'answer_vicuna-13B_reconstruction_arxiv_0.2.pkl', 'answer_vicuna-13B_summarisation_news_0.5.pkl', 'answer_vicuna-13B_qa_arxiv_0.35.pkl', 'answer_vicuna-13B_summarisation_arxiv_0.35.pkl', 'answer_vicuna-13B_reconstruction_news_0.5.pkl', 'answer_vicuna-13B_reconstruction_arxiv_0.5.pkl', 'answer_vicuna-13B_qa_news_0.8.pkl', 'answer_vicuna-13B_qa_arxiv_0.2.pkl', 'answer_vicuna-13B_qa_arxiv_0.8.pkl', 'answer_vicuna-13B_summarisation_news_0.35.pkl', 'answer_vicuna-13B_summarisation_arxiv_0.65.pkl', 'answer_vicuna-13B_qa_news_0.2.pkl', 'answer_vicuna-13B_reconstruction_news_0.65.pkl', 'answer_vicuna-13B_summarisation_news_0.2.pkl', 'answer_vicuna-13B_qa_news_0.35.pkl', 'answer_vicuna-13B_qa_arxiv_0.5.pkl', 'answer_vicuna-13B_reconstruction_arxiv_0.8.pkl', 'answer_vicuna-13B_summarisation_news_0.65.pkl', 'answer_vicuna-13B_qa_news_0.65.pkl', 'answer_vicuna-13B_reconstruction_news_0.8.pkl', 'answer_vicuna-13B_summarisation_arxiv_0.5.pkl', 'answer_vicuna-13B_reconstruction_news_0.2.pkl', 'answer_vicuna-13B_summarisation_arxiv_0.2.pkl', 'answer_vicuna-13B_reconstruction_arxiv_0.35.pkl', 'answer_vicuna-13B_reconstruction_arxiv_0.65.pkl', 'answer_vicuna-13B_qa_news_0.5.pkl', 'answer_vicuna-13B_summarisation_news_0.8.pkl', 'answer_vicuna-13B_qa_arxiv_0.65.pkl'])"
     },
     "execution_count": 8,
     "metadata": {},
     "output_type": "execute_result"
    }
   ],
   "source": [
    "vicuna_13B.keys()"
   ],
   "metadata": {
    "collapsed": false,
    "ExecuteTime": {
     "start_time": "2023-06-08T16:56:46.327339Z",
     "end_time": "2023-06-08T16:56:46.354330Z"
    }
   }
  },
  {
   "cell_type": "code",
   "execution_count": 9,
   "outputs": [
    {
     "name": "stdout",
     "output_type": "stream",
     "text": [
      "{'a': {'self-info-phrase': {'bleu': 0.15648880444031432, 'precisions': [0.4741841034064129, 0.20218657843630872, 0.10302108237339709, 0.06071663139458513], 'brevity_penalty': 1.0, 'length_ratio': 1.0650289017341041, 'translation_length': 14003, 'reference_length': 13148, 'meteor': 0.3697885226894036, 'rouge1': 0.4775476923198212, 'rouge2': 0.20232549160697244, 'rougeL': 0.29469301344599713, 'rougeLsum': 0.2949211894121985, 'bertscore_precision': 0.8881934797763824, 'bertscore_recall': 0.8854724556207657, 'bertscore_f1': 0.8867223393917084}, 'Random-phrase': {'bleu': 0.12119923916834813, 'precisions': [0.47265562168248354, 0.18088211448029837, 0.07879679581494196, 0.04029998351738916], 'brevity_penalty': 0.9441944069564349, 'length_ratio': 0.9456951627623973, 'translation_length': 12434, 'reference_length': 13148, 'meteor': 0.3307562218649953, 'rouge1': 0.4447761344217769, 'rouge2': 0.1707411599039904, 'rougeL': 0.25968615235231185, 'rougeLsum': 0.2600976570402045, 'bertscore_precision': 0.8816550976037979, 'bertscore_recall': 0.8761348092556, 'bertscore_f1': 0.878785817027092}, 'self-info-token': {'bleu': 0.10854694394066546, 'precisions': [0.43770469432314413, 0.15491893377301458, 0.06502490315439956, 0.031485093340763444], 'brevity_penalty': 1.0, 'length_ratio': 1.1146942500760573, 'translation_length': 14656, 'reference_length': 13148, 'meteor': 0.33611005251342513, 'rouge1': 0.4508253733769267, 'rouge2': 0.15673148704670614, 'rougeL': 0.26148031077566614, 'rougeLsum': 0.26155964311203317, 'bertscore_precision': 0.8799505746364593, 'bertscore_recall': 0.8749323409795761, 'bertscore_f1': 0.8773624920845031}, 'Random-token': {'bleu': 0.08742675901791747, 'precisions': [0.44048089852092065, 0.14262935501873555, 0.051595274451498835, 0.021145588592724623], 'brevity_penalty': 0.9608441562364135, 'length_ratio': 0.9615911165196227, 'translation_length': 12643, 'reference_length': 13148, 'meteor': 0.2939119789933582, 'rouge1': 0.42087883019788463, 'rouge2': 0.1342827133819556, 'rougeL': 0.24535577580595763, 'rougeLsum': 0.24517798541536684, 'bertscore_precision': 0.8758663123846054, 'bertscore_recall': 0.8663748067617416, 'bertscore_f1': 0.8709788304567337}}}\n"
     ]
    }
   ],
   "source": [
    "vicuna_7B_data = {}\n",
    "\n",
    "for key, value in vicuna_7B.items():\n",
    "    key = key[0]\n",
    "    if key not in vicuna_7B_data:\n",
    "        vicuna_7B_data[key] = {}\n",
    "\n",
    "    for dimension in ['self-info-phrase', 'Random-phrase', 'self-info-token', 'Random-token']:\n",
    "        dimension_values = value[dimension]\n",
    "        if dimension not in vicuna_7B_data[key]:\n",
    "            vicuna_7B_data[key][dimension] = {}\n",
    "\n",
    "        for metric, metric_value in dimension_values.items():\n",
    "            if metric == 'precisions':\n",
    "                precision_values = metric_value\n",
    "                if isinstance(precision_values[0], list):\n",
    "                    average_precision = [sum(p) / len(p) for p in zip(*precision_values)]\n",
    "                else:\n",
    "                    average_precision = precision_values\n",
    "                vicuna_7B_data[key][dimension][metric] = average_precision\n",
    "            elif metric in ['brevity_penalty', 'length_ratio']:\n",
    "                vicuna_7B_data[key][dimension][metric] = metric_value\n",
    "            else:\n",
    "                vicuna_7B_data[key][dimension][metric] = metric_value\n",
    "\n",
    "print(vicuna_7B_data)"
   ],
   "metadata": {
    "collapsed": false,
    "ExecuteTime": {
     "start_time": "2023-06-08T16:56:55.749339Z",
     "end_time": "2023-06-08T16:56:55.770369Z"
    }
   }
  },
  {
   "cell_type": "code",
   "execution_count": 10,
   "outputs": [
    {
     "data": {
      "text/plain": "                                                      self-info-phrase  \\\nbleu                                                          0.156489   \nprecisions           [0.4741841034064129, 0.20218657843630872, 0.10...   \nbrevity_penalty                                                    1.0   \nlength_ratio                                                  1.065029   \ntranslation_length                                               14003   \nreference_length                                                 13148   \nmeteor                                                        0.369789   \nrouge1                                                        0.477548   \nrouge2                                                        0.202325   \nrougeL                                                        0.294693   \nrougeLsum                                                     0.294921   \nbertscore_precision                                           0.888193   \nbertscore_recall                                              0.885472   \nbertscore_f1                                                  0.886722   \n\n                                                         Random-phrase  \\\nbleu                                                          0.121199   \nprecisions           [0.47265562168248354, 0.18088211448029837, 0.0...   \nbrevity_penalty                                               0.944194   \nlength_ratio                                                  0.945695   \ntranslation_length                                               12434   \nreference_length                                                 13148   \nmeteor                                                        0.330756   \nrouge1                                                        0.444776   \nrouge2                                                        0.170741   \nrougeL                                                        0.259686   \nrougeLsum                                                     0.260098   \nbertscore_precision                                           0.881655   \nbertscore_recall                                              0.876135   \nbertscore_f1                                                  0.878786   \n\n                                                       self-info-token  \\\nbleu                                                          0.108547   \nprecisions           [0.43770469432314413, 0.15491893377301458, 0.0...   \nbrevity_penalty                                                    1.0   \nlength_ratio                                                  1.114694   \ntranslation_length                                               14656   \nreference_length                                                 13148   \nmeteor                                                         0.33611   \nrouge1                                                        0.450825   \nrouge2                                                        0.156731   \nrougeL                                                         0.26148   \nrougeLsum                                                      0.26156   \nbertscore_precision                                           0.879951   \nbertscore_recall                                              0.874932   \nbertscore_f1                                                  0.877362   \n\n                                                          Random-token  \nbleu                                                          0.087427  \nprecisions           [0.44048089852092065, 0.14262935501873555, 0.0...  \nbrevity_penalty                                               0.960844  \nlength_ratio                                                  0.961591  \ntranslation_length                                               12643  \nreference_length                                                 13148  \nmeteor                                                        0.293912  \nrouge1                                                        0.420879  \nrouge2                                                        0.134283  \nrougeL                                                        0.245356  \nrougeLsum                                                     0.245178  \nbertscore_precision                                           0.875866  \nbertscore_recall                                              0.866375  \nbertscore_f1                                                  0.870979  ",
      "text/html": "<div>\n<style scoped>\n    .dataframe tbody tr th:only-of-type {\n        vertical-align: middle;\n    }\n\n    .dataframe tbody tr th {\n        vertical-align: top;\n    }\n\n    .dataframe thead th {\n        text-align: right;\n    }\n</style>\n<table border=\"1\" class=\"dataframe\">\n  <thead>\n    <tr style=\"text-align: right;\">\n      <th></th>\n      <th>self-info-phrase</th>\n      <th>Random-phrase</th>\n      <th>self-info-token</th>\n      <th>Random-token</th>\n    </tr>\n  </thead>\n  <tbody>\n    <tr>\n      <th>bleu</th>\n      <td>0.156489</td>\n      <td>0.121199</td>\n      <td>0.108547</td>\n      <td>0.087427</td>\n    </tr>\n    <tr>\n      <th>precisions</th>\n      <td>[0.4741841034064129, 0.20218657843630872, 0.10...</td>\n      <td>[0.47265562168248354, 0.18088211448029837, 0.0...</td>\n      <td>[0.43770469432314413, 0.15491893377301458, 0.0...</td>\n      <td>[0.44048089852092065, 0.14262935501873555, 0.0...</td>\n    </tr>\n    <tr>\n      <th>brevity_penalty</th>\n      <td>1.0</td>\n      <td>0.944194</td>\n      <td>1.0</td>\n      <td>0.960844</td>\n    </tr>\n    <tr>\n      <th>length_ratio</th>\n      <td>1.065029</td>\n      <td>0.945695</td>\n      <td>1.114694</td>\n      <td>0.961591</td>\n    </tr>\n    <tr>\n      <th>translation_length</th>\n      <td>14003</td>\n      <td>12434</td>\n      <td>14656</td>\n      <td>12643</td>\n    </tr>\n    <tr>\n      <th>reference_length</th>\n      <td>13148</td>\n      <td>13148</td>\n      <td>13148</td>\n      <td>13148</td>\n    </tr>\n    <tr>\n      <th>meteor</th>\n      <td>0.369789</td>\n      <td>0.330756</td>\n      <td>0.33611</td>\n      <td>0.293912</td>\n    </tr>\n    <tr>\n      <th>rouge1</th>\n      <td>0.477548</td>\n      <td>0.444776</td>\n      <td>0.450825</td>\n      <td>0.420879</td>\n    </tr>\n    <tr>\n      <th>rouge2</th>\n      <td>0.202325</td>\n      <td>0.170741</td>\n      <td>0.156731</td>\n      <td>0.134283</td>\n    </tr>\n    <tr>\n      <th>rougeL</th>\n      <td>0.294693</td>\n      <td>0.259686</td>\n      <td>0.26148</td>\n      <td>0.245356</td>\n    </tr>\n    <tr>\n      <th>rougeLsum</th>\n      <td>0.294921</td>\n      <td>0.260098</td>\n      <td>0.26156</td>\n      <td>0.245178</td>\n    </tr>\n    <tr>\n      <th>bertscore_precision</th>\n      <td>0.888193</td>\n      <td>0.881655</td>\n      <td>0.879951</td>\n      <td>0.875866</td>\n    </tr>\n    <tr>\n      <th>bertscore_recall</th>\n      <td>0.885472</td>\n      <td>0.876135</td>\n      <td>0.874932</td>\n      <td>0.866375</td>\n    </tr>\n    <tr>\n      <th>bertscore_f1</th>\n      <td>0.886722</td>\n      <td>0.878786</td>\n      <td>0.877362</td>\n      <td>0.870979</td>\n    </tr>\n  </tbody>\n</table>\n</div>"
     },
     "execution_count": 10,
     "metadata": {},
     "output_type": "execute_result"
    }
   ],
   "source": [
    "df_7B = pd.DataFrame(vicuna_7B_data['a'])\n",
    "df_7B"
   ],
   "metadata": {
    "collapsed": false,
    "ExecuteTime": {
     "start_time": "2023-06-08T16:57:10.754328Z",
     "end_time": "2023-06-08T16:57:10.779327Z"
    }
   }
  },
  {
   "cell_type": "code",
   "execution_count": 11,
   "outputs": [
    {
     "name": "stdout",
     "output_type": "stream",
     "text": [
      "{'a': {'self-info-phrase': {'bleu': 0.4124799166654756, 'precisions': [0.6882552313586796, 0.4662402011536755, 0.3626781472684085, 0.29965727909402473], 'brevity_penalty': 0.9545011219741472, 'length_ratio': 0.9555054914108702, 'translation_length': 27144, 'reference_length': 28408, 'meteor': 0.5339487746958341, 'rouge1': 0.6664251698523094, 'rouge2': 0.44606518042111, 'rougeL': 0.5183346130748925, 'rougeLsum': 0.6390369048321534, 'bertscore_precision': 0.9191678887605668, 'bertscore_recall': 0.908146892786026, 'bertscore_f1': 0.9135727423429489}, 'Random-phrase': {'bleu': 0.4081633854086722, 'precisions': [0.6901260504201681, 0.4720967013104383, 0.36706229210765046, 0.30186674760965243], 'brevity_penalty': 0.9363871272564492, 'length_ratio': 0.9383272317656998, 'translation_length': 26656, 'reference_length': 28408, 'meteor': 0.524273771081444, 'rouge1': 0.6603290101990151, 'rouge2': 0.44531860637435056, 'rougeL': 0.5138170739307372, 'rougeLsum': 0.6329269610580661, 'bertscore_precision': 0.9196618038415909, 'bertscore_recall': 0.9071852362155914, 'bertscore_f1': 0.9132710367441177}, 'self-info-token': {'bleu': 0.38188122649929396, 'precisions': [0.6743720491029273, 0.4416303317535545, 0.3407421503330162, 0.2806494746895893], 'brevity_penalty': 0.9295894185653435, 'length_ratio': 0.9319557871022247, 'translation_length': 26475, 'reference_length': 28408, 'meteor': 0.5041766815306928, 'rouge1': 0.637649469668786, 'rouge2': 0.40895387999234556, 'rougeL': 0.4925690266645818, 'rougeLsum': 0.6106844510147651, 'bertscore_precision': 0.9142024958133698, 'bertscore_recall': 0.9016674816608429, 'bertscore_f1': 0.9077971321344376}, 'Random-token': {'bleu': 0.3752495354461442, 'precisions': [0.6375657614104934, 0.4097103310502283, 0.31046828010883576, 0.25427565392354123], 'brevity_penalty': 0.9902370782810286, 'length_ratio': 0.9902844269219938, 'translation_length': 28132, 'reference_length': 28408, 'meteor': 0.4924347375664634, 'rouge1': 0.6322255951333069, 'rouge2': 0.4030443185925877, 'rougeL': 0.48025910844424724, 'rougeLsum': 0.6049325692131983, 'bertscore_precision': 0.911079483628273, 'bertscore_recall': 0.9013108515739441, 'bertscore_f1': 0.9060899168252945}}}\n"
     ]
    }
   ],
   "source": [
    "vicuna_13B_data = {}\n",
    "\n",
    "for key, value in vicuna_13B.items():\n",
    "    key = key[0]\n",
    "    if key not in vicuna_13B_data:\n",
    "        vicuna_13B_data[key] = {}\n",
    "\n",
    "    for dimension in ['self-info-phrase', 'Random-phrase', 'self-info-token', 'Random-token']:\n",
    "        dimension_values = value[dimension]\n",
    "        if dimension not in vicuna_13B_data[key]:\n",
    "            vicuna_13B_data[key][dimension] = {}\n",
    "\n",
    "        for metric, metric_value in dimension_values.items():\n",
    "            if metric == 'precisions':\n",
    "                precision_values = metric_value\n",
    "                if isinstance(precision_values[0], list):\n",
    "                    average_precision = [sum(p) / len(p) for p in zip(*precision_values)]\n",
    "                else:\n",
    "                    average_precision = precision_values\n",
    "                vicuna_13B_data[key][dimension][metric] = average_precision\n",
    "            elif metric in ['brevity_penalty', 'length_ratio']:\n",
    "                vicuna_13B_data[key][dimension][metric] = metric_value\n",
    "            else:\n",
    "                vicuna_13B_data[key][dimension][metric] = metric_value\n",
    "\n",
    "print(vicuna_13B_data)\n"
   ],
   "metadata": {
    "collapsed": false,
    "ExecuteTime": {
     "start_time": "2023-06-08T16:57:19.061329Z",
     "end_time": "2023-06-08T16:57:19.084339Z"
    }
   }
  },
  {
   "cell_type": "code",
   "execution_count": 12,
   "outputs": [
    {
     "data": {
      "text/plain": "                                                      self-info-phrase  \\\nbleu                                                           0.41248   \nprecisions           [0.6882552313586796, 0.4662402011536755, 0.362...   \nbrevity_penalty                                               0.954501   \nlength_ratio                                                  0.955505   \ntranslation_length                                               27144   \nreference_length                                                 28408   \nmeteor                                                        0.533949   \nrouge1                                                        0.666425   \nrouge2                                                        0.446065   \nrougeL                                                        0.518335   \nrougeLsum                                                     0.639037   \nbertscore_precision                                           0.919168   \nbertscore_recall                                              0.908147   \nbertscore_f1                                                  0.913573   \n\n                                                         Random-phrase  \\\nbleu                                                          0.408163   \nprecisions           [0.6901260504201681, 0.4720967013104383, 0.367...   \nbrevity_penalty                                               0.936387   \nlength_ratio                                                  0.938327   \ntranslation_length                                               26656   \nreference_length                                                 28408   \nmeteor                                                        0.524274   \nrouge1                                                        0.660329   \nrouge2                                                        0.445319   \nrougeL                                                        0.513817   \nrougeLsum                                                     0.632927   \nbertscore_precision                                           0.919662   \nbertscore_recall                                              0.907185   \nbertscore_f1                                                  0.913271   \n\n                                                       self-info-token  \\\nbleu                                                          0.381881   \nprecisions           [0.6743720491029273, 0.4416303317535545, 0.340...   \nbrevity_penalty                                               0.929589   \nlength_ratio                                                  0.931956   \ntranslation_length                                               26475   \nreference_length                                                 28408   \nmeteor                                                        0.504177   \nrouge1                                                        0.637649   \nrouge2                                                        0.408954   \nrougeL                                                        0.492569   \nrougeLsum                                                     0.610684   \nbertscore_precision                                           0.914202   \nbertscore_recall                                              0.901667   \nbertscore_f1                                                  0.907797   \n\n                                                          Random-token  \nbleu                                                           0.37525  \nprecisions           [0.6375657614104934, 0.4097103310502283, 0.310...  \nbrevity_penalty                                               0.990237  \nlength_ratio                                                  0.990284  \ntranslation_length                                               28132  \nreference_length                                                 28408  \nmeteor                                                        0.492435  \nrouge1                                                        0.632226  \nrouge2                                                        0.403044  \nrougeL                                                        0.480259  \nrougeLsum                                                     0.604933  \nbertscore_precision                                           0.911079  \nbertscore_recall                                              0.901311  \nbertscore_f1                                                   0.90609  ",
      "text/html": "<div>\n<style scoped>\n    .dataframe tbody tr th:only-of-type {\n        vertical-align: middle;\n    }\n\n    .dataframe tbody tr th {\n        vertical-align: top;\n    }\n\n    .dataframe thead th {\n        text-align: right;\n    }\n</style>\n<table border=\"1\" class=\"dataframe\">\n  <thead>\n    <tr style=\"text-align: right;\">\n      <th></th>\n      <th>self-info-phrase</th>\n      <th>Random-phrase</th>\n      <th>self-info-token</th>\n      <th>Random-token</th>\n    </tr>\n  </thead>\n  <tbody>\n    <tr>\n      <th>bleu</th>\n      <td>0.41248</td>\n      <td>0.408163</td>\n      <td>0.381881</td>\n      <td>0.37525</td>\n    </tr>\n    <tr>\n      <th>precisions</th>\n      <td>[0.6882552313586796, 0.4662402011536755, 0.362...</td>\n      <td>[0.6901260504201681, 0.4720967013104383, 0.367...</td>\n      <td>[0.6743720491029273, 0.4416303317535545, 0.340...</td>\n      <td>[0.6375657614104934, 0.4097103310502283, 0.310...</td>\n    </tr>\n    <tr>\n      <th>brevity_penalty</th>\n      <td>0.954501</td>\n      <td>0.936387</td>\n      <td>0.929589</td>\n      <td>0.990237</td>\n    </tr>\n    <tr>\n      <th>length_ratio</th>\n      <td>0.955505</td>\n      <td>0.938327</td>\n      <td>0.931956</td>\n      <td>0.990284</td>\n    </tr>\n    <tr>\n      <th>translation_length</th>\n      <td>27144</td>\n      <td>26656</td>\n      <td>26475</td>\n      <td>28132</td>\n    </tr>\n    <tr>\n      <th>reference_length</th>\n      <td>28408</td>\n      <td>28408</td>\n      <td>28408</td>\n      <td>28408</td>\n    </tr>\n    <tr>\n      <th>meteor</th>\n      <td>0.533949</td>\n      <td>0.524274</td>\n      <td>0.504177</td>\n      <td>0.492435</td>\n    </tr>\n    <tr>\n      <th>rouge1</th>\n      <td>0.666425</td>\n      <td>0.660329</td>\n      <td>0.637649</td>\n      <td>0.632226</td>\n    </tr>\n    <tr>\n      <th>rouge2</th>\n      <td>0.446065</td>\n      <td>0.445319</td>\n      <td>0.408954</td>\n      <td>0.403044</td>\n    </tr>\n    <tr>\n      <th>rougeL</th>\n      <td>0.518335</td>\n      <td>0.513817</td>\n      <td>0.492569</td>\n      <td>0.480259</td>\n    </tr>\n    <tr>\n      <th>rougeLsum</th>\n      <td>0.639037</td>\n      <td>0.632927</td>\n      <td>0.610684</td>\n      <td>0.604933</td>\n    </tr>\n    <tr>\n      <th>bertscore_precision</th>\n      <td>0.919168</td>\n      <td>0.919662</td>\n      <td>0.914202</td>\n      <td>0.911079</td>\n    </tr>\n    <tr>\n      <th>bertscore_recall</th>\n      <td>0.908147</td>\n      <td>0.907185</td>\n      <td>0.901667</td>\n      <td>0.901311</td>\n    </tr>\n    <tr>\n      <th>bertscore_f1</th>\n      <td>0.913573</td>\n      <td>0.913271</td>\n      <td>0.907797</td>\n      <td>0.90609</td>\n    </tr>\n  </tbody>\n</table>\n</div>"
     },
     "execution_count": 12,
     "metadata": {},
     "output_type": "execute_result"
    }
   ],
   "source": [
    "df_13B = pd.DataFrame(vicuna_13B_data['a'])\n",
    "df_13B"
   ],
   "metadata": {
    "collapsed": false,
    "ExecuteTime": {
     "start_time": "2023-06-08T16:57:27.245329Z",
     "end_time": "2023-06-08T16:57:27.286336Z"
    }
   }
  },
  {
   "cell_type": "markdown",
   "source": [
    "# 2. Compare the results"
   ],
   "metadata": {
    "collapsed": false
   }
  },
  {
   "cell_type": "code",
   "execution_count": 13,
   "outputs": [
    {
     "data": {
      "text/plain": "                                                                    7B  \\\n                                                      self-info-phrase   \nbleu                                                          0.156489   \nprecisions           [0.4741841034064129, 0.20218657843630872, 0.10...   \nbrevity_penalty                                                    1.0   \nlength_ratio                                                  1.065029   \ntranslation_length                                               14003   \nreference_length                                                 13148   \nmeteor                                                        0.369789   \nrouge1                                                        0.477548   \nrouge2                                                        0.202325   \nrougeL                                                        0.294693   \nrougeLsum                                                     0.294921   \nbertscore_precision                                           0.888193   \nbertscore_recall                                              0.885472   \nbertscore_f1                                                  0.886722   \n\n                                                                        \\\n                                                         Random-phrase   \nbleu                                                          0.121199   \nprecisions           [0.47265562168248354, 0.18088211448029837, 0.0...   \nbrevity_penalty                                               0.944194   \nlength_ratio                                                  0.945695   \ntranslation_length                                               12434   \nreference_length                                                 13148   \nmeteor                                                        0.330756   \nrouge1                                                        0.444776   \nrouge2                                                        0.170741   \nrougeL                                                        0.259686   \nrougeLsum                                                     0.260098   \nbertscore_precision                                           0.881655   \nbertscore_recall                                              0.876135   \nbertscore_f1                                                  0.878786   \n\n                                                                        \\\n                                                       self-info-token   \nbleu                                                          0.108547   \nprecisions           [0.43770469432314413, 0.15491893377301458, 0.0...   \nbrevity_penalty                                                    1.0   \nlength_ratio                                                  1.114694   \ntranslation_length                                               14656   \nreference_length                                                 13148   \nmeteor                                                         0.33611   \nrouge1                                                        0.450825   \nrouge2                                                        0.156731   \nrougeL                                                         0.26148   \nrougeLsum                                                      0.26156   \nbertscore_precision                                           0.879951   \nbertscore_recall                                              0.874932   \nbertscore_f1                                                  0.877362   \n\n                                                                        \\\n                                                          Random-token   \nbleu                                                          0.087427   \nprecisions           [0.44048089852092065, 0.14262935501873555, 0.0...   \nbrevity_penalty                                               0.960844   \nlength_ratio                                                  0.961591   \ntranslation_length                                               12643   \nreference_length                                                 13148   \nmeteor                                                        0.293912   \nrouge1                                                        0.420879   \nrouge2                                                        0.134283   \nrougeL                                                        0.245356   \nrougeLsum                                                     0.245178   \nbertscore_precision                                           0.875866   \nbertscore_recall                                              0.866375   \nbertscore_f1                                                  0.870979   \n\n                                                                   13B  \\\n                                                      self-info-phrase   \nbleu                                                           0.41248   \nprecisions           [0.6882552313586796, 0.4662402011536755, 0.362...   \nbrevity_penalty                                               0.954501   \nlength_ratio                                                  0.955505   \ntranslation_length                                               27144   \nreference_length                                                 28408   \nmeteor                                                        0.533949   \nrouge1                                                        0.666425   \nrouge2                                                        0.446065   \nrougeL                                                        0.518335   \nrougeLsum                                                     0.639037   \nbertscore_precision                                           0.919168   \nbertscore_recall                                              0.908147   \nbertscore_f1                                                  0.913573   \n\n                                                                        \\\n                                                         Random-phrase   \nbleu                                                          0.408163   \nprecisions           [0.6901260504201681, 0.4720967013104383, 0.367...   \nbrevity_penalty                                               0.936387   \nlength_ratio                                                  0.938327   \ntranslation_length                                               26656   \nreference_length                                                 28408   \nmeteor                                                        0.524274   \nrouge1                                                        0.660329   \nrouge2                                                        0.445319   \nrougeL                                                        0.513817   \nrougeLsum                                                     0.632927   \nbertscore_precision                                           0.919662   \nbertscore_recall                                              0.907185   \nbertscore_f1                                                  0.913271   \n\n                                                                        \\\n                                                       self-info-token   \nbleu                                                          0.381881   \nprecisions           [0.6743720491029273, 0.4416303317535545, 0.340...   \nbrevity_penalty                                               0.929589   \nlength_ratio                                                  0.931956   \ntranslation_length                                               26475   \nreference_length                                                 28408   \nmeteor                                                        0.504177   \nrouge1                                                        0.637649   \nrouge2                                                        0.408954   \nrougeL                                                        0.492569   \nrougeLsum                                                     0.610684   \nbertscore_precision                                           0.914202   \nbertscore_recall                                              0.901667   \nbertscore_f1                                                  0.907797   \n\n                                                                        \n                                                          Random-token  \nbleu                                                           0.37525  \nprecisions           [0.6375657614104934, 0.4097103310502283, 0.310...  \nbrevity_penalty                                               0.990237  \nlength_ratio                                                  0.990284  \ntranslation_length                                               28132  \nreference_length                                                 28408  \nmeteor                                                        0.492435  \nrouge1                                                        0.632226  \nrouge2                                                        0.403044  \nrougeL                                                        0.480259  \nrougeLsum                                                     0.604933  \nbertscore_precision                                           0.911079  \nbertscore_recall                                              0.901311  \nbertscore_f1                                                   0.90609  ",
      "text/html": "<div>\n<style scoped>\n    .dataframe tbody tr th:only-of-type {\n        vertical-align: middle;\n    }\n\n    .dataframe tbody tr th {\n        vertical-align: top;\n    }\n\n    .dataframe thead tr th {\n        text-align: left;\n    }\n</style>\n<table border=\"1\" class=\"dataframe\">\n  <thead>\n    <tr>\n      <th></th>\n      <th colspan=\"4\" halign=\"left\">7B</th>\n      <th colspan=\"4\" halign=\"left\">13B</th>\n    </tr>\n    <tr>\n      <th></th>\n      <th>self-info-phrase</th>\n      <th>Random-phrase</th>\n      <th>self-info-token</th>\n      <th>Random-token</th>\n      <th>self-info-phrase</th>\n      <th>Random-phrase</th>\n      <th>self-info-token</th>\n      <th>Random-token</th>\n    </tr>\n  </thead>\n  <tbody>\n    <tr>\n      <th>bleu</th>\n      <td>0.156489</td>\n      <td>0.121199</td>\n      <td>0.108547</td>\n      <td>0.087427</td>\n      <td>0.41248</td>\n      <td>0.408163</td>\n      <td>0.381881</td>\n      <td>0.37525</td>\n    </tr>\n    <tr>\n      <th>precisions</th>\n      <td>[0.4741841034064129, 0.20218657843630872, 0.10...</td>\n      <td>[0.47265562168248354, 0.18088211448029837, 0.0...</td>\n      <td>[0.43770469432314413, 0.15491893377301458, 0.0...</td>\n      <td>[0.44048089852092065, 0.14262935501873555, 0.0...</td>\n      <td>[0.6882552313586796, 0.4662402011536755, 0.362...</td>\n      <td>[0.6901260504201681, 0.4720967013104383, 0.367...</td>\n      <td>[0.6743720491029273, 0.4416303317535545, 0.340...</td>\n      <td>[0.6375657614104934, 0.4097103310502283, 0.310...</td>\n    </tr>\n    <tr>\n      <th>brevity_penalty</th>\n      <td>1.0</td>\n      <td>0.944194</td>\n      <td>1.0</td>\n      <td>0.960844</td>\n      <td>0.954501</td>\n      <td>0.936387</td>\n      <td>0.929589</td>\n      <td>0.990237</td>\n    </tr>\n    <tr>\n      <th>length_ratio</th>\n      <td>1.065029</td>\n      <td>0.945695</td>\n      <td>1.114694</td>\n      <td>0.961591</td>\n      <td>0.955505</td>\n      <td>0.938327</td>\n      <td>0.931956</td>\n      <td>0.990284</td>\n    </tr>\n    <tr>\n      <th>translation_length</th>\n      <td>14003</td>\n      <td>12434</td>\n      <td>14656</td>\n      <td>12643</td>\n      <td>27144</td>\n      <td>26656</td>\n      <td>26475</td>\n      <td>28132</td>\n    </tr>\n    <tr>\n      <th>reference_length</th>\n      <td>13148</td>\n      <td>13148</td>\n      <td>13148</td>\n      <td>13148</td>\n      <td>28408</td>\n      <td>28408</td>\n      <td>28408</td>\n      <td>28408</td>\n    </tr>\n    <tr>\n      <th>meteor</th>\n      <td>0.369789</td>\n      <td>0.330756</td>\n      <td>0.33611</td>\n      <td>0.293912</td>\n      <td>0.533949</td>\n      <td>0.524274</td>\n      <td>0.504177</td>\n      <td>0.492435</td>\n    </tr>\n    <tr>\n      <th>rouge1</th>\n      <td>0.477548</td>\n      <td>0.444776</td>\n      <td>0.450825</td>\n      <td>0.420879</td>\n      <td>0.666425</td>\n      <td>0.660329</td>\n      <td>0.637649</td>\n      <td>0.632226</td>\n    </tr>\n    <tr>\n      <th>rouge2</th>\n      <td>0.202325</td>\n      <td>0.170741</td>\n      <td>0.156731</td>\n      <td>0.134283</td>\n      <td>0.446065</td>\n      <td>0.445319</td>\n      <td>0.408954</td>\n      <td>0.403044</td>\n    </tr>\n    <tr>\n      <th>rougeL</th>\n      <td>0.294693</td>\n      <td>0.259686</td>\n      <td>0.26148</td>\n      <td>0.245356</td>\n      <td>0.518335</td>\n      <td>0.513817</td>\n      <td>0.492569</td>\n      <td>0.480259</td>\n    </tr>\n    <tr>\n      <th>rougeLsum</th>\n      <td>0.294921</td>\n      <td>0.260098</td>\n      <td>0.26156</td>\n      <td>0.245178</td>\n      <td>0.639037</td>\n      <td>0.632927</td>\n      <td>0.610684</td>\n      <td>0.604933</td>\n    </tr>\n    <tr>\n      <th>bertscore_precision</th>\n      <td>0.888193</td>\n      <td>0.881655</td>\n      <td>0.879951</td>\n      <td>0.875866</td>\n      <td>0.919168</td>\n      <td>0.919662</td>\n      <td>0.914202</td>\n      <td>0.911079</td>\n    </tr>\n    <tr>\n      <th>bertscore_recall</th>\n      <td>0.885472</td>\n      <td>0.876135</td>\n      <td>0.874932</td>\n      <td>0.866375</td>\n      <td>0.908147</td>\n      <td>0.907185</td>\n      <td>0.901667</td>\n      <td>0.901311</td>\n    </tr>\n    <tr>\n      <th>bertscore_f1</th>\n      <td>0.886722</td>\n      <td>0.878786</td>\n      <td>0.877362</td>\n      <td>0.870979</td>\n      <td>0.913573</td>\n      <td>0.913271</td>\n      <td>0.907797</td>\n      <td>0.90609</td>\n    </tr>\n  </tbody>\n</table>\n</div>"
     },
     "execution_count": 13,
     "metadata": {},
     "output_type": "execute_result"
    }
   ],
   "source": [
    "df_13B\n",
    "df_model_compare = pd.concat([df_7B, df_13B], axis=1, keys=('7B', '13B'))\n",
    "df_model_compare"
   ],
   "metadata": {
    "collapsed": false,
    "ExecuteTime": {
     "start_time": "2023-06-08T16:57:35.061329Z",
     "end_time": "2023-06-08T16:57:35.087336Z"
    }
   }
  }
 ],
 "metadata": {
  "kernelspec": {
   "display_name": "Python 3",
   "language": "python",
   "name": "python3"
  },
  "language_info": {
   "codemirror_mode": {
    "name": "ipython",
    "version": 2
   },
   "file_extension": ".py",
   "mimetype": "text/x-python",
   "name": "python",
   "nbconvert_exporter": "python",
   "pygments_lexer": "ipython2",
   "version": "2.7.6"
  }
 },
 "nbformat": 4,
 "nbformat_minor": 0
}
