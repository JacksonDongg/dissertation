{
 "cells": [
  {
   "cell_type": "code",
   "execution_count": 1,
   "metadata": {
    "collapsed": true,
    "ExecuteTime": {
     "start_time": "2023-06-12T19:42:49.158341Z",
     "end_time": "2023-06-12T19:42:49.597386Z"
    }
   },
   "outputs": [],
   "source": [
    "import pickle\n",
    "import pandas as pd"
   ]
  },
  {
   "cell_type": "code",
   "execution_count": 2,
   "outputs": [],
   "source": [
    "with open('data/llama_validity.pkl', 'rb') as f:\n",
    "    data = pickle.load(f)"
   ],
   "metadata": {
    "collapsed": false,
    "ExecuteTime": {
     "start_time": "2023-06-12T19:43:03.969944Z",
     "end_time": "2023-06-12T19:43:03.989682Z"
    }
   }
  },
  {
   "cell_type": "code",
   "execution_count": 3,
   "outputs": [
    {
     "name": "stdout",
     "output_type": "stream",
     "text": [
      "dict_keys(['/mnt/fast/nobackup/users/yl02706/llm_memorize/answer_llama-13b_summarisation_news_0.2.pkl', '/mnt/fast/nobackup/users/yl02706/llm_memorize/answer_llama-30b_summarisation_arxiv_0.2.pkl', '/mnt/fast/nobackup/users/yl02706/llm_memorize/answer_llama-13b_summarisation_news_0.65.pkl', '/mnt/fast/nobackup/users/yl02706/llm_memorize/answer_llama-30b_summarisation_arxiv_0.8.pkl', '/mnt/fast/nobackup/users/yl02706/llm_memorize/answer_llama-30b_summarisation_arxiv_0.65.pkl', '/mnt/fast/nobackup/users/yl02706/llm_memorize/answer_llama-13b_summarisation_arxiv_0.8.pkl', '/mnt/fast/nobackup/users/yl02706/llm_memorize/answer_llama-7b_summarisation_news_0.65.pkl', '/mnt/fast/nobackup/users/yl02706/llm_memorize/answer_llama-30b_summarisation_news_0.5.pkl', '/mnt/fast/nobackup/users/yl02706/llm_memorize/answer_llama-13b_summarisation_news_0.8.pkl', '/mnt/fast/nobackup/users/yl02706/llm_memorize/answer_llama-30b_summarisation_arxiv_0.35.pkl', '/mnt/fast/nobackup/users/yl02706/llm_memorize/answer_llama-7b_summarisation_arxiv_0.2.pkl', '/mnt/fast/nobackup/users/yl02706/llm_memorize/answer_llama-7b_summarisation_news_0.8.pkl', '/mnt/fast/nobackup/users/yl02706/llm_memorize/answer_llama-7b_summarisation_arxiv_0.35.pkl', '/mnt/fast/nobackup/users/yl02706/llm_memorize/answer_llama-13b_summarisation_news_0.5.pkl', '/mnt/fast/nobackup/users/yl02706/llm_memorize/answer_llama-30b_summarisation_news_0.2.pkl', '/mnt/fast/nobackup/users/yl02706/llm_memorize/answer_llama-30b_summarisation_arxiv_0.5.pkl', '/mnt/fast/nobackup/users/yl02706/llm_memorize/answer_llama-13b_summarisation_arxiv_0.5.pkl', '/mnt/fast/nobackup/users/yl02706/llm_memorize/answer_llama-7b_summarisation_arxiv_0.8.pkl', '/mnt/fast/nobackup/users/yl02706/llm_memorize/answer_llama-7b_summarisation_news_0.5.pkl', '/mnt/fast/nobackup/users/yl02706/llm_memorize/answer_llama-7b_summarisation_news_0.35.pkl', '/mnt/fast/nobackup/users/yl02706/llm_memorize/answer_llama-30b_summarisation_news_0.65.pkl', '/mnt/fast/nobackup/users/yl02706/llm_memorize/answer_llama-13b_summarisation_arxiv_0.35.pkl', '/mnt/fast/nobackup/users/yl02706/llm_memorize/answer_llama-13b_summarisation_news_0.35.pkl', '/mnt/fast/nobackup/users/yl02706/llm_memorize/answer_llama-7b_summarisation_arxiv_0.65.pkl', '/mnt/fast/nobackup/users/yl02706/llm_memorize/answer_llama-7b_summarisation_arxiv_0.5.pkl', '/mnt/fast/nobackup/users/yl02706/llm_memorize/answer_llama-13b_summarisation_arxiv_0.65.pkl', '/mnt/fast/nobackup/users/yl02706/llm_memorize/answer_llama-13b_summarisation_arxiv_0.2.pkl', '/mnt/fast/nobackup/users/yl02706/llm_memorize/answer_llama-7b_summarisation_news_0.2.pkl', '/mnt/fast/nobackup/users/yl02706/llm_memorize/answer_llama-30b_summarisation_news_0.35.pkl', '/mnt/fast/nobackup/users/yl02706/llm_memorize/answer_llama-30b_summarisation_news_0.8.pkl'])\n"
     ]
    }
   ],
   "source": [
    "print(data.keys())"
   ],
   "metadata": {
    "collapsed": false,
    "ExecuteTime": {
     "start_time": "2023-06-12T19:43:17.499542Z",
     "end_time": "2023-06-12T19:43:17.523569Z"
    }
   }
  },
  {
   "cell_type": "code",
   "execution_count": 5,
   "outputs": [],
   "source": [
    "# Initialize two counters\n",
    "count_self_info_yes = 0\n",
    "count_self_info_total = 0\n",
    "count_random_yes = 0\n",
    "count_random_total = 0"
   ],
   "metadata": {
    "collapsed": false,
    "ExecuteTime": {
     "start_time": "2023-06-12T19:44:57.705157Z",
     "end_time": "2023-06-12T19:44:57.729300Z"
    }
   }
  },
  {
   "cell_type": "code",
   "execution_count": 6,
   "outputs": [],
   "source": [
    "# Iterate over the keys in the dictionary\n",
    "for key in data.keys():\n",
    "    # Only consider keys that contain 'news'\n",
    "    if 'news' in key:\n",
    "        # Update the counters\n",
    "        count_self_info_yes += data[key]['self-info-phrase'].count('Yes')\n",
    "        count_self_info_yes += data[key]['self-info-phrase'].count('Yes.')\n",
    "        count_self_info_total += len(data[key]['self-info-phrase'])\n",
    "\n",
    "        count_random_yes += data[key]['Random-phrase'].count('Yes')\n",
    "        count_random_yes += data[key]['Random-phrase'].count('Yes.')\n",
    "        count_random_total += len(data[key]['Random-phrase'])"
   ],
   "metadata": {
    "collapsed": false,
    "ExecuteTime": {
     "start_time": "2023-06-12T19:44:58.551359Z",
     "end_time": "2023-06-12T19:44:58.575354Z"
    }
   }
  },
  {
   "cell_type": "code",
   "execution_count": 8,
   "outputs": [
    {
     "name": "stdout",
     "output_type": "stream",
     "text": [
      "Self-info-phrase Yes Ratio: 0.32\n",
      "Random-phrase Yes Ratio: 0.18\n"
     ]
    }
   ],
   "source": [
    "# Calculate and print the ratios with two decimal places\n",
    "print('Self-info-phrase Yes Ratio: {:.2f}'.format(count_self_info_yes / count_self_info_total))\n",
    "print('Random-phrase Yes Ratio: {:.2f}'.format(count_random_yes / count_random_total))"
   ],
   "metadata": {
    "collapsed": false,
    "ExecuteTime": {
     "start_time": "2023-06-12T19:45:55.987204Z",
     "end_time": "2023-06-12T19:45:56.016185Z"
    }
   }
  }
 ],
 "metadata": {
  "kernelspec": {
   "display_name": "Python 3",
   "language": "python",
   "name": "python3"
  },
  "language_info": {
   "codemirror_mode": {
    "name": "ipython",
    "version": 2
   },
   "file_extension": ".py",
   "mimetype": "text/x-python",
   "name": "python",
   "nbconvert_exporter": "python",
   "pygments_lexer": "ipython2",
   "version": "2.7.6"
  }
 },
 "nbformat": 4,
 "nbformat_minor": 0
}
