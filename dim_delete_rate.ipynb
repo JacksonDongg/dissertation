{
 "cells": [
  {
   "cell_type": "code",
   "execution_count": 1,
   "metadata": {
    "collapsed": true,
    "ExecuteTime": {
     "start_time": "2023-06-08T12:33:08.279068Z",
     "end_time": "2023-06-08T12:33:09.017174Z"
    }
   },
   "outputs": [],
   "source": [
    "import pickle\n",
    "import pandas as pd\n",
    "import matplotlib.pyplot as plt"
   ]
  },
  {
   "cell_type": "code",
   "execution_count": 2,
   "outputs": [],
   "source": [
    "#load the data\n",
    "with open('data/vicuna_metrics.pkl', 'rb') as f:\n",
    "    data = pickle.load(f)"
   ],
   "metadata": {
    "collapsed": false,
    "ExecuteTime": {
     "start_time": "2023-06-08T12:33:11.723628Z",
     "end_time": "2023-06-08T12:33:11.749658Z"
    }
   }
  },
  {
   "cell_type": "code",
   "execution_count": 3,
   "outputs": [
    {
     "name": "stdout",
     "output_type": "stream",
     "text": [
      "dict_keys(['answer_vicuna-7B_summarisation_arxiv_0.65.pkl', 'answer_vicuna-7B_reconstruction_news_0.5.pkl', 'answer_vicuna-13B_summarisation_arxiv_0.8.pkl', 'answer_vicuna-7B_qa_news_0.35.pkl', 'answer_vicuna-13B_reconstruction_news_0.35.pkl', 'answer_vicuna-7B_reconstruction_arxiv_0.5.pkl', 'answer_vicuna-13B_reconstruction_arxiv_0.2.pkl', 'answer_vicuna-7B_reconstruction_arxiv_0.65.pkl', 'answer_vicuna-7B_qa_news_0.2.pkl', 'answer_vicuna-7B_qa_arxiv_0.2.pkl', 'answer_vicuna-13B_summarisation_news_0.5.pkl', 'answer_vicuna-13B_qa_arxiv_0.35.pkl', 'answer_vicuna-13B_summarisation_arxiv_0.35.pkl', 'answer_vicuna-7B_summarisation_news_0.35.pkl', 'answer_vicuna-13B_reconstruction_news_0.5.pkl', 'answer_vicuna-7B_qa_news_0.5.pkl', 'answer_vicuna-7B_reconstruction_news_0.2.pkl', 'answer_vicuna-13B_reconstruction_arxiv_0.5.pkl', 'answer_vicuna-13B_qa_news_0.8.pkl', 'answer_vicuna-7B_summarisation_news_0.2.pkl', 'answer_vicuna-13B_qa_arxiv_0.2.pkl', 'answer_vicuna-7B_qa_arxiv_0.35.pkl', 'answer_vicuna-13B_qa_arxiv_0.8.pkl', 'answer_vicuna-7B_summarisation_arxiv_0.2.pkl', 'answer_vicuna-7B_summarisation_news_0.5.pkl', 'answer_vicuna-7B_summarisation_arxiv_0.35.pkl', 'answer_vicuna-7B_summarisation_news_0.8.pkl', 'answer_vicuna-13B_summarisation_news_0.35.pkl', 'answer_vicuna-7B_reconstruction_arxiv_0.2.pkl', 'answer_vicuna-7B_summarisation_arxiv_0.8.pkl', 'answer_vicuna-13B_summarisation_arxiv_0.65.pkl', 'answer_vicuna-13B_qa_news_0.2.pkl', 'answer_vicuna-7B_reconstruction_arxiv_0.8.pkl', 'answer_vicuna-7B_qa_news_0.65.pkl', 'answer_vicuna-7B_qa_news_0.8.pkl', 'answer_vicuna-13B_reconstruction_news_0.65.pkl', 'answer_vicuna-13B_summarisation_news_0.2.pkl', 'answer_vicuna-13B_qa_news_0.35.pkl', 'answer_vicuna-7B_reconstruction_news_0.8.pkl', 'answer_vicuna-7B_reconstruction_arxiv_0.35.pkl', 'answer_vicuna-13B_qa_arxiv_0.5.pkl', 'answer_vicuna-7B_reconstruction_news_0.35.pkl', 'answer_vicuna-13B_reconstruction_arxiv_0.8.pkl', 'answer_vicuna-7B_summarisation_arxiv_0.5.pkl', 'answer_vicuna-13B_summarisation_news_0.65.pkl', 'answer_vicuna-7B_qa_arxiv_0.8.pkl', 'answer_vicuna-7B_reconstruction_news_0.65.pkl', 'answer_vicuna-7B_qa_arxiv_0.5.pkl', 'answer_vicuna-7B_qa_arxiv_0.65.pkl', 'answer_vicuna-13B_qa_news_0.65.pkl', 'answer_vicuna-13B_reconstruction_news_0.8.pkl', 'answer_vicuna-13B_summarisation_arxiv_0.5.pkl', 'answer_vicuna-13B_reconstruction_news_0.2.pkl', 'answer_vicuna-13B_summarisation_arxiv_0.2.pkl', 'answer_vicuna-13B_reconstruction_arxiv_0.35.pkl', 'answer_vicuna-13B_reconstruction_arxiv_0.65.pkl', 'answer_vicuna-7B_summarisation_news_0.65.pkl', 'answer_vicuna-13B_qa_news_0.5.pkl', 'answer_vicuna-13B_summarisation_news_0.8.pkl', 'answer_vicuna-13B_qa_arxiv_0.65.pkl'])\n"
     ]
    }
   ],
   "source": [
    "print(data.keys())"
   ],
   "metadata": {
    "collapsed": false,
    "ExecuteTime": {
     "start_time": "2023-06-08T12:33:19.258191Z",
     "end_time": "2023-06-08T12:33:19.277413Z"
    }
   }
  },
  {
   "cell_type": "markdown",
   "source": [
    "# 1.Process data with delete rate as dimension"
   ],
   "metadata": {
    "collapsed": false
   }
  },
  {
   "cell_type": "markdown",
   "source": [
    "## (1). Rate 0.2"
   ],
   "metadata": {
    "collapsed": false
   }
  },
  {
   "cell_type": "code",
   "execution_count": 7,
   "outputs": [],
   "source": [
    "# load the rate 0.2 data\n",
    "percentage_20 = {}\n",
    "\n",
    "for key, value in data.items():\n",
    "    if '0.2' in key:\n",
    "        percentage_20[key] = value"
   ],
   "metadata": {
    "collapsed": false,
    "ExecuteTime": {
     "start_time": "2023-06-08T12:38:27.061443Z",
     "end_time": "2023-06-08T12:38:27.080467Z"
    }
   }
  },
  {
   "cell_type": "code",
   "execution_count": 8,
   "outputs": [
    {
     "data": {
      "text/plain": "dict_keys(['answer_vicuna-13B_reconstruction_arxiv_0.2.pkl', 'answer_vicuna-7B_qa_news_0.2.pkl', 'answer_vicuna-7B_qa_arxiv_0.2.pkl', 'answer_vicuna-7B_reconstruction_news_0.2.pkl', 'answer_vicuna-7B_summarisation_news_0.2.pkl', 'answer_vicuna-13B_qa_arxiv_0.2.pkl', 'answer_vicuna-7B_summarisation_arxiv_0.2.pkl', 'answer_vicuna-7B_reconstruction_arxiv_0.2.pkl', 'answer_vicuna-13B_qa_news_0.2.pkl', 'answer_vicuna-13B_summarisation_news_0.2.pkl', 'answer_vicuna-13B_reconstruction_news_0.2.pkl', 'answer_vicuna-13B_summarisation_arxiv_0.2.pkl'])"
     },
     "execution_count": 8,
     "metadata": {},
     "output_type": "execute_result"
    }
   ],
   "source": [
    "percentage_20.keys()"
   ],
   "metadata": {
    "collapsed": false,
    "ExecuteTime": {
     "start_time": "2023-06-08T12:38:28.026894Z",
     "end_time": "2023-06-08T12:38:28.064891Z"
    }
   }
  },
  {
   "cell_type": "code",
   "execution_count": 9,
   "outputs": [
    {
     "name": "stdout",
     "output_type": "stream",
     "text": [
      "{'a': {'self-info-phrase': {'bleu': 0.3561253395334144, 'precisions': [0.5809518387794603, 0.39098820565670445, 0.29690199239894044, 0.23850341712035214], 'brevity_penalty': 1.0, 'length_ratio': 1.1148061179158468, 'translation_length': 17566, 'reference_length': 15757, 'meteor': 0.5333054801828646, 'rouge1': 0.6022603053489017, 'rouge2': 0.3992001259454809, 'rougeL': 0.47222061823128764, 'rougeLsum': 0.47272435122705053, 'bertscore_precision': 0.9074299693107605, 'bertscore_recall': 0.9136418235301972, 'bertscore_f1': 0.9102621722221375}, 'Random-phrase': {'bleu': 0.31322423300285035, 'precisions': [0.5788890939287692, 0.3570588599368695, 0.24985987419816902, 0.18637588519145204], 'brevity_penalty': 1.0, 'length_ratio': 1.0317319286666244, 'translation_length': 16257, 'reference_length': 15757, 'meteor': 0.4964127116818407, 'rouge1': 0.5790255373976616, 'rouge2': 0.35912649202303193, 'rougeL': 0.43597861730999177, 'rougeLsum': 0.43561816062801384, 'bertscore_precision': 0.9056150984764099, 'bertscore_recall': 0.9048136520385742, 'bertscore_f1': 0.9049943917989731}, 'self-info-token': {'bleu': 0.31336321022800834, 'precisions': [0.5612684031710079, 0.35079726651480636, 0.25280641466208476, 0.19372119815668204], 'brevity_penalty': 1.0, 'length_ratio': 1.1207717205051724, 'translation_length': 17660, 'reference_length': 15757, 'meteor': 0.51485212246612, 'rouge1': 0.583761137086992, 'rouge2': 0.3613195897417015, 'rougeL': 0.4481068952046653, 'rougeLsum': 0.4499510388740491, 'bertscore_precision': 0.9046171331405639, 'bertscore_recall': 0.9057597678899765, 'bertscore_f1': 0.9049734151363373}, 'Random-token': {'bleu': 0.26969910889787935, 'precisions': [0.5750513610683102, 0.3204962522615663, 0.20740114464099896, 0.1449986907567426], 'brevity_penalty': 0.9884468148584508, 'length_ratio': 0.988513041822682, 'translation_length': 15576, 'reference_length': 15757, 'meteor': 0.4627273311605153, 'rouge1': 0.5674053765998761, 'rouge2': 0.3191433444911318, 'rougeL': 0.4182140881650182, 'rougeLsum': 0.4175166675084617, 'bertscore_precision': 0.9015754669904709, 'bertscore_recall': 0.898166515827179, 'bertscore_f1': 0.8997273415327072}}}\n"
     ]
    }
   ],
   "source": [
    "# Average the values of 20 percentage\n",
    "percentage_20_data = {}\n",
    "\n",
    "for key, value in percentage_20.items():\n",
    "    key = key[0]\n",
    "    if key not in percentage_20_data:\n",
    "        percentage_20_data[key] = {}\n",
    "\n",
    "    for dimension in ['self-info-phrase', 'Random-phrase', 'self-info-token', 'Random-token']:\n",
    "        dimension_values = value[dimension]\n",
    "        if dimension not in percentage_20_data[key]:\n",
    "            percentage_20_data[key][dimension] = {}\n",
    "\n",
    "        for metric, metric_value in dimension_values.items():\n",
    "            if metric == 'precisions':\n",
    "                precision_values = metric_value\n",
    "                if isinstance(precision_values[0], list):\n",
    "                    average_precision = [sum(p) / len(p) for p in zip(*precision_values)]\n",
    "                else:\n",
    "                    average_precision = precision_values\n",
    "                percentage_20_data[key][dimension][metric] = average_precision\n",
    "            elif metric in ['brevity_penalty', 'length_ratio']:\n",
    "                percentage_20_data[key][dimension][metric] = metric_value\n",
    "            else:\n",
    "                percentage_20_data[key][dimension][metric] = metric_value\n",
    "\n",
    "print(percentage_20_data)"
   ],
   "metadata": {
    "collapsed": false,
    "ExecuteTime": {
     "start_time": "2023-06-08T12:38:29.074650Z",
     "end_time": "2023-06-08T12:38:29.122014Z"
    }
   }
  },
  {
   "cell_type": "code",
   "execution_count": 10,
   "outputs": [
    {
     "data": {
      "text/plain": "                                                      self-info-phrase  \\\nbleu                                                          0.356125   \nprecisions           [0.5809518387794603, 0.39098820565670445, 0.29...   \nbrevity_penalty                                                    1.0   \nlength_ratio                                                  1.114806   \ntranslation_length                                               17566   \nreference_length                                                 15757   \nmeteor                                                        0.533305   \nrouge1                                                         0.60226   \nrouge2                                                          0.3992   \nrougeL                                                        0.472221   \nrougeLsum                                                     0.472724   \nbertscore_precision                                            0.90743   \nbertscore_recall                                              0.913642   \nbertscore_f1                                                  0.910262   \n\n                                                         Random-phrase  \\\nbleu                                                          0.313224   \nprecisions           [0.5788890939287692, 0.3570588599368695, 0.249...   \nbrevity_penalty                                                    1.0   \nlength_ratio                                                  1.031732   \ntranslation_length                                               16257   \nreference_length                                                 15757   \nmeteor                                                        0.496413   \nrouge1                                                        0.579026   \nrouge2                                                        0.359126   \nrougeL                                                        0.435979   \nrougeLsum                                                     0.435618   \nbertscore_precision                                           0.905615   \nbertscore_recall                                              0.904814   \nbertscore_f1                                                  0.904994   \n\n                                                       self-info-token  \\\nbleu                                                          0.313363   \nprecisions           [0.5612684031710079, 0.35079726651480636, 0.25...   \nbrevity_penalty                                                    1.0   \nlength_ratio                                                  1.120772   \ntranslation_length                                               17660   \nreference_length                                                 15757   \nmeteor                                                        0.514852   \nrouge1                                                        0.583761   \nrouge2                                                         0.36132   \nrougeL                                                        0.448107   \nrougeLsum                                                     0.449951   \nbertscore_precision                                           0.904617   \nbertscore_recall                                               0.90576   \nbertscore_f1                                                  0.904973   \n\n                                                          Random-token  \nbleu                                                          0.269699  \nprecisions           [0.5750513610683102, 0.3204962522615663, 0.207...  \nbrevity_penalty                                               0.988447  \nlength_ratio                                                  0.988513  \ntranslation_length                                               15576  \nreference_length                                                 15757  \nmeteor                                                        0.462727  \nrouge1                                                        0.567405  \nrouge2                                                        0.319143  \nrougeL                                                        0.418214  \nrougeLsum                                                     0.417517  \nbertscore_precision                                           0.901575  \nbertscore_recall                                              0.898167  \nbertscore_f1                                                  0.899727  ",
      "text/html": "<div>\n<style scoped>\n    .dataframe tbody tr th:only-of-type {\n        vertical-align: middle;\n    }\n\n    .dataframe tbody tr th {\n        vertical-align: top;\n    }\n\n    .dataframe thead th {\n        text-align: right;\n    }\n</style>\n<table border=\"1\" class=\"dataframe\">\n  <thead>\n    <tr style=\"text-align: right;\">\n      <th></th>\n      <th>self-info-phrase</th>\n      <th>Random-phrase</th>\n      <th>self-info-token</th>\n      <th>Random-token</th>\n    </tr>\n  </thead>\n  <tbody>\n    <tr>\n      <th>bleu</th>\n      <td>0.356125</td>\n      <td>0.313224</td>\n      <td>0.313363</td>\n      <td>0.269699</td>\n    </tr>\n    <tr>\n      <th>precisions</th>\n      <td>[0.5809518387794603, 0.39098820565670445, 0.29...</td>\n      <td>[0.5788890939287692, 0.3570588599368695, 0.249...</td>\n      <td>[0.5612684031710079, 0.35079726651480636, 0.25...</td>\n      <td>[0.5750513610683102, 0.3204962522615663, 0.207...</td>\n    </tr>\n    <tr>\n      <th>brevity_penalty</th>\n      <td>1.0</td>\n      <td>1.0</td>\n      <td>1.0</td>\n      <td>0.988447</td>\n    </tr>\n    <tr>\n      <th>length_ratio</th>\n      <td>1.114806</td>\n      <td>1.031732</td>\n      <td>1.120772</td>\n      <td>0.988513</td>\n    </tr>\n    <tr>\n      <th>translation_length</th>\n      <td>17566</td>\n      <td>16257</td>\n      <td>17660</td>\n      <td>15576</td>\n    </tr>\n    <tr>\n      <th>reference_length</th>\n      <td>15757</td>\n      <td>15757</td>\n      <td>15757</td>\n      <td>15757</td>\n    </tr>\n    <tr>\n      <th>meteor</th>\n      <td>0.533305</td>\n      <td>0.496413</td>\n      <td>0.514852</td>\n      <td>0.462727</td>\n    </tr>\n    <tr>\n      <th>rouge1</th>\n      <td>0.60226</td>\n      <td>0.579026</td>\n      <td>0.583761</td>\n      <td>0.567405</td>\n    </tr>\n    <tr>\n      <th>rouge2</th>\n      <td>0.3992</td>\n      <td>0.359126</td>\n      <td>0.36132</td>\n      <td>0.319143</td>\n    </tr>\n    <tr>\n      <th>rougeL</th>\n      <td>0.472221</td>\n      <td>0.435979</td>\n      <td>0.448107</td>\n      <td>0.418214</td>\n    </tr>\n    <tr>\n      <th>rougeLsum</th>\n      <td>0.472724</td>\n      <td>0.435618</td>\n      <td>0.449951</td>\n      <td>0.417517</td>\n    </tr>\n    <tr>\n      <th>bertscore_precision</th>\n      <td>0.90743</td>\n      <td>0.905615</td>\n      <td>0.904617</td>\n      <td>0.901575</td>\n    </tr>\n    <tr>\n      <th>bertscore_recall</th>\n      <td>0.913642</td>\n      <td>0.904814</td>\n      <td>0.90576</td>\n      <td>0.898167</td>\n    </tr>\n    <tr>\n      <th>bertscore_f1</th>\n      <td>0.910262</td>\n      <td>0.904994</td>\n      <td>0.904973</td>\n      <td>0.899727</td>\n    </tr>\n  </tbody>\n</table>\n</div>"
     },
     "execution_count": 10,
     "metadata": {},
     "output_type": "execute_result"
    }
   ],
   "source": [
    "# Show the average news data as a dataframe\n",
    "df_percentage_20 = pd.DataFrame(percentage_20_data['a'])\n",
    "df_percentage_20"
   ],
   "metadata": {
    "collapsed": false,
    "ExecuteTime": {
     "start_time": "2023-06-08T12:39:12.076005Z",
     "end_time": "2023-06-08T12:39:12.111330Z"
    }
   }
  },
  {
   "cell_type": "markdown",
   "source": [
    "## (2)Rate 0.35\n"
   ],
   "metadata": {
    "collapsed": false
   }
  },
  {
   "cell_type": "code",
   "execution_count": 12,
   "outputs": [],
   "source": [
    "# load the rate 0.35 data\n",
    "percentage_35 = {}\n",
    "\n",
    "for key, value in data.items():\n",
    "    if '0.35' in key:\n",
    "        percentage_35[key] = value"
   ],
   "metadata": {
    "collapsed": false,
    "ExecuteTime": {
     "start_time": "2023-06-08T12:41:02.048759Z",
     "end_time": "2023-06-08T12:41:02.080996Z"
    }
   }
  },
  {
   "cell_type": "code",
   "execution_count": 13,
   "outputs": [
    {
     "data": {
      "text/plain": "dict_keys(['answer_vicuna-7B_qa_news_0.35.pkl', 'answer_vicuna-13B_reconstruction_news_0.35.pkl', 'answer_vicuna-13B_qa_arxiv_0.35.pkl', 'answer_vicuna-13B_summarisation_arxiv_0.35.pkl', 'answer_vicuna-7B_summarisation_news_0.35.pkl', 'answer_vicuna-7B_qa_arxiv_0.35.pkl', 'answer_vicuna-7B_summarisation_arxiv_0.35.pkl', 'answer_vicuna-13B_summarisation_news_0.35.pkl', 'answer_vicuna-13B_qa_news_0.35.pkl', 'answer_vicuna-7B_reconstruction_arxiv_0.35.pkl', 'answer_vicuna-7B_reconstruction_news_0.35.pkl', 'answer_vicuna-13B_reconstruction_arxiv_0.35.pkl'])"
     },
     "execution_count": 13,
     "metadata": {},
     "output_type": "execute_result"
    }
   ],
   "source": [
    "percentage_35.keys()"
   ],
   "metadata": {
    "collapsed": false,
    "ExecuteTime": {
     "start_time": "2023-06-08T12:41:12.162805Z",
     "end_time": "2023-06-08T12:41:12.187492Z"
    }
   }
  },
  {
   "cell_type": "code",
   "execution_count": 14,
   "outputs": [
    {
     "name": "stdout",
     "output_type": "stream",
     "text": [
      "{'a': {'self-info-phrase': {'bleu': 0.46262161899600845, 'precisions': [0.6824103577622717, 0.515636990266428, 0.40346998476657814, 0.3226285452017441], 'brevity_penalty': 1.0, 'length_ratio': 1.2174119418619878, 'translation_length': 74379, 'reference_length': 61096, 'meteor': 0.5531004967151417, 'rouge1': 0.6737512689671262, 'rouge2': 0.5227165973636638, 'rougeL': 0.567375159721955, 'rougeLsum': 0.6192001964264782, 'bertscore_precision': 0.8723634225130081, 'bertscore_recall': 0.8940843176841736, 'bertscore_f1': 0.8829267179965973}, 'Random-phrase': {'bleu': 0.43521806498921595, 'precisions': [0.7021775831974132, 0.4942975040834456, 0.36763566447613855, 0.281173664396356], 'brevity_penalty': 1.0, 'length_ratio': 1.1440028807123217, 'translation_length': 69894, 'reference_length': 61096, 'meteor': 0.5168284098993685, 'rouge1': 0.6670781620165505, 'rouge2': 0.475663494758374, 'rougeL': 0.5474647454420756, 'rougeLsum': 0.5777248862482025, 'bertscore_precision': 0.769808207154274, 'bertscore_recall': 0.8615130126476288, 'bertscore_f1': 0.8130088871717454}, 'self-info-token': {'bleu': 0.1938298730558088, 'precisions': [0.865063639721933, 0.6255349260369983, 0.4723940900023667, 0.3708654204973369], 'brevity_penalty': 0.34931369020441055, 'length_ratio': 0.4873805159093885, 'translation_length': 29777, 'reference_length': 61096, 'meteor': 0.33037591595876387, 'rouge1': 0.5447426083431584, 'rouge2': 0.3903886774492714, 'rougeL': 0.48721290012186325, 'rougeLsum': 0.4875137467397377, 'bertscore_precision': 0.9016808515787125, 'bertscore_recall': 0.8821977216005326, 'bertscore_f1': 0.89167613863945}, 'Random-token': {'bleu': 0.11741444918205145, 'precisions': [0.8208609271523178, 0.5073485967503693, 0.317531504818384, 0.21145833333333333], 'brevity_penalty': 0.28712739225880124, 'length_ratio': 0.44487364148225744, 'translation_length': 27180, 'reference_length': 61096, 'meteor': 0.26638843427855935, 'rouge1': 0.47713612983474063, 'rouge2': 0.2842805488698092, 'rougeL': 0.391414033873149, 'rougeLsum': 0.393281111928797, 'bertscore_precision': 0.8752926409244537, 'bertscore_recall': 0.8607143741846085, 'bertscore_f1': 0.8677206414937974}}}\n"
     ]
    }
   ],
   "source": [
    "# Average the values of 35 percentage\n",
    "percentage_35_data = {}\n",
    "\n",
    "for key, value in percentage_35.items():\n",
    "    key = key[0]\n",
    "    if key not in percentage_35_data:\n",
    "        percentage_35_data[key] = {}\n",
    "\n",
    "    for dimension in ['self-info-phrase', 'Random-phrase', 'self-info-token', 'Random-token']:\n",
    "        dimension_values = value[dimension]\n",
    "        if dimension not in percentage_35_data[key]:\n",
    "            percentage_35_data[key][dimension] = {}\n",
    "\n",
    "        for metric, metric_value in dimension_values.items():\n",
    "            if metric == 'precisions':\n",
    "                precision_values = metric_value\n",
    "                if isinstance(precision_values[0], list):\n",
    "                    average_precision = [sum(p) / len(p) for p in zip(*precision_values)]\n",
    "                else:\n",
    "                    average_precision = precision_values\n",
    "                percentage_35_data[key][dimension][metric] = average_precision\n",
    "            elif metric in ['brevity_penalty', 'length_ratio']:\n",
    "                percentage_35_data[key][dimension][metric] = metric_value\n",
    "            else:\n",
    "                percentage_35_data[key][dimension][metric] = metric_value\n",
    "\n",
    "print(percentage_35_data)"
   ],
   "metadata": {
    "collapsed": false,
    "ExecuteTime": {
     "start_time": "2023-06-08T12:42:12.708305Z",
     "end_time": "2023-06-08T12:42:12.733306Z"
    }
   }
  },
  {
   "cell_type": "code",
   "execution_count": 15,
   "outputs": [
    {
     "data": {
      "text/plain": "                                                      self-info-phrase  \\\nbleu                                                          0.462622   \nprecisions           [0.6824103577622717, 0.515636990266428, 0.4034...   \nbrevity_penalty                                                    1.0   \nlength_ratio                                                  1.217412   \ntranslation_length                                               74379   \nreference_length                                                 61096   \nmeteor                                                          0.5531   \nrouge1                                                        0.673751   \nrouge2                                                        0.522717   \nrougeL                                                        0.567375   \nrougeLsum                                                       0.6192   \nbertscore_precision                                           0.872363   \nbertscore_recall                                              0.894084   \nbertscore_f1                                                  0.882927   \n\n                                                         Random-phrase  \\\nbleu                                                          0.435218   \nprecisions           [0.7021775831974132, 0.4942975040834456, 0.367...   \nbrevity_penalty                                                    1.0   \nlength_ratio                                                  1.144003   \ntranslation_length                                               69894   \nreference_length                                                 61096   \nmeteor                                                        0.516828   \nrouge1                                                        0.667078   \nrouge2                                                        0.475663   \nrougeL                                                        0.547465   \nrougeLsum                                                     0.577725   \nbertscore_precision                                           0.769808   \nbertscore_recall                                              0.861513   \nbertscore_f1                                                  0.813009   \n\n                                                       self-info-token  \\\nbleu                                                           0.19383   \nprecisions           [0.865063639721933, 0.6255349260369983, 0.4723...   \nbrevity_penalty                                               0.349314   \nlength_ratio                                                  0.487381   \ntranslation_length                                               29777   \nreference_length                                                 61096   \nmeteor                                                        0.330376   \nrouge1                                                        0.544743   \nrouge2                                                        0.390389   \nrougeL                                                        0.487213   \nrougeLsum                                                     0.487514   \nbertscore_precision                                           0.901681   \nbertscore_recall                                              0.882198   \nbertscore_f1                                                  0.891676   \n\n                                                          Random-token  \nbleu                                                          0.117414  \nprecisions           [0.8208609271523178, 0.5073485967503693, 0.317...  \nbrevity_penalty                                               0.287127  \nlength_ratio                                                  0.444874  \ntranslation_length                                               27180  \nreference_length                                                 61096  \nmeteor                                                        0.266388  \nrouge1                                                        0.477136  \nrouge2                                                        0.284281  \nrougeL                                                        0.391414  \nrougeLsum                                                     0.393281  \nbertscore_precision                                           0.875293  \nbertscore_recall                                              0.860714  \nbertscore_f1                                                  0.867721  ",
      "text/html": "<div>\n<style scoped>\n    .dataframe tbody tr th:only-of-type {\n        vertical-align: middle;\n    }\n\n    .dataframe tbody tr th {\n        vertical-align: top;\n    }\n\n    .dataframe thead th {\n        text-align: right;\n    }\n</style>\n<table border=\"1\" class=\"dataframe\">\n  <thead>\n    <tr style=\"text-align: right;\">\n      <th></th>\n      <th>self-info-phrase</th>\n      <th>Random-phrase</th>\n      <th>self-info-token</th>\n      <th>Random-token</th>\n    </tr>\n  </thead>\n  <tbody>\n    <tr>\n      <th>bleu</th>\n      <td>0.462622</td>\n      <td>0.435218</td>\n      <td>0.19383</td>\n      <td>0.117414</td>\n    </tr>\n    <tr>\n      <th>precisions</th>\n      <td>[0.6824103577622717, 0.515636990266428, 0.4034...</td>\n      <td>[0.7021775831974132, 0.4942975040834456, 0.367...</td>\n      <td>[0.865063639721933, 0.6255349260369983, 0.4723...</td>\n      <td>[0.8208609271523178, 0.5073485967503693, 0.317...</td>\n    </tr>\n    <tr>\n      <th>brevity_penalty</th>\n      <td>1.0</td>\n      <td>1.0</td>\n      <td>0.349314</td>\n      <td>0.287127</td>\n    </tr>\n    <tr>\n      <th>length_ratio</th>\n      <td>1.217412</td>\n      <td>1.144003</td>\n      <td>0.487381</td>\n      <td>0.444874</td>\n    </tr>\n    <tr>\n      <th>translation_length</th>\n      <td>74379</td>\n      <td>69894</td>\n      <td>29777</td>\n      <td>27180</td>\n    </tr>\n    <tr>\n      <th>reference_length</th>\n      <td>61096</td>\n      <td>61096</td>\n      <td>61096</td>\n      <td>61096</td>\n    </tr>\n    <tr>\n      <th>meteor</th>\n      <td>0.5531</td>\n      <td>0.516828</td>\n      <td>0.330376</td>\n      <td>0.266388</td>\n    </tr>\n    <tr>\n      <th>rouge1</th>\n      <td>0.673751</td>\n      <td>0.667078</td>\n      <td>0.544743</td>\n      <td>0.477136</td>\n    </tr>\n    <tr>\n      <th>rouge2</th>\n      <td>0.522717</td>\n      <td>0.475663</td>\n      <td>0.390389</td>\n      <td>0.284281</td>\n    </tr>\n    <tr>\n      <th>rougeL</th>\n      <td>0.567375</td>\n      <td>0.547465</td>\n      <td>0.487213</td>\n      <td>0.391414</td>\n    </tr>\n    <tr>\n      <th>rougeLsum</th>\n      <td>0.6192</td>\n      <td>0.577725</td>\n      <td>0.487514</td>\n      <td>0.393281</td>\n    </tr>\n    <tr>\n      <th>bertscore_precision</th>\n      <td>0.872363</td>\n      <td>0.769808</td>\n      <td>0.901681</td>\n      <td>0.875293</td>\n    </tr>\n    <tr>\n      <th>bertscore_recall</th>\n      <td>0.894084</td>\n      <td>0.861513</td>\n      <td>0.882198</td>\n      <td>0.860714</td>\n    </tr>\n    <tr>\n      <th>bertscore_f1</th>\n      <td>0.882927</td>\n      <td>0.813009</td>\n      <td>0.891676</td>\n      <td>0.867721</td>\n    </tr>\n  </tbody>\n</table>\n</div>"
     },
     "execution_count": 15,
     "metadata": {},
     "output_type": "execute_result"
    }
   ],
   "source": [
    "# Show the average news data as a dataframe\n",
    "df_percentage_35 = pd.DataFrame(percentage_35_data['a'])\n",
    "df_percentage_35"
   ],
   "metadata": {
    "collapsed": false,
    "ExecuteTime": {
     "start_time": "2023-06-08T12:42:20.359079Z",
     "end_time": "2023-06-08T12:42:20.394452Z"
    }
   }
  },
  {
   "cell_type": "markdown",
   "source": [
    "## (3).Rate 0.5"
   ],
   "metadata": {
    "collapsed": false
   }
  },
  {
   "cell_type": "code",
   "execution_count": 16,
   "outputs": [],
   "source": [
    "# load the rate 0.50 data\n",
    "percentage_50 = {}\n",
    "\n",
    "for key, value in data.items():\n",
    "    if '0.5' in key:\n",
    "        percentage_50[key] = value"
   ],
   "metadata": {
    "collapsed": false,
    "ExecuteTime": {
     "start_time": "2023-06-08T12:43:55.260954Z",
     "end_time": "2023-06-08T12:43:55.285817Z"
    }
   }
  },
  {
   "cell_type": "code",
   "execution_count": 17,
   "outputs": [
    {
     "data": {
      "text/plain": "dict_keys(['answer_vicuna-7B_reconstruction_news_0.5.pkl', 'answer_vicuna-7B_reconstruction_arxiv_0.5.pkl', 'answer_vicuna-13B_summarisation_news_0.5.pkl', 'answer_vicuna-13B_reconstruction_news_0.5.pkl', 'answer_vicuna-7B_qa_news_0.5.pkl', 'answer_vicuna-13B_reconstruction_arxiv_0.5.pkl', 'answer_vicuna-7B_summarisation_news_0.5.pkl', 'answer_vicuna-13B_qa_arxiv_0.5.pkl', 'answer_vicuna-7B_summarisation_arxiv_0.5.pkl', 'answer_vicuna-7B_qa_arxiv_0.5.pkl', 'answer_vicuna-13B_summarisation_arxiv_0.5.pkl', 'answer_vicuna-13B_qa_news_0.5.pkl'])"
     },
     "execution_count": 17,
     "metadata": {},
     "output_type": "execute_result"
    }
   ],
   "source": [
    "percentage_50.keys()"
   ],
   "metadata": {
    "collapsed": false,
    "ExecuteTime": {
     "start_time": "2023-06-08T12:44:05.716803Z",
     "end_time": "2023-06-08T12:44:05.748789Z"
    }
   }
  },
  {
   "cell_type": "code",
   "execution_count": 18,
   "outputs": [
    {
     "name": "stdout",
     "output_type": "stream",
     "text": [
      "{'a': {'self-info-phrase': {'bleu': 0.48127164711710607, 'precisions': [0.7509149804383493, 0.5504625913565122, 0.4443171694030801, 0.3704571598994504], 'brevity_penalty': 0.9423296587867536, 'length_ratio': 0.9439304292578327, 'translation_length': 23771, 'reference_length': 25183, 'meteor': 0.6235825376174682, 'rouge1': 0.7211590883512212, 'rouge2': 0.521065289687833, 'rougeL': 0.6032704127998378, 'rougeLsum': 0.6960686268656036, 'bertscore_precision': 0.9386209923028946, 'bertscore_recall': 0.9297127956151963, 'bertscore_f1': 0.9340777504444122}, 'Random-phrase': {'bleu': 0.42690461787841993, 'precisions': [0.7031673094280791, 0.4848809425722996, 0.37321088773061967, 0.2980809171720528], 'brevity_penalty': 0.9673536755321729, 'length_ratio': 0.9678751538736449, 'translation_length': 24374, 'reference_length': 25183, 'meteor': 0.584686646136464, 'rouge1': 0.6805255500791636, 'rouge2': 0.4560332925227434, 'rougeL': 0.53992706914219, 'rougeLsum': 0.6530800057894922, 'bertscore_precision': 0.9284214466810227, 'bertscore_recall': 0.9202303886413574, 'bertscore_f1': 0.9242302161455155}, 'self-info-token': {'bleu': 0.43417705370345505, 'precisions': [0.7084612550657006, 0.4896214394344198, 0.37942135457509596, 0.30548302872062666], 'brevity_penalty': 0.9696065041776498, 'length_ratio': 0.9700591668983044, 'translation_length': 24429, 'reference_length': 25183, 'meteor': 0.5817278759111972, 'rouge1': 0.6854238293930965, 'rouge2': 0.45992359776165936, 'rougeL': 0.5516279039232614, 'rougeLsum': 0.658773812514875, 'bertscore_precision': 0.9289599114656448, 'bertscore_recall': 0.9207211256027221, 'bertscore_f1': 0.9247598946094513}, 'Random-token': {'bleu': 0.3979955478060791, 'precisions': [0.6802181255849916, 0.45184489028725533, 0.33865342797357734, 0.26622172784575454], 'brevity_penalty': 0.9754815877133244, 'length_ratio': 0.9757773100901401, 'translation_length': 24573, 'reference_length': 25183, 'meteor': 0.561229759018173, 'rouge1': 0.6561873027877054, 'rouge2': 0.41876073646011613, 'rougeL': 0.5149109740199767, 'rougeLsum': 0.6281660104316945, 'bertscore_precision': 0.923852214217186, 'bertscore_recall': 0.9163826525211334, 'bertscore_f1': 0.9200416249036789}}}\n"
     ]
    }
   ],
   "source": [
    "# Average the values of 50 percentage\n",
    "percentage_50_data = {}\n",
    "\n",
    "for key, value in percentage_50.items():\n",
    "    key = key[0]\n",
    "    if key not in percentage_50_data:\n",
    "        percentage_50_data[key] = {}\n",
    "\n",
    "    for dimension in ['self-info-phrase', 'Random-phrase', 'self-info-token', 'Random-token']:\n",
    "        dimension_values = value[dimension]\n",
    "        if dimension not in percentage_50_data[key]:\n",
    "            percentage_50_data[key][dimension] = {}\n",
    "\n",
    "        for metric, metric_value in dimension_values.items():\n",
    "            if metric == 'precisions':\n",
    "                precision_values = metric_value\n",
    "                if isinstance(precision_values[0], list):\n",
    "                    average_precision = [sum(p) / len(p) for p in zip(*precision_values)]\n",
    "                else:\n",
    "                    average_precision = precision_values\n",
    "                percentage_50_data[key][dimension][metric] = average_precision\n",
    "            elif metric in ['brevity_penalty', 'length_ratio']:\n",
    "                percentage_50_data[key][dimension][metric] = metric_value\n",
    "            else:\n",
    "                percentage_50_data[key][dimension][metric] = metric_value\n",
    "\n",
    "print(percentage_50_data)"
   ],
   "metadata": {
    "collapsed": false,
    "ExecuteTime": {
     "start_time": "2023-06-08T12:44:50.514050Z",
     "end_time": "2023-06-08T12:44:50.534067Z"
    }
   }
  },
  {
   "cell_type": "code",
   "execution_count": 19,
   "outputs": [
    {
     "data": {
      "text/plain": "                                                      self-info-phrase  \\\nbleu                                                          0.481272   \nprecisions           [0.7509149804383493, 0.5504625913565122, 0.444...   \nbrevity_penalty                                                0.94233   \nlength_ratio                                                   0.94393   \ntranslation_length                                               23771   \nreference_length                                                 25183   \nmeteor                                                        0.623583   \nrouge1                                                        0.721159   \nrouge2                                                        0.521065   \nrougeL                                                         0.60327   \nrougeLsum                                                     0.696069   \nbertscore_precision                                           0.938621   \nbertscore_recall                                              0.929713   \nbertscore_f1                                                  0.934078   \n\n                                                         Random-phrase  \\\nbleu                                                          0.426905   \nprecisions           [0.7031673094280791, 0.4848809425722996, 0.373...   \nbrevity_penalty                                               0.967354   \nlength_ratio                                                  0.967875   \ntranslation_length                                               24374   \nreference_length                                                 25183   \nmeteor                                                        0.584687   \nrouge1                                                        0.680526   \nrouge2                                                        0.456033   \nrougeL                                                        0.539927   \nrougeLsum                                                      0.65308   \nbertscore_precision                                           0.928421   \nbertscore_recall                                               0.92023   \nbertscore_f1                                                   0.92423   \n\n                                                       self-info-token  \\\nbleu                                                          0.434177   \nprecisions           [0.7084612550657006, 0.4896214394344198, 0.379...   \nbrevity_penalty                                               0.969607   \nlength_ratio                                                  0.970059   \ntranslation_length                                               24429   \nreference_length                                                 25183   \nmeteor                                                        0.581728   \nrouge1                                                        0.685424   \nrouge2                                                        0.459924   \nrougeL                                                        0.551628   \nrougeLsum                                                     0.658774   \nbertscore_precision                                            0.92896   \nbertscore_recall                                              0.920721   \nbertscore_f1                                                   0.92476   \n\n                                                          Random-token  \nbleu                                                          0.397996  \nprecisions           [0.6802181255849916, 0.45184489028725533, 0.33...  \nbrevity_penalty                                               0.975482  \nlength_ratio                                                  0.975777  \ntranslation_length                                               24573  \nreference_length                                                 25183  \nmeteor                                                         0.56123  \nrouge1                                                        0.656187  \nrouge2                                                        0.418761  \nrougeL                                                        0.514911  \nrougeLsum                                                     0.628166  \nbertscore_precision                                           0.923852  \nbertscore_recall                                              0.916383  \nbertscore_f1                                                  0.920042  ",
      "text/html": "<div>\n<style scoped>\n    .dataframe tbody tr th:only-of-type {\n        vertical-align: middle;\n    }\n\n    .dataframe tbody tr th {\n        vertical-align: top;\n    }\n\n    .dataframe thead th {\n        text-align: right;\n    }\n</style>\n<table border=\"1\" class=\"dataframe\">\n  <thead>\n    <tr style=\"text-align: right;\">\n      <th></th>\n      <th>self-info-phrase</th>\n      <th>Random-phrase</th>\n      <th>self-info-token</th>\n      <th>Random-token</th>\n    </tr>\n  </thead>\n  <tbody>\n    <tr>\n      <th>bleu</th>\n      <td>0.481272</td>\n      <td>0.426905</td>\n      <td>0.434177</td>\n      <td>0.397996</td>\n    </tr>\n    <tr>\n      <th>precisions</th>\n      <td>[0.7509149804383493, 0.5504625913565122, 0.444...</td>\n      <td>[0.7031673094280791, 0.4848809425722996, 0.373...</td>\n      <td>[0.7084612550657006, 0.4896214394344198, 0.379...</td>\n      <td>[0.6802181255849916, 0.45184489028725533, 0.33...</td>\n    </tr>\n    <tr>\n      <th>brevity_penalty</th>\n      <td>0.94233</td>\n      <td>0.967354</td>\n      <td>0.969607</td>\n      <td>0.975482</td>\n    </tr>\n    <tr>\n      <th>length_ratio</th>\n      <td>0.94393</td>\n      <td>0.967875</td>\n      <td>0.970059</td>\n      <td>0.975777</td>\n    </tr>\n    <tr>\n      <th>translation_length</th>\n      <td>23771</td>\n      <td>24374</td>\n      <td>24429</td>\n      <td>24573</td>\n    </tr>\n    <tr>\n      <th>reference_length</th>\n      <td>25183</td>\n      <td>25183</td>\n      <td>25183</td>\n      <td>25183</td>\n    </tr>\n    <tr>\n      <th>meteor</th>\n      <td>0.623583</td>\n      <td>0.584687</td>\n      <td>0.581728</td>\n      <td>0.56123</td>\n    </tr>\n    <tr>\n      <th>rouge1</th>\n      <td>0.721159</td>\n      <td>0.680526</td>\n      <td>0.685424</td>\n      <td>0.656187</td>\n    </tr>\n    <tr>\n      <th>rouge2</th>\n      <td>0.521065</td>\n      <td>0.456033</td>\n      <td>0.459924</td>\n      <td>0.418761</td>\n    </tr>\n    <tr>\n      <th>rougeL</th>\n      <td>0.60327</td>\n      <td>0.539927</td>\n      <td>0.551628</td>\n      <td>0.514911</td>\n    </tr>\n    <tr>\n      <th>rougeLsum</th>\n      <td>0.696069</td>\n      <td>0.65308</td>\n      <td>0.658774</td>\n      <td>0.628166</td>\n    </tr>\n    <tr>\n      <th>bertscore_precision</th>\n      <td>0.938621</td>\n      <td>0.928421</td>\n      <td>0.92896</td>\n      <td>0.923852</td>\n    </tr>\n    <tr>\n      <th>bertscore_recall</th>\n      <td>0.929713</td>\n      <td>0.92023</td>\n      <td>0.920721</td>\n      <td>0.916383</td>\n    </tr>\n    <tr>\n      <th>bertscore_f1</th>\n      <td>0.934078</td>\n      <td>0.92423</td>\n      <td>0.92476</td>\n      <td>0.920042</td>\n    </tr>\n  </tbody>\n</table>\n</div>"
     },
     "execution_count": 19,
     "metadata": {},
     "output_type": "execute_result"
    }
   ],
   "source": [
    "# Show the average news data as a dataframe\n",
    "df_percentage_50 = pd.DataFrame(percentage_50_data['a'])\n",
    "df_percentage_50"
   ],
   "metadata": {
    "collapsed": false,
    "ExecuteTime": {
     "start_time": "2023-06-08T12:45:13.492207Z",
     "end_time": "2023-06-08T12:45:13.521752Z"
    }
   }
  },
  {
   "cell_type": "markdown",
   "source": [
    "## (4).Rate 0.65"
   ],
   "metadata": {
    "collapsed": false
   }
  },
  {
   "cell_type": "code",
   "execution_count": 20,
   "outputs": [],
   "source": [
    "# load the rate 0.65 data\n",
    "percentage_65 = {}\n",
    "\n",
    "for key, value in data.items():\n",
    "    if '0.65' in key:\n",
    "        percentage_65[key] = value"
   ],
   "metadata": {
    "collapsed": false,
    "ExecuteTime": {
     "start_time": "2023-06-08T12:46:32.237877Z",
     "end_time": "2023-06-08T12:46:32.266903Z"
    }
   }
  },
  {
   "cell_type": "code",
   "execution_count": 21,
   "outputs": [
    {
     "data": {
      "text/plain": "dict_keys(['answer_vicuna-7B_summarisation_arxiv_0.65.pkl', 'answer_vicuna-7B_reconstruction_arxiv_0.65.pkl', 'answer_vicuna-13B_summarisation_arxiv_0.65.pkl', 'answer_vicuna-7B_qa_news_0.65.pkl', 'answer_vicuna-13B_reconstruction_news_0.65.pkl', 'answer_vicuna-13B_summarisation_news_0.65.pkl', 'answer_vicuna-7B_reconstruction_news_0.65.pkl', 'answer_vicuna-7B_qa_arxiv_0.65.pkl', 'answer_vicuna-13B_qa_news_0.65.pkl', 'answer_vicuna-13B_reconstruction_arxiv_0.65.pkl', 'answer_vicuna-7B_summarisation_news_0.65.pkl', 'answer_vicuna-13B_qa_arxiv_0.65.pkl'])"
     },
     "execution_count": 21,
     "metadata": {},
     "output_type": "execute_result"
    }
   ],
   "source": [
    "percentage_65.keys()"
   ],
   "metadata": {
    "collapsed": false,
    "ExecuteTime": {
     "start_time": "2023-06-08T12:46:40.270051Z",
     "end_time": "2023-06-08T12:46:40.295284Z"
    }
   }
  },
  {
   "cell_type": "code",
   "execution_count": 22,
   "outputs": [
    {
     "name": "stdout",
     "output_type": "stream",
     "text": [
      "{'a': {'self-info-phrase': {'bleu': 0.4124799166654756, 'precisions': [0.6882552313586796, 0.4662402011536755, 0.3626781472684085, 0.29965727909402473], 'brevity_penalty': 0.9545011219741472, 'length_ratio': 0.9555054914108702, 'translation_length': 27144, 'reference_length': 28408, 'meteor': 0.5339487746958341, 'rouge1': 0.6664251698523094, 'rouge2': 0.44606518042111, 'rougeL': 0.5183346130748925, 'rougeLsum': 0.6390369048321534, 'bertscore_precision': 0.9191678887605668, 'bertscore_recall': 0.908146892786026, 'bertscore_f1': 0.9135727423429489}, 'Random-phrase': {'bleu': 0.4081633854086722, 'precisions': [0.6901260504201681, 0.4720967013104383, 0.36706229210765046, 0.30186674760965243], 'brevity_penalty': 0.9363871272564492, 'length_ratio': 0.9383272317656998, 'translation_length': 26656, 'reference_length': 28408, 'meteor': 0.524273771081444, 'rouge1': 0.6603290101990151, 'rouge2': 0.44531860637435056, 'rougeL': 0.5138170739307372, 'rougeLsum': 0.6329269610580661, 'bertscore_precision': 0.9196618038415909, 'bertscore_recall': 0.9071852362155914, 'bertscore_f1': 0.9132710367441177}, 'self-info-token': {'bleu': 0.38188122649929396, 'precisions': [0.6743720491029273, 0.4416303317535545, 0.3407421503330162, 0.2806494746895893], 'brevity_penalty': 0.9295894185653435, 'length_ratio': 0.9319557871022247, 'translation_length': 26475, 'reference_length': 28408, 'meteor': 0.5041766815306928, 'rouge1': 0.637649469668786, 'rouge2': 0.40895387999234556, 'rougeL': 0.4925690266645818, 'rougeLsum': 0.6106844510147651, 'bertscore_precision': 0.9142024958133698, 'bertscore_recall': 0.9016674816608429, 'bertscore_f1': 0.9077971321344376}, 'Random-token': {'bleu': 0.3752495354461442, 'precisions': [0.6375657614104934, 0.4097103310502283, 0.31046828010883576, 0.25427565392354123], 'brevity_penalty': 0.9902370782810286, 'length_ratio': 0.9902844269219938, 'translation_length': 28132, 'reference_length': 28408, 'meteor': 0.4924347375664634, 'rouge1': 0.6322255951333069, 'rouge2': 0.4030443185925877, 'rougeL': 0.48025910844424724, 'rougeLsum': 0.6049325692131983, 'bertscore_precision': 0.911079483628273, 'bertscore_recall': 0.9013108515739441, 'bertscore_f1': 0.9060899168252945}}}\n"
     ]
    }
   ],
   "source": [
    "# Average the values of 65 percentage\n",
    "percentage_65_data = {}\n",
    "\n",
    "for key, value in percentage_65.items():\n",
    "    key = key[0]\n",
    "    if key not in percentage_65_data:\n",
    "        percentage_65_data[key] = {}\n",
    "\n",
    "    for dimension in ['self-info-phrase', 'Random-phrase', 'self-info-token', 'Random-token']:\n",
    "        dimension_values = value[dimension]\n",
    "        if dimension not in percentage_65_data[key]:\n",
    "            percentage_65_data[key][dimension] = {}\n",
    "\n",
    "        for metric, metric_value in dimension_values.items():\n",
    "            if metric == 'precisions':\n",
    "                precision_values = metric_value\n",
    "                if isinstance(precision_values[0], list):\n",
    "                    average_precision = [sum(p) / len(p) for p in zip(*precision_values)]\n",
    "                else:\n",
    "                    average_precision = precision_values\n",
    "                percentage_65_data[key][dimension][metric] = average_precision\n",
    "            elif metric in ['brevity_penalty', 'length_ratio']:\n",
    "                percentage_65_data[key][dimension][metric] = metric_value\n",
    "            else:\n",
    "                percentage_65_data[key][dimension][metric] = metric_value\n",
    "\n",
    "print(percentage_65_data)"
   ],
   "metadata": {
    "collapsed": false,
    "ExecuteTime": {
     "start_time": "2023-06-08T12:47:11.321216Z",
     "end_time": "2023-06-08T12:47:11.384211Z"
    }
   }
  },
  {
   "cell_type": "code",
   "execution_count": 23,
   "outputs": [
    {
     "data": {
      "text/plain": "                                                      self-info-phrase  \\\nbleu                                                           0.41248   \nprecisions           [0.6882552313586796, 0.4662402011536755, 0.362...   \nbrevity_penalty                                               0.954501   \nlength_ratio                                                  0.955505   \ntranslation_length                                               27144   \nreference_length                                                 28408   \nmeteor                                                        0.533949   \nrouge1                                                        0.666425   \nrouge2                                                        0.446065   \nrougeL                                                        0.518335   \nrougeLsum                                                     0.639037   \nbertscore_precision                                           0.919168   \nbertscore_recall                                              0.908147   \nbertscore_f1                                                  0.913573   \n\n                                                         Random-phrase  \\\nbleu                                                          0.408163   \nprecisions           [0.6901260504201681, 0.4720967013104383, 0.367...   \nbrevity_penalty                                               0.936387   \nlength_ratio                                                  0.938327   \ntranslation_length                                               26656   \nreference_length                                                 28408   \nmeteor                                                        0.524274   \nrouge1                                                        0.660329   \nrouge2                                                        0.445319   \nrougeL                                                        0.513817   \nrougeLsum                                                     0.632927   \nbertscore_precision                                           0.919662   \nbertscore_recall                                              0.907185   \nbertscore_f1                                                  0.913271   \n\n                                                       self-info-token  \\\nbleu                                                          0.381881   \nprecisions           [0.6743720491029273, 0.4416303317535545, 0.340...   \nbrevity_penalty                                               0.929589   \nlength_ratio                                                  0.931956   \ntranslation_length                                               26475   \nreference_length                                                 28408   \nmeteor                                                        0.504177   \nrouge1                                                        0.637649   \nrouge2                                                        0.408954   \nrougeL                                                        0.492569   \nrougeLsum                                                     0.610684   \nbertscore_precision                                           0.914202   \nbertscore_recall                                              0.901667   \nbertscore_f1                                                  0.907797   \n\n                                                          Random-token  \nbleu                                                           0.37525  \nprecisions           [0.6375657614104934, 0.4097103310502283, 0.310...  \nbrevity_penalty                                               0.990237  \nlength_ratio                                                  0.990284  \ntranslation_length                                               28132  \nreference_length                                                 28408  \nmeteor                                                        0.492435  \nrouge1                                                        0.632226  \nrouge2                                                        0.403044  \nrougeL                                                        0.480259  \nrougeLsum                                                     0.604933  \nbertscore_precision                                           0.911079  \nbertscore_recall                                              0.901311  \nbertscore_f1                                                   0.90609  ",
      "text/html": "<div>\n<style scoped>\n    .dataframe tbody tr th:only-of-type {\n        vertical-align: middle;\n    }\n\n    .dataframe tbody tr th {\n        vertical-align: top;\n    }\n\n    .dataframe thead th {\n        text-align: right;\n    }\n</style>\n<table border=\"1\" class=\"dataframe\">\n  <thead>\n    <tr style=\"text-align: right;\">\n      <th></th>\n      <th>self-info-phrase</th>\n      <th>Random-phrase</th>\n      <th>self-info-token</th>\n      <th>Random-token</th>\n    </tr>\n  </thead>\n  <tbody>\n    <tr>\n      <th>bleu</th>\n      <td>0.41248</td>\n      <td>0.408163</td>\n      <td>0.381881</td>\n      <td>0.37525</td>\n    </tr>\n    <tr>\n      <th>precisions</th>\n      <td>[0.6882552313586796, 0.4662402011536755, 0.362...</td>\n      <td>[0.6901260504201681, 0.4720967013104383, 0.367...</td>\n      <td>[0.6743720491029273, 0.4416303317535545, 0.340...</td>\n      <td>[0.6375657614104934, 0.4097103310502283, 0.310...</td>\n    </tr>\n    <tr>\n      <th>brevity_penalty</th>\n      <td>0.954501</td>\n      <td>0.936387</td>\n      <td>0.929589</td>\n      <td>0.990237</td>\n    </tr>\n    <tr>\n      <th>length_ratio</th>\n      <td>0.955505</td>\n      <td>0.938327</td>\n      <td>0.931956</td>\n      <td>0.990284</td>\n    </tr>\n    <tr>\n      <th>translation_length</th>\n      <td>27144</td>\n      <td>26656</td>\n      <td>26475</td>\n      <td>28132</td>\n    </tr>\n    <tr>\n      <th>reference_length</th>\n      <td>28408</td>\n      <td>28408</td>\n      <td>28408</td>\n      <td>28408</td>\n    </tr>\n    <tr>\n      <th>meteor</th>\n      <td>0.533949</td>\n      <td>0.524274</td>\n      <td>0.504177</td>\n      <td>0.492435</td>\n    </tr>\n    <tr>\n      <th>rouge1</th>\n      <td>0.666425</td>\n      <td>0.660329</td>\n      <td>0.637649</td>\n      <td>0.632226</td>\n    </tr>\n    <tr>\n      <th>rouge2</th>\n      <td>0.446065</td>\n      <td>0.445319</td>\n      <td>0.408954</td>\n      <td>0.403044</td>\n    </tr>\n    <tr>\n      <th>rougeL</th>\n      <td>0.518335</td>\n      <td>0.513817</td>\n      <td>0.492569</td>\n      <td>0.480259</td>\n    </tr>\n    <tr>\n      <th>rougeLsum</th>\n      <td>0.639037</td>\n      <td>0.632927</td>\n      <td>0.610684</td>\n      <td>0.604933</td>\n    </tr>\n    <tr>\n      <th>bertscore_precision</th>\n      <td>0.919168</td>\n      <td>0.919662</td>\n      <td>0.914202</td>\n      <td>0.911079</td>\n    </tr>\n    <tr>\n      <th>bertscore_recall</th>\n      <td>0.908147</td>\n      <td>0.907185</td>\n      <td>0.901667</td>\n      <td>0.901311</td>\n    </tr>\n    <tr>\n      <th>bertscore_f1</th>\n      <td>0.913573</td>\n      <td>0.913271</td>\n      <td>0.907797</td>\n      <td>0.90609</td>\n    </tr>\n  </tbody>\n</table>\n</div>"
     },
     "execution_count": 23,
     "metadata": {},
     "output_type": "execute_result"
    }
   ],
   "source": [
    "# Show the average news data as a dataframe\n",
    "df_percentage_65 = pd.DataFrame(percentage_65_data['a'])\n",
    "df_percentage_65"
   ],
   "metadata": {
    "collapsed": false,
    "ExecuteTime": {
     "start_time": "2023-06-08T12:47:27.161218Z",
     "end_time": "2023-06-08T12:47:27.187306Z"
    }
   }
  },
  {
   "cell_type": "markdown",
   "source": [
    "## (5).Rate 0.8"
   ],
   "metadata": {
    "collapsed": false
   }
  },
  {
   "cell_type": "code",
   "execution_count": 24,
   "outputs": [],
   "source": [
    "# load the rate 0.8 data\n",
    "percentage_80 = {}\n",
    "\n",
    "for key, value in data.items():\n",
    "    if '0.8' in key:\n",
    "        percentage_80[key] = value"
   ],
   "metadata": {
    "collapsed": false,
    "ExecuteTime": {
     "start_time": "2023-06-08T12:48:11.743452Z",
     "end_time": "2023-06-08T12:48:11.765538Z"
    }
   }
  },
  {
   "cell_type": "code",
   "execution_count": 25,
   "outputs": [
    {
     "data": {
      "text/plain": "dict_keys(['answer_vicuna-13B_summarisation_arxiv_0.8.pkl', 'answer_vicuna-13B_qa_news_0.8.pkl', 'answer_vicuna-13B_qa_arxiv_0.8.pkl', 'answer_vicuna-7B_summarisation_news_0.8.pkl', 'answer_vicuna-7B_summarisation_arxiv_0.8.pkl', 'answer_vicuna-7B_reconstruction_arxiv_0.8.pkl', 'answer_vicuna-7B_qa_news_0.8.pkl', 'answer_vicuna-7B_reconstruction_news_0.8.pkl', 'answer_vicuna-13B_reconstruction_arxiv_0.8.pkl', 'answer_vicuna-7B_qa_arxiv_0.8.pkl', 'answer_vicuna-13B_reconstruction_news_0.8.pkl', 'answer_vicuna-13B_summarisation_news_0.8.pkl'])"
     },
     "execution_count": 25,
     "metadata": {},
     "output_type": "execute_result"
    }
   ],
   "source": [
    "percentage_80.keys()"
   ],
   "metadata": {
    "collapsed": false,
    "ExecuteTime": {
     "start_time": "2023-06-08T12:48:21.739948Z",
     "end_time": "2023-06-08T12:48:21.766677Z"
    }
   }
  },
  {
   "cell_type": "code",
   "execution_count": 29,
   "outputs": [
    {
     "name": "stdout",
     "output_type": "stream",
     "text": [
      "{'a': {'self-info-phrase': {'bleu': 0.07828678464706619, 'precisions': [0.47182233146067415, 0.14452709883103082, 0.05209077912794854, 0.02271907681211684], 'brevity_penalty': 0.8259782828525951, 'length_ratio': 0.8394988946204863, 'translation_length': 11392, 'reference_length': 13570, 'meteor': 0.28509641810832553, 'rouge1': 0.41364581544939305, 'rouge2': 0.12182012426545843, 'rougeL': 0.23474415961277306, 'rougeLsum': 0.23514841479230608, 'bertscore_precision': 0.8810387343168259, 'bertscore_recall': 0.8655300480127335, 'bertscore_f1': 0.8731453263759613}, 'Random-phrase': {'bleu': 0.07686701975295536, 'precisions': [0.4915655519384433, 0.15632161004284148, 0.060984200462916374, 0.028870590627223747], 'brevity_penalty': 0.7127244826010118, 'length_ratio': 0.7470154753131909, 'translation_length': 10137, 'reference_length': 13570, 'meteor': 0.2682419327394581, 'rouge1': 0.4070532178455347, 'rouge2': 0.12811982641454586, 'rougeL': 0.23181070858678632, 'rougeLsum': 0.231758636378912, 'bertscore_precision': 0.8781224995851517, 'bertscore_recall': 0.8623418897390366, 'bertscore_f1': 0.8700986921787262}, 'self-info-token': {'bleu': 0.0654395200210905, 'precisions': [0.4421360033375052, 0.11981489272191838, 0.038353839626644036, 0.015318784766795036], 'brevity_penalty': 0.8761231251147812, 'length_ratio': 0.8831982313927782, 'translation_length': 11985, 'reference_length': 13570, 'meteor': 0.26178753440360025, 'rouge1': 0.3896385976306629, 'rouge2': 0.09994198509466656, 'rougeL': 0.21488671383146127, 'rougeLsum': 0.21472543818857873, 'bertscore_precision': 0.8708224785327912, 'bertscore_recall': 0.8559799593687057, 'bertscore_f1': 0.8632876563072205}, 'Random-token': {'bleu': 0.045325252803473035, 'precisions': [0.43262072914678373, 0.10454808248217383, 0.028896672504378284, 0.010512870898015328], 'brevity_penalty': 0.7444612447047548, 'length_ratio': 0.772144436256448, 'translation_length': 10478, 'reference_length': 13570, 'meteor': 0.22312644275132787, 'rouge1': 0.35841117132802536, 'rouge2': 0.07877867713200665, 'rougeL': 0.19922205130177273, 'rougeLsum': 0.19879241999150649, 'bertscore_precision': 0.8672153145074845, 'bertscore_recall': 0.8490971028804779, 'bertscore_f1': 0.8579857468605041}}}\n"
     ]
    }
   ],
   "source": [
    "# Average the values of 80 percentage\n",
    "percentage_80_data = {}\n",
    "\n",
    "for key, value in percentage_80.items():\n",
    "    key = key[0]\n",
    "    if key not in percentage_80_data:\n",
    "        percentage_80_data[key] = {}\n",
    "\n",
    "    for dimension in ['self-info-phrase', 'Random-phrase', 'self-info-token', 'Random-token']:\n",
    "        dimension_values = value[dimension]\n",
    "        if dimension not in percentage_80_data[key]:\n",
    "            percentage_80_data[key][dimension] = {}\n",
    "\n",
    "        for metric, metric_value in dimension_values.items():\n",
    "            if metric == 'precisions':\n",
    "                precision_values = metric_value\n",
    "                if isinstance(precision_values[0], list):\n",
    "                    average_precision = [sum(p) / len(p) for p in zip(*precision_values)]\n",
    "                else:\n",
    "                    average_precision = precision_values\n",
    "                percentage_80_data[key][dimension][metric] = average_precision\n",
    "            elif metric in ['brevity_penalty', 'length_ratio']:\n",
    "                percentage_80_data[key][dimension][metric] = metric_value\n",
    "            else:\n",
    "                percentage_80_data[key][dimension][metric] = metric_value\n",
    "\n",
    "print(percentage_80_data)"
   ],
   "metadata": {
    "collapsed": false,
    "ExecuteTime": {
     "start_time": "2023-06-08T12:50:59.747241Z",
     "end_time": "2023-06-08T12:50:59.823832Z"
    }
   }
  },
  {
   "cell_type": "code",
   "execution_count": 30,
   "outputs": [
    {
     "data": {
      "text/plain": "                                                      self-info-phrase  \\\nbleu                                                          0.078287   \nprecisions           [0.47182233146067415, 0.14452709883103082, 0.0...   \nbrevity_penalty                                               0.825978   \nlength_ratio                                                  0.839499   \ntranslation_length                                               11392   \nreference_length                                                 13570   \nmeteor                                                        0.285096   \nrouge1                                                        0.413646   \nrouge2                                                         0.12182   \nrougeL                                                        0.234744   \nrougeLsum                                                     0.235148   \nbertscore_precision                                           0.881039   \nbertscore_recall                                               0.86553   \nbertscore_f1                                                  0.873145   \n\n                                                         Random-phrase  \\\nbleu                                                          0.076867   \nprecisions           [0.4915655519384433, 0.15632161004284148, 0.06...   \nbrevity_penalty                                               0.712724   \nlength_ratio                                                  0.747015   \ntranslation_length                                               10137   \nreference_length                                                 13570   \nmeteor                                                        0.268242   \nrouge1                                                        0.407053   \nrouge2                                                         0.12812   \nrougeL                                                        0.231811   \nrougeLsum                                                     0.231759   \nbertscore_precision                                           0.878122   \nbertscore_recall                                              0.862342   \nbertscore_f1                                                  0.870099   \n\n                                                       self-info-token  \\\nbleu                                                           0.06544   \nprecisions           [0.4421360033375052, 0.11981489272191838, 0.03...   \nbrevity_penalty                                               0.876123   \nlength_ratio                                                  0.883198   \ntranslation_length                                               11985   \nreference_length                                                 13570   \nmeteor                                                        0.261788   \nrouge1                                                        0.389639   \nrouge2                                                        0.099942   \nrougeL                                                        0.214887   \nrougeLsum                                                     0.214725   \nbertscore_precision                                           0.870822   \nbertscore_recall                                               0.85598   \nbertscore_f1                                                  0.863288   \n\n                                                          Random-token  \nbleu                                                          0.045325  \nprecisions           [0.43262072914678373, 0.10454808248217383, 0.0...  \nbrevity_penalty                                               0.744461  \nlength_ratio                                                  0.772144  \ntranslation_length                                               10478  \nreference_length                                                 13570  \nmeteor                                                        0.223126  \nrouge1                                                        0.358411  \nrouge2                                                        0.078779  \nrougeL                                                        0.199222  \nrougeLsum                                                     0.198792  \nbertscore_precision                                           0.867215  \nbertscore_recall                                              0.849097  \nbertscore_f1                                                  0.857986  ",
      "text/html": "<div>\n<style scoped>\n    .dataframe tbody tr th:only-of-type {\n        vertical-align: middle;\n    }\n\n    .dataframe tbody tr th {\n        vertical-align: top;\n    }\n\n    .dataframe thead th {\n        text-align: right;\n    }\n</style>\n<table border=\"1\" class=\"dataframe\">\n  <thead>\n    <tr style=\"text-align: right;\">\n      <th></th>\n      <th>self-info-phrase</th>\n      <th>Random-phrase</th>\n      <th>self-info-token</th>\n      <th>Random-token</th>\n    </tr>\n  </thead>\n  <tbody>\n    <tr>\n      <th>bleu</th>\n      <td>0.078287</td>\n      <td>0.076867</td>\n      <td>0.06544</td>\n      <td>0.045325</td>\n    </tr>\n    <tr>\n      <th>precisions</th>\n      <td>[0.47182233146067415, 0.14452709883103082, 0.0...</td>\n      <td>[0.4915655519384433, 0.15632161004284148, 0.06...</td>\n      <td>[0.4421360033375052, 0.11981489272191838, 0.03...</td>\n      <td>[0.43262072914678373, 0.10454808248217383, 0.0...</td>\n    </tr>\n    <tr>\n      <th>brevity_penalty</th>\n      <td>0.825978</td>\n      <td>0.712724</td>\n      <td>0.876123</td>\n      <td>0.744461</td>\n    </tr>\n    <tr>\n      <th>length_ratio</th>\n      <td>0.839499</td>\n      <td>0.747015</td>\n      <td>0.883198</td>\n      <td>0.772144</td>\n    </tr>\n    <tr>\n      <th>translation_length</th>\n      <td>11392</td>\n      <td>10137</td>\n      <td>11985</td>\n      <td>10478</td>\n    </tr>\n    <tr>\n      <th>reference_length</th>\n      <td>13570</td>\n      <td>13570</td>\n      <td>13570</td>\n      <td>13570</td>\n    </tr>\n    <tr>\n      <th>meteor</th>\n      <td>0.285096</td>\n      <td>0.268242</td>\n      <td>0.261788</td>\n      <td>0.223126</td>\n    </tr>\n    <tr>\n      <th>rouge1</th>\n      <td>0.413646</td>\n      <td>0.407053</td>\n      <td>0.389639</td>\n      <td>0.358411</td>\n    </tr>\n    <tr>\n      <th>rouge2</th>\n      <td>0.12182</td>\n      <td>0.12812</td>\n      <td>0.099942</td>\n      <td>0.078779</td>\n    </tr>\n    <tr>\n      <th>rougeL</th>\n      <td>0.234744</td>\n      <td>0.231811</td>\n      <td>0.214887</td>\n      <td>0.199222</td>\n    </tr>\n    <tr>\n      <th>rougeLsum</th>\n      <td>0.235148</td>\n      <td>0.231759</td>\n      <td>0.214725</td>\n      <td>0.198792</td>\n    </tr>\n    <tr>\n      <th>bertscore_precision</th>\n      <td>0.881039</td>\n      <td>0.878122</td>\n      <td>0.870822</td>\n      <td>0.867215</td>\n    </tr>\n    <tr>\n      <th>bertscore_recall</th>\n      <td>0.86553</td>\n      <td>0.862342</td>\n      <td>0.85598</td>\n      <td>0.849097</td>\n    </tr>\n    <tr>\n      <th>bertscore_f1</th>\n      <td>0.873145</td>\n      <td>0.870099</td>\n      <td>0.863288</td>\n      <td>0.857986</td>\n    </tr>\n  </tbody>\n</table>\n</div>"
     },
     "execution_count": 30,
     "metadata": {},
     "output_type": "execute_result"
    }
   ],
   "source": [
    "# Show the average news data as a dataframe\n",
    "df_percentage_80 = pd.DataFrame(percentage_80_data['a'])\n",
    "df_percentage_80"
   ],
   "metadata": {
    "collapsed": false,
    "ExecuteTime": {
     "start_time": "2023-06-08T12:51:01.921164Z",
     "end_time": "2023-06-08T12:51:01.949536Z"
    }
   }
  },
  {
   "cell_type": "markdown",
   "source": [
    "# 2. Compare the results"
   ],
   "metadata": {
    "collapsed": false
   }
  },
  {
   "cell_type": "code",
   "execution_count": 31,
   "outputs": [
    {
     "data": {
      "text/plain": "                                                                   0.2  \\\n                                                      self-info-phrase   \nbleu                                                          0.356125   \nprecisions           [0.5809518387794603, 0.39098820565670445, 0.29...   \nbrevity_penalty                                                    1.0   \nlength_ratio                                                  1.114806   \ntranslation_length                                               17566   \nreference_length                                                 15757   \nmeteor                                                        0.533305   \nrouge1                                                         0.60226   \nrouge2                                                          0.3992   \nrougeL                                                        0.472221   \nrougeLsum                                                     0.472724   \nbertscore_precision                                            0.90743   \nbertscore_recall                                              0.913642   \nbertscore_f1                                                  0.910262   \n\n                                                                        \\\n                                                         Random-phrase   \nbleu                                                          0.313224   \nprecisions           [0.5788890939287692, 0.3570588599368695, 0.249...   \nbrevity_penalty                                                    1.0   \nlength_ratio                                                  1.031732   \ntranslation_length                                               16257   \nreference_length                                                 15757   \nmeteor                                                        0.496413   \nrouge1                                                        0.579026   \nrouge2                                                        0.359126   \nrougeL                                                        0.435979   \nrougeLsum                                                     0.435618   \nbertscore_precision                                           0.905615   \nbertscore_recall                                              0.904814   \nbertscore_f1                                                  0.904994   \n\n                                                                        \\\n                                                       self-info-token   \nbleu                                                          0.313363   \nprecisions           [0.5612684031710079, 0.35079726651480636, 0.25...   \nbrevity_penalty                                                    1.0   \nlength_ratio                                                  1.120772   \ntranslation_length                                               17660   \nreference_length                                                 15757   \nmeteor                                                        0.514852   \nrouge1                                                        0.583761   \nrouge2                                                         0.36132   \nrougeL                                                        0.448107   \nrougeLsum                                                     0.449951   \nbertscore_precision                                           0.904617   \nbertscore_recall                                               0.90576   \nbertscore_f1                                                  0.904973   \n\n                                                                        \\\n                                                          Random-token   \nbleu                                                          0.269699   \nprecisions           [0.5750513610683102, 0.3204962522615663, 0.207...   \nbrevity_penalty                                               0.988447   \nlength_ratio                                                  0.988513   \ntranslation_length                                               15576   \nreference_length                                                 15757   \nmeteor                                                        0.462727   \nrouge1                                                        0.567405   \nrouge2                                                        0.319143   \nrougeL                                                        0.418214   \nrougeLsum                                                     0.417517   \nbertscore_precision                                           0.901575   \nbertscore_recall                                              0.898167   \nbertscore_f1                                                  0.899727   \n\n                                                                  0.35  \\\n                                                      self-info-phrase   \nbleu                                                          0.462622   \nprecisions           [0.6824103577622717, 0.515636990266428, 0.4034...   \nbrevity_penalty                                                    1.0   \nlength_ratio                                                  1.217412   \ntranslation_length                                               74379   \nreference_length                                                 61096   \nmeteor                                                          0.5531   \nrouge1                                                        0.673751   \nrouge2                                                        0.522717   \nrougeL                                                        0.567375   \nrougeLsum                                                       0.6192   \nbertscore_precision                                           0.872363   \nbertscore_recall                                              0.894084   \nbertscore_f1                                                  0.882927   \n\n                                                                        \\\n                                                         Random-phrase   \nbleu                                                          0.435218   \nprecisions           [0.7021775831974132, 0.4942975040834456, 0.367...   \nbrevity_penalty                                                    1.0   \nlength_ratio                                                  1.144003   \ntranslation_length                                               69894   \nreference_length                                                 61096   \nmeteor                                                        0.516828   \nrouge1                                                        0.667078   \nrouge2                                                        0.475663   \nrougeL                                                        0.547465   \nrougeLsum                                                     0.577725   \nbertscore_precision                                           0.769808   \nbertscore_recall                                              0.861513   \nbertscore_f1                                                  0.813009   \n\n                                                                        \\\n                                                       self-info-token   \nbleu                                                           0.19383   \nprecisions           [0.865063639721933, 0.6255349260369983, 0.4723...   \nbrevity_penalty                                               0.349314   \nlength_ratio                                                  0.487381   \ntranslation_length                                               29777   \nreference_length                                                 61096   \nmeteor                                                        0.330376   \nrouge1                                                        0.544743   \nrouge2                                                        0.390389   \nrougeL                                                        0.487213   \nrougeLsum                                                     0.487514   \nbertscore_precision                                           0.901681   \nbertscore_recall                                              0.882198   \nbertscore_f1                                                  0.891676   \n\n                                                                        \\\n                                                          Random-token   \nbleu                                                          0.117414   \nprecisions           [0.8208609271523178, 0.5073485967503693, 0.317...   \nbrevity_penalty                                               0.287127   \nlength_ratio                                                  0.444874   \ntranslation_length                                               27180   \nreference_length                                                 61096   \nmeteor                                                        0.266388   \nrouge1                                                        0.477136   \nrouge2                                                        0.284281   \nrougeL                                                        0.391414   \nrougeLsum                                                     0.393281   \nbertscore_precision                                           0.875293   \nbertscore_recall                                              0.860714   \nbertscore_f1                                                  0.867721   \n\n                                                                   0.5  \\\n                                                      self-info-phrase   \nbleu                                                          0.481272   \nprecisions           [0.7509149804383493, 0.5504625913565122, 0.444...   \nbrevity_penalty                                                0.94233   \nlength_ratio                                                   0.94393   \ntranslation_length                                               23771   \nreference_length                                                 25183   \nmeteor                                                        0.623583   \nrouge1                                                        0.721159   \nrouge2                                                        0.521065   \nrougeL                                                         0.60327   \nrougeLsum                                                     0.696069   \nbertscore_precision                                           0.938621   \nbertscore_recall                                              0.929713   \nbertscore_f1                                                  0.934078   \n\n                                                                        \\\n                                                         Random-phrase   \nbleu                                                          0.426905   \nprecisions           [0.7031673094280791, 0.4848809425722996, 0.373...   \nbrevity_penalty                                               0.967354   \nlength_ratio                                                  0.967875   \ntranslation_length                                               24374   \nreference_length                                                 25183   \nmeteor                                                        0.584687   \nrouge1                                                        0.680526   \nrouge2                                                        0.456033   \nrougeL                                                        0.539927   \nrougeLsum                                                      0.65308   \nbertscore_precision                                           0.928421   \nbertscore_recall                                               0.92023   \nbertscore_f1                                                   0.92423   \n\n                                                                        \\\n                                                       self-info-token   \nbleu                                                          0.434177   \nprecisions           [0.7084612550657006, 0.4896214394344198, 0.379...   \nbrevity_penalty                                               0.969607   \nlength_ratio                                                  0.970059   \ntranslation_length                                               24429   \nreference_length                                                 25183   \nmeteor                                                        0.581728   \nrouge1                                                        0.685424   \nrouge2                                                        0.459924   \nrougeL                                                        0.551628   \nrougeLsum                                                     0.658774   \nbertscore_precision                                            0.92896   \nbertscore_recall                                              0.920721   \nbertscore_f1                                                   0.92476   \n\n                                                                        \\\n                                                          Random-token   \nbleu                                                          0.397996   \nprecisions           [0.6802181255849916, 0.45184489028725533, 0.33...   \nbrevity_penalty                                               0.975482   \nlength_ratio                                                  0.975777   \ntranslation_length                                               24573   \nreference_length                                                 25183   \nmeteor                                                         0.56123   \nrouge1                                                        0.656187   \nrouge2                                                        0.418761   \nrougeL                                                        0.514911   \nrougeLsum                                                     0.628166   \nbertscore_precision                                           0.923852   \nbertscore_recall                                              0.916383   \nbertscore_f1                                                  0.920042   \n\n                                                                  0.65  \\\n                                                      self-info-phrase   \nbleu                                                           0.41248   \nprecisions           [0.6882552313586796, 0.4662402011536755, 0.362...   \nbrevity_penalty                                               0.954501   \nlength_ratio                                                  0.955505   \ntranslation_length                                               27144   \nreference_length                                                 28408   \nmeteor                                                        0.533949   \nrouge1                                                        0.666425   \nrouge2                                                        0.446065   \nrougeL                                                        0.518335   \nrougeLsum                                                     0.639037   \nbertscore_precision                                           0.919168   \nbertscore_recall                                              0.908147   \nbertscore_f1                                                  0.913573   \n\n                                                                        \\\n                                                         Random-phrase   \nbleu                                                          0.408163   \nprecisions           [0.6901260504201681, 0.4720967013104383, 0.367...   \nbrevity_penalty                                               0.936387   \nlength_ratio                                                  0.938327   \ntranslation_length                                               26656   \nreference_length                                                 28408   \nmeteor                                                        0.524274   \nrouge1                                                        0.660329   \nrouge2                                                        0.445319   \nrougeL                                                        0.513817   \nrougeLsum                                                     0.632927   \nbertscore_precision                                           0.919662   \nbertscore_recall                                              0.907185   \nbertscore_f1                                                  0.913271   \n\n                                                                        \\\n                                                       self-info-token   \nbleu                                                          0.381881   \nprecisions           [0.6743720491029273, 0.4416303317535545, 0.340...   \nbrevity_penalty                                               0.929589   \nlength_ratio                                                  0.931956   \ntranslation_length                                               26475   \nreference_length                                                 28408   \nmeteor                                                        0.504177   \nrouge1                                                        0.637649   \nrouge2                                                        0.408954   \nrougeL                                                        0.492569   \nrougeLsum                                                     0.610684   \nbertscore_precision                                           0.914202   \nbertscore_recall                                              0.901667   \nbertscore_f1                                                  0.907797   \n\n                                                                        \\\n                                                          Random-token   \nbleu                                                           0.37525   \nprecisions           [0.6375657614104934, 0.4097103310502283, 0.310...   \nbrevity_penalty                                               0.990237   \nlength_ratio                                                  0.990284   \ntranslation_length                                               28132   \nreference_length                                                 28408   \nmeteor                                                        0.492435   \nrouge1                                                        0.632226   \nrouge2                                                        0.403044   \nrougeL                                                        0.480259   \nrougeLsum                                                     0.604933   \nbertscore_precision                                           0.911079   \nbertscore_recall                                              0.901311   \nbertscore_f1                                                   0.90609   \n\n                                                                   0.8  \\\n                                                      self-info-phrase   \nbleu                                                          0.078287   \nprecisions           [0.47182233146067415, 0.14452709883103082, 0.0...   \nbrevity_penalty                                               0.825978   \nlength_ratio                                                  0.839499   \ntranslation_length                                               11392   \nreference_length                                                 13570   \nmeteor                                                        0.285096   \nrouge1                                                        0.413646   \nrouge2                                                         0.12182   \nrougeL                                                        0.234744   \nrougeLsum                                                     0.235148   \nbertscore_precision                                           0.881039   \nbertscore_recall                                               0.86553   \nbertscore_f1                                                  0.873145   \n\n                                                                        \\\n                                                         Random-phrase   \nbleu                                                          0.076867   \nprecisions           [0.4915655519384433, 0.15632161004284148, 0.06...   \nbrevity_penalty                                               0.712724   \nlength_ratio                                                  0.747015   \ntranslation_length                                               10137   \nreference_length                                                 13570   \nmeteor                                                        0.268242   \nrouge1                                                        0.407053   \nrouge2                                                         0.12812   \nrougeL                                                        0.231811   \nrougeLsum                                                     0.231759   \nbertscore_precision                                           0.878122   \nbertscore_recall                                              0.862342   \nbertscore_f1                                                  0.870099   \n\n                                                                        \\\n                                                       self-info-token   \nbleu                                                           0.06544   \nprecisions           [0.4421360033375052, 0.11981489272191838, 0.03...   \nbrevity_penalty                                               0.876123   \nlength_ratio                                                  0.883198   \ntranslation_length                                               11985   \nreference_length                                                 13570   \nmeteor                                                        0.261788   \nrouge1                                                        0.389639   \nrouge2                                                        0.099942   \nrougeL                                                        0.214887   \nrougeLsum                                                     0.214725   \nbertscore_precision                                           0.870822   \nbertscore_recall                                               0.85598   \nbertscore_f1                                                  0.863288   \n\n                                                                        \n                                                          Random-token  \nbleu                                                          0.045325  \nprecisions           [0.43262072914678373, 0.10454808248217383, 0.0...  \nbrevity_penalty                                               0.744461  \nlength_ratio                                                  0.772144  \ntranslation_length                                               10478  \nreference_length                                                 13570  \nmeteor                                                        0.223126  \nrouge1                                                        0.358411  \nrouge2                                                        0.078779  \nrougeL                                                        0.199222  \nrougeLsum                                                     0.198792  \nbertscore_precision                                           0.867215  \nbertscore_recall                                              0.849097  \nbertscore_f1                                                  0.857986  ",
      "text/html": "<div>\n<style scoped>\n    .dataframe tbody tr th:only-of-type {\n        vertical-align: middle;\n    }\n\n    .dataframe tbody tr th {\n        vertical-align: top;\n    }\n\n    .dataframe thead tr th {\n        text-align: left;\n    }\n</style>\n<table border=\"1\" class=\"dataframe\">\n  <thead>\n    <tr>\n      <th></th>\n      <th colspan=\"4\" halign=\"left\">0.2</th>\n      <th colspan=\"4\" halign=\"left\">0.35</th>\n      <th colspan=\"4\" halign=\"left\">0.5</th>\n      <th colspan=\"4\" halign=\"left\">0.65</th>\n      <th colspan=\"4\" halign=\"left\">0.8</th>\n    </tr>\n    <tr>\n      <th></th>\n      <th>self-info-phrase</th>\n      <th>Random-phrase</th>\n      <th>self-info-token</th>\n      <th>Random-token</th>\n      <th>self-info-phrase</th>\n      <th>Random-phrase</th>\n      <th>self-info-token</th>\n      <th>Random-token</th>\n      <th>self-info-phrase</th>\n      <th>Random-phrase</th>\n      <th>self-info-token</th>\n      <th>Random-token</th>\n      <th>self-info-phrase</th>\n      <th>Random-phrase</th>\n      <th>self-info-token</th>\n      <th>Random-token</th>\n      <th>self-info-phrase</th>\n      <th>Random-phrase</th>\n      <th>self-info-token</th>\n      <th>Random-token</th>\n    </tr>\n  </thead>\n  <tbody>\n    <tr>\n      <th>bleu</th>\n      <td>0.356125</td>\n      <td>0.313224</td>\n      <td>0.313363</td>\n      <td>0.269699</td>\n      <td>0.462622</td>\n      <td>0.435218</td>\n      <td>0.19383</td>\n      <td>0.117414</td>\n      <td>0.481272</td>\n      <td>0.426905</td>\n      <td>0.434177</td>\n      <td>0.397996</td>\n      <td>0.41248</td>\n      <td>0.408163</td>\n      <td>0.381881</td>\n      <td>0.37525</td>\n      <td>0.078287</td>\n      <td>0.076867</td>\n      <td>0.06544</td>\n      <td>0.045325</td>\n    </tr>\n    <tr>\n      <th>precisions</th>\n      <td>[0.5809518387794603, 0.39098820565670445, 0.29...</td>\n      <td>[0.5788890939287692, 0.3570588599368695, 0.249...</td>\n      <td>[0.5612684031710079, 0.35079726651480636, 0.25...</td>\n      <td>[0.5750513610683102, 0.3204962522615663, 0.207...</td>\n      <td>[0.6824103577622717, 0.515636990266428, 0.4034...</td>\n      <td>[0.7021775831974132, 0.4942975040834456, 0.367...</td>\n      <td>[0.865063639721933, 0.6255349260369983, 0.4723...</td>\n      <td>[0.8208609271523178, 0.5073485967503693, 0.317...</td>\n      <td>[0.7509149804383493, 0.5504625913565122, 0.444...</td>\n      <td>[0.7031673094280791, 0.4848809425722996, 0.373...</td>\n      <td>[0.7084612550657006, 0.4896214394344198, 0.379...</td>\n      <td>[0.6802181255849916, 0.45184489028725533, 0.33...</td>\n      <td>[0.6882552313586796, 0.4662402011536755, 0.362...</td>\n      <td>[0.6901260504201681, 0.4720967013104383, 0.367...</td>\n      <td>[0.6743720491029273, 0.4416303317535545, 0.340...</td>\n      <td>[0.6375657614104934, 0.4097103310502283, 0.310...</td>\n      <td>[0.47182233146067415, 0.14452709883103082, 0.0...</td>\n      <td>[0.4915655519384433, 0.15632161004284148, 0.06...</td>\n      <td>[0.4421360033375052, 0.11981489272191838, 0.03...</td>\n      <td>[0.43262072914678373, 0.10454808248217383, 0.0...</td>\n    </tr>\n    <tr>\n      <th>brevity_penalty</th>\n      <td>1.0</td>\n      <td>1.0</td>\n      <td>1.0</td>\n      <td>0.988447</td>\n      <td>1.0</td>\n      <td>1.0</td>\n      <td>0.349314</td>\n      <td>0.287127</td>\n      <td>0.94233</td>\n      <td>0.967354</td>\n      <td>0.969607</td>\n      <td>0.975482</td>\n      <td>0.954501</td>\n      <td>0.936387</td>\n      <td>0.929589</td>\n      <td>0.990237</td>\n      <td>0.825978</td>\n      <td>0.712724</td>\n      <td>0.876123</td>\n      <td>0.744461</td>\n    </tr>\n    <tr>\n      <th>length_ratio</th>\n      <td>1.114806</td>\n      <td>1.031732</td>\n      <td>1.120772</td>\n      <td>0.988513</td>\n      <td>1.217412</td>\n      <td>1.144003</td>\n      <td>0.487381</td>\n      <td>0.444874</td>\n      <td>0.94393</td>\n      <td>0.967875</td>\n      <td>0.970059</td>\n      <td>0.975777</td>\n      <td>0.955505</td>\n      <td>0.938327</td>\n      <td>0.931956</td>\n      <td>0.990284</td>\n      <td>0.839499</td>\n      <td>0.747015</td>\n      <td>0.883198</td>\n      <td>0.772144</td>\n    </tr>\n    <tr>\n      <th>translation_length</th>\n      <td>17566</td>\n      <td>16257</td>\n      <td>17660</td>\n      <td>15576</td>\n      <td>74379</td>\n      <td>69894</td>\n      <td>29777</td>\n      <td>27180</td>\n      <td>23771</td>\n      <td>24374</td>\n      <td>24429</td>\n      <td>24573</td>\n      <td>27144</td>\n      <td>26656</td>\n      <td>26475</td>\n      <td>28132</td>\n      <td>11392</td>\n      <td>10137</td>\n      <td>11985</td>\n      <td>10478</td>\n    </tr>\n    <tr>\n      <th>reference_length</th>\n      <td>15757</td>\n      <td>15757</td>\n      <td>15757</td>\n      <td>15757</td>\n      <td>61096</td>\n      <td>61096</td>\n      <td>61096</td>\n      <td>61096</td>\n      <td>25183</td>\n      <td>25183</td>\n      <td>25183</td>\n      <td>25183</td>\n      <td>28408</td>\n      <td>28408</td>\n      <td>28408</td>\n      <td>28408</td>\n      <td>13570</td>\n      <td>13570</td>\n      <td>13570</td>\n      <td>13570</td>\n    </tr>\n    <tr>\n      <th>meteor</th>\n      <td>0.533305</td>\n      <td>0.496413</td>\n      <td>0.514852</td>\n      <td>0.462727</td>\n      <td>0.5531</td>\n      <td>0.516828</td>\n      <td>0.330376</td>\n      <td>0.266388</td>\n      <td>0.623583</td>\n      <td>0.584687</td>\n      <td>0.581728</td>\n      <td>0.56123</td>\n      <td>0.533949</td>\n      <td>0.524274</td>\n      <td>0.504177</td>\n      <td>0.492435</td>\n      <td>0.285096</td>\n      <td>0.268242</td>\n      <td>0.261788</td>\n      <td>0.223126</td>\n    </tr>\n    <tr>\n      <th>rouge1</th>\n      <td>0.60226</td>\n      <td>0.579026</td>\n      <td>0.583761</td>\n      <td>0.567405</td>\n      <td>0.673751</td>\n      <td>0.667078</td>\n      <td>0.544743</td>\n      <td>0.477136</td>\n      <td>0.721159</td>\n      <td>0.680526</td>\n      <td>0.685424</td>\n      <td>0.656187</td>\n      <td>0.666425</td>\n      <td>0.660329</td>\n      <td>0.637649</td>\n      <td>0.632226</td>\n      <td>0.413646</td>\n      <td>0.407053</td>\n      <td>0.389639</td>\n      <td>0.358411</td>\n    </tr>\n    <tr>\n      <th>rouge2</th>\n      <td>0.3992</td>\n      <td>0.359126</td>\n      <td>0.36132</td>\n      <td>0.319143</td>\n      <td>0.522717</td>\n      <td>0.475663</td>\n      <td>0.390389</td>\n      <td>0.284281</td>\n      <td>0.521065</td>\n      <td>0.456033</td>\n      <td>0.459924</td>\n      <td>0.418761</td>\n      <td>0.446065</td>\n      <td>0.445319</td>\n      <td>0.408954</td>\n      <td>0.403044</td>\n      <td>0.12182</td>\n      <td>0.12812</td>\n      <td>0.099942</td>\n      <td>0.078779</td>\n    </tr>\n    <tr>\n      <th>rougeL</th>\n      <td>0.472221</td>\n      <td>0.435979</td>\n      <td>0.448107</td>\n      <td>0.418214</td>\n      <td>0.567375</td>\n      <td>0.547465</td>\n      <td>0.487213</td>\n      <td>0.391414</td>\n      <td>0.60327</td>\n      <td>0.539927</td>\n      <td>0.551628</td>\n      <td>0.514911</td>\n      <td>0.518335</td>\n      <td>0.513817</td>\n      <td>0.492569</td>\n      <td>0.480259</td>\n      <td>0.234744</td>\n      <td>0.231811</td>\n      <td>0.214887</td>\n      <td>0.199222</td>\n    </tr>\n    <tr>\n      <th>rougeLsum</th>\n      <td>0.472724</td>\n      <td>0.435618</td>\n      <td>0.449951</td>\n      <td>0.417517</td>\n      <td>0.6192</td>\n      <td>0.577725</td>\n      <td>0.487514</td>\n      <td>0.393281</td>\n      <td>0.696069</td>\n      <td>0.65308</td>\n      <td>0.658774</td>\n      <td>0.628166</td>\n      <td>0.639037</td>\n      <td>0.632927</td>\n      <td>0.610684</td>\n      <td>0.604933</td>\n      <td>0.235148</td>\n      <td>0.231759</td>\n      <td>0.214725</td>\n      <td>0.198792</td>\n    </tr>\n    <tr>\n      <th>bertscore_precision</th>\n      <td>0.90743</td>\n      <td>0.905615</td>\n      <td>0.904617</td>\n      <td>0.901575</td>\n      <td>0.872363</td>\n      <td>0.769808</td>\n      <td>0.901681</td>\n      <td>0.875293</td>\n      <td>0.938621</td>\n      <td>0.928421</td>\n      <td>0.92896</td>\n      <td>0.923852</td>\n      <td>0.919168</td>\n      <td>0.919662</td>\n      <td>0.914202</td>\n      <td>0.911079</td>\n      <td>0.881039</td>\n      <td>0.878122</td>\n      <td>0.870822</td>\n      <td>0.867215</td>\n    </tr>\n    <tr>\n      <th>bertscore_recall</th>\n      <td>0.913642</td>\n      <td>0.904814</td>\n      <td>0.90576</td>\n      <td>0.898167</td>\n      <td>0.894084</td>\n      <td>0.861513</td>\n      <td>0.882198</td>\n      <td>0.860714</td>\n      <td>0.929713</td>\n      <td>0.92023</td>\n      <td>0.920721</td>\n      <td>0.916383</td>\n      <td>0.908147</td>\n      <td>0.907185</td>\n      <td>0.901667</td>\n      <td>0.901311</td>\n      <td>0.86553</td>\n      <td>0.862342</td>\n      <td>0.85598</td>\n      <td>0.849097</td>\n    </tr>\n    <tr>\n      <th>bertscore_f1</th>\n      <td>0.910262</td>\n      <td>0.904994</td>\n      <td>0.904973</td>\n      <td>0.899727</td>\n      <td>0.882927</td>\n      <td>0.813009</td>\n      <td>0.891676</td>\n      <td>0.867721</td>\n      <td>0.934078</td>\n      <td>0.92423</td>\n      <td>0.92476</td>\n      <td>0.920042</td>\n      <td>0.913573</td>\n      <td>0.913271</td>\n      <td>0.907797</td>\n      <td>0.90609</td>\n      <td>0.873145</td>\n      <td>0.870099</td>\n      <td>0.863288</td>\n      <td>0.857986</td>\n    </tr>\n  </tbody>\n</table>\n</div>"
     },
     "execution_count": 31,
     "metadata": {},
     "output_type": "execute_result"
    }
   ],
   "source": [
    "# Compare the results in a single dataframe\n",
    "df_delete_rate_compare = pd.concat([df_percentage_20, df_percentage_35,df_percentage_50,df_percentage_65,df_percentage_80],axis=1,keys=('0.2','0.35','0.5','0.65','0.8'))\n",
    "df_delete_rate_compare"
   ],
   "metadata": {
    "collapsed": false,
    "ExecuteTime": {
     "start_time": "2023-06-08T12:53:12.175521Z",
     "end_time": "2023-06-08T12:53:12.242107Z"
    }
   }
  }
 ],
 "metadata": {
  "kernelspec": {
   "display_name": "Python 3",
   "language": "python",
   "name": "python3"
  },
  "language_info": {
   "codemirror_mode": {
    "name": "ipython",
    "version": 2
   },
   "file_extension": ".py",
   "mimetype": "text/x-python",
   "name": "python",
   "nbconvert_exporter": "python",
   "pygments_lexer": "ipython2",
   "version": "2.7.6"
  }
 },
 "nbformat": 4,
 "nbformat_minor": 0
}
